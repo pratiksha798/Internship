{
 "cells": [
  {
   "cell_type": "code",
   "execution_count": 2,
   "id": "bed25600",
   "metadata": {},
   "outputs": [
    {
     "data": {
      "text/plain": [
       "0"
      ]
     },
     "execution_count": 2,
     "metadata": {},
     "output_type": "execute_result"
    }
   ],
   "source": [
    "#1. Which of the following operators is used to calculate remainder in a division?\n",
    "#Ans = Modulo operator (%), option C\n",
    "# Example :\n",
    "10%2"
   ]
  },
  {
   "cell_type": "code",
   "execution_count": 3,
   "id": "d2de2816",
   "metadata": {},
   "outputs": [
    {
     "data": {
      "text/plain": [
       "3"
      ]
     },
     "execution_count": 3,
     "metadata": {},
     "output_type": "execute_result"
    }
   ],
   "source": [
    "15%4"
   ]
  },
  {
   "cell_type": "code",
   "execution_count": 4,
   "id": "eebcc6c2",
   "metadata": {},
   "outputs": [
    {
     "data": {
      "text/plain": [
       "0"
      ]
     },
     "execution_count": 4,
     "metadata": {},
     "output_type": "execute_result"
    }
   ],
   "source": [
    "#2. In python 2//3 is equal to?\n",
    "#Ans = 0, option B\n",
    "2//3"
   ]
  },
  {
   "cell_type": "code",
   "execution_count": 6,
   "id": "cf3170ad",
   "metadata": {},
   "outputs": [
    {
     "data": {
      "text/plain": [
       "24"
      ]
     },
     "execution_count": 6,
     "metadata": {},
     "output_type": "execute_result"
    }
   ],
   "source": [
    "#3. In python, 6<<2 is equal to?\n",
    "#Ans = 24, option C\n",
    "6<<2"
   ]
  },
  {
   "cell_type": "code",
   "execution_count": 7,
   "id": "f8baca3f",
   "metadata": {},
   "outputs": [
    {
     "data": {
      "text/plain": [
       "2"
      ]
     },
     "execution_count": 7,
     "metadata": {},
     "output_type": "execute_result"
    }
   ],
   "source": [
    "#4. In python, 6&2 will give which of the following as output?\n",
    "#Ans = 2, option A\n",
    "6&2"
   ]
  },
  {
   "cell_type": "code",
   "execution_count": 8,
   "id": "bb9be8b6",
   "metadata": {},
   "outputs": [
    {
     "data": {
      "text/plain": [
       "6"
      ]
     },
     "execution_count": 8,
     "metadata": {},
     "output_type": "execute_result"
    }
   ],
   "source": [
    "#5. In python, 6|2 will give which of the following as output?\n",
    "#Ans = 6, option D\n",
    "6|2"
   ]
  },
  {
   "cell_type": "code",
   "execution_count": 10,
   "id": "48ea2e2c",
   "metadata": {},
   "outputs": [],
   "source": [
    "#6.  What does the finally keyword denotes in python?\n",
    "#Ans = option B, It encloses the lines of code which will be executed if any error occurs while executing the lines of code in the try block\n"
   ]
  },
  {
   "cell_type": "code",
   "execution_count": 11,
   "id": "0254ee23",
   "metadata": {},
   "outputs": [],
   "source": [
    "#7. What does raise keyword is used for in python?\n",
    "#Ans = option A) It is used to raise an exception"
   ]
  },
  {
   "cell_type": "code",
   "execution_count": 12,
   "id": "9c10924f",
   "metadata": {},
   "outputs": [],
   "source": [
    "#8. Which of the following is a common use case of yield keyword in python?\n",
    "#Ans = option C) in defining a generator"
   ]
  },
  {
   "cell_type": "code",
   "execution_count": 13,
   "id": "45db183a",
   "metadata": {},
   "outputs": [],
   "source": [
    "#9. Which of the following are the valid variable names?\n",
    "#Ans = option A) _abc and option C) abc2"
   ]
  },
  {
   "cell_type": "code",
   "execution_count": 14,
   "id": "8b1cdc78",
   "metadata": {},
   "outputs": [],
   "source": [
    "#10. Which of the following are the keywords in python?\n",
    "#Ans = Option A) yield and option B) raise"
   ]
  },
  {
   "cell_type": "code",
   "execution_count": 1,
   "id": "1b8c6996",
   "metadata": {},
   "outputs": [],
   "source": [
    "#11. Write a python program to find the factorial of a number"
   ]
  },
  {
   "cell_type": "code",
   "execution_count": 8,
   "id": "207de26e",
   "metadata": {},
   "outputs": [
    {
     "name": "stdout",
     "output_type": "stream",
     "text": [
      "Enter a number: 5\n",
      "The factorial of  5 is  120\n"
     ]
    }
   ],
   "source": [
    "num=int(input(\"Enter a number: \"))\n",
    "factorial=1\n",
    "if num<0:\n",
    "    print(\"Sorry, factorial does not exist for negative numbers\")\n",
    "elif num==0:\n",
    "    print(\"The factorial of 0 is 1\")\n",
    "else:\n",
    "    for i in range(1,num+1):\n",
    "        factorial=factorial*i\n",
    "    print(\"The factorial of \", num, \"is \", factorial)"
   ]
  },
  {
   "cell_type": "code",
   "execution_count": 9,
   "id": "4656f423",
   "metadata": {},
   "outputs": [],
   "source": [
    "#12. Write a python program to find whether a number is prime or composite."
   ]
  },
  {
   "cell_type": "code",
   "execution_count": 24,
   "id": "4052730c",
   "metadata": {},
   "outputs": [
    {
     "name": "stdout",
     "output_type": "stream",
     "text": [
      "Enter any number: 155\n",
      "155  is not a prime number\n"
     ]
    }
   ],
   "source": [
    "num=int(input(\"Enter any number: \"))\n",
    "if num>1:\n",
    "    for i in range(2,num):\n",
    "        if (num%1)==0:\n",
    "            print(num,\" is not a prime number\")\n",
    "            break\n",
    "    else:\n",
    "        print(num, \" is a PRIME number\")\n",
    "elif num==0 or 1:\n",
    "    print(num, \" is a neither prime NOR composite number\")\n",
    "else:\n",
    "    print(num, \" is NOT a prime number it is a COMPOSITE number\")"
   ]
  },
  {
   "cell_type": "code",
   "execution_count": 25,
   "id": "57f45813",
   "metadata": {},
   "outputs": [],
   "source": [
    "#13. Write a python program to check whether a given string is palindrome or not"
   ]
  },
  {
   "cell_type": "code",
   "execution_count": 34,
   "id": "22ab786a",
   "metadata": {},
   "outputs": [
    {
     "name": "stdout",
     "output_type": "stream",
     "text": [
      "Enter the string to check if it is a palindrome: udayadu\n",
      "The string is a palindrome\n"
     ]
    }
   ],
   "source": [
    "str_1 = input(\"Enter the string to check if it is a palindrome: \")\n",
    "str_1 = str_1.casefold()\n",
    "rev_str=reversed(str_1)\n",
    "if(list (str_1))==list(rev_str):\n",
    "    print(\"The string is a palindrome\")\n",
    "else:\n",
    "    print(\"The string is not a palindrome\")"
   ]
  },
  {
   "cell_type": "code",
   "execution_count": 35,
   "id": "eee80f7d",
   "metadata": {},
   "outputs": [],
   "source": [
    "#14. Write a Python program to get the third side of right-angled triangle from two given sides."
   ]
  },
  {
   "cell_type": "code",
   "execution_count": 3,
   "id": "a46ac00b",
   "metadata": {},
   "outputs": [
    {
     "name": "stdout",
     "output_type": "stream",
     "text": [
      "Enter base: 10\n",
      "Enter height: 5\n",
      "Enter angle: 90\n",
      "Hypotenuse = 11.180339887498949\n"
     ]
    }
   ],
   "source": [
    "import math\n",
    "\n",
    "a=float(input(\"Enter base: \"))\n",
    "b=float(input(\"Enter height: \"))\n",
    "x= float(input(\"Enter angle: \"))\n",
    "\n",
    "c= math.sqrt(a**2+b**2)\n",
    "\n",
    "print(\"Hypotenuse =\",c)"
   ]
  },
  {
   "cell_type": "code",
   "execution_count": 4,
   "id": "bb4e0a9f",
   "metadata": {},
   "outputs": [],
   "source": [
    "#15. Write a python program to print the frequency of each of the characters present in a given string."
   ]
  },
  {
   "cell_type": "code",
   "execution_count": 10,
   "id": "26a6bc0c",
   "metadata": {},
   "outputs": [
    {
     "name": "stdout",
     "output_type": "stream",
     "text": [
      "P: 1, R: 1, A: 2, T: 1, I: 1, K: 1, S: 1, H: 1, A: 2, "
     ]
    }
   ],
   "source": [
    "my_string=\"PRATIKSHA\"\n",
    "\n",
    "for i in my_string:\n",
    "    frequency=my_string.count(i) \n",
    "    print(str(i)+\": \"+str(frequency))"
   ]
  },
  {
   "cell_type": "code",
   "execution_count": 11,
   "id": "4a726ee8",
   "metadata": {},
   "outputs": [
    {
     "name": "stdout",
     "output_type": "stream",
     "text": [
      "h: 1\n",
      "e: 1\n",
      "l: 3\n",
      "l: 3\n",
      "o: 2\n",
      " : 1\n",
      "w: 1\n",
      "o: 2\n",
      "r: 1\n",
      "l: 3\n",
      "d: 1\n"
     ]
    }
   ],
   "source": [
    "my_string=\"hello world\"\n",
    "\n",
    "for i in my_string:\n",
    "    frequency=my_string.count(i) \n",
    "    print(str(i)+\": \"+str(frequency))"
   ]
  }
 ],
 "metadata": {
  "kernelspec": {
   "display_name": "Python 3 (ipykernel)",
   "language": "python",
   "name": "python3"
  },
  "language_info": {
   "codemirror_mode": {
    "name": "ipython",
    "version": 3
   },
   "file_extension": ".py",
   "mimetype": "text/x-python",
   "name": "python",
   "nbconvert_exporter": "python",
   "pygments_lexer": "ipython3",
   "version": "3.9.7"
  }
 },
 "nbformat": 4,
 "nbformat_minor": 5
}
