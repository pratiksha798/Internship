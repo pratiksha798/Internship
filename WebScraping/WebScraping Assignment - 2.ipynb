{
 "cells": [
  {
   "cell_type": "code",
   "execution_count": 1,
   "id": "1c1bee88",
   "metadata": {},
   "outputs": [
    {
     "name": "stdout",
     "output_type": "stream",
     "text": [
      "Requirement already satisfied: selenium in f:\\computer\\lib\\site-packages (4.3.0)\n",
      "Requirement already satisfied: trio-websocket~=0.9 in f:\\computer\\lib\\site-packages (from selenium) (0.9.2)\n",
      "Requirement already satisfied: urllib3[secure,socks]~=1.26 in f:\\computer\\lib\\site-packages (from selenium) (1.26.7)\n",
      "Requirement already satisfied: trio~=0.17 in f:\\computer\\lib\\site-packages (from selenium) (0.21.0)\n",
      "Requirement already satisfied: idna in f:\\computer\\lib\\site-packages (from trio~=0.17->selenium) (3.2)\n",
      "Requirement already satisfied: sniffio in f:\\computer\\lib\\site-packages (from trio~=0.17->selenium) (1.2.0)\n",
      "Requirement already satisfied: attrs>=19.2.0 in f:\\computer\\lib\\site-packages (from trio~=0.17->selenium) (21.2.0)\n",
      "Requirement already satisfied: outcome in f:\\computer\\lib\\site-packages (from trio~=0.17->selenium) (1.2.0)\n",
      "Requirement already satisfied: sortedcontainers in f:\\computer\\lib\\site-packages (from trio~=0.17->selenium) (2.4.0)\n",
      "Requirement already satisfied: cffi>=1.14 in f:\\computer\\lib\\site-packages (from trio~=0.17->selenium) (1.14.6)\n",
      "Requirement already satisfied: async-generator>=1.9 in f:\\computer\\lib\\site-packages (from trio~=0.17->selenium) (1.10)\n",
      "Requirement already satisfied: pycparser in f:\\computer\\lib\\site-packages (from cffi>=1.14->trio~=0.17->selenium) (2.20)\n",
      "Requirement already satisfied: wsproto>=0.14 in f:\\computer\\lib\\site-packages (from trio-websocket~=0.9->selenium) (1.1.0)\n",
      "Requirement already satisfied: pyOpenSSL>=0.14 in f:\\computer\\lib\\site-packages (from urllib3[secure,socks]~=1.26->selenium) (21.0.0)\n",
      "Requirement already satisfied: cryptography>=1.3.4 in f:\\computer\\lib\\site-packages (from urllib3[secure,socks]~=1.26->selenium) (3.4.8)\n",
      "Requirement already satisfied: certifi in f:\\computer\\lib\\site-packages (from urllib3[secure,socks]~=1.26->selenium) (2021.10.8)\n",
      "Requirement already satisfied: PySocks!=1.5.7,<2.0,>=1.5.6 in f:\\computer\\lib\\site-packages (from urllib3[secure,socks]~=1.26->selenium) (1.7.1)\n",
      "Requirement already satisfied: six>=1.5.2 in f:\\computer\\lib\\site-packages (from pyOpenSSL>=0.14->urllib3[secure,socks]~=1.26->selenium) (1.16.0)\n",
      "Requirement already satisfied: h11<1,>=0.9.0 in f:\\computer\\lib\\site-packages (from wsproto>=0.14->trio-websocket~=0.9->selenium) (0.13.0)\n"
     ]
    }
   ],
   "source": [
    "! pip install selenium"
   ]
  },
  {
   "cell_type": "code",
   "execution_count": 1,
   "id": "fa20d213",
   "metadata": {},
   "outputs": [],
   "source": [
    "# Let's now import all the required libraries.\n",
    "import selenium\n",
    "import pandas as pd\n",
    "from selenium import webdriver\n",
    "import warnings\n",
    "warnings.filterwarnings('ignore')\n",
    "from selenium.webdriver.common.by import By\n",
    "import time"
   ]
  },
  {
   "cell_type": "code",
   "execution_count": 2,
   "id": "f23610fd",
   "metadata": {
    "scrolled": true
   },
   "outputs": [],
   "source": [
    "# let's first connect to the web driver\n",
    "driver = webdriver.Chrome(r\"C:\\Users\\Sunny\\Downloads\\chromedriver_win32\\chromedriver.exe\")"
   ]
  },
  {
   "cell_type": "markdown",
   "id": "54bcff1a",
   "metadata": {},
   "source": [
    "# Q1: Write a python program to scrape data for “Data Analyst” Job position in “Bangalore” location. You have to scrape the job-title, job-location, company_name, experience_required. You have to scrape first 10 jobs data"
   ]
  },
  {
   "cell_type": "code",
   "execution_count": 3,
   "id": "3d6b12a9",
   "metadata": {},
   "outputs": [],
   "source": [
    "url = \"https://www.naukri.com\"\n",
    "driver.get(url)"
   ]
  },
  {
   "cell_type": "code",
   "execution_count": 9,
   "id": "d4f54ed2",
   "metadata": {},
   "outputs": [],
   "source": [
    "# finding element for job search bar\n",
    "search_job = driver.find_element(By.CLASS_NAME,\"suggestor-input\")\n",
    "search_job.send_keys('Data Analyst')"
   ]
  },
  {
   "cell_type": "code",
   "execution_count": 10,
   "id": "c535f587",
   "metadata": {},
   "outputs": [],
   "source": [
    "# finding element for job location bar\n",
    "search_loc=driver.find_element(By.XPATH,'/html/body/div[1]/div[2]/div[3]/div/div/div[5]/div/div/div/input')\n",
    "search_loc.send_keys(\"Bangalore\")"
   ]
  },
  {
   "cell_type": "code",
   "execution_count": 11,
   "id": "7683b801",
   "metadata": {},
   "outputs": [],
   "source": [
    "# clicking using class function\n",
    "search = driver.find_element(By.CLASS_NAME,\"qsbSubmit\")\n",
    "search.click()"
   ]
  },
  {
   "cell_type": "code",
   "execution_count": 12,
   "id": "6265fba4",
   "metadata": {},
   "outputs": [
    {
     "data": {
      "text/plain": [
       "[<selenium.webdriver.remote.webelement.WebElement (session=\"ae32c49eeca8be79e7a08d38f94f2e51\", element=\"f943b2f6-fce4-4f1f-9b34-8c5a231d6252\")>,\n",
       " <selenium.webdriver.remote.webelement.WebElement (session=\"ae32c49eeca8be79e7a08d38f94f2e51\", element=\"d71fe4d9-0d1e-419a-94c6-3884bc604686\")>,\n",
       " <selenium.webdriver.remote.webelement.WebElement (session=\"ae32c49eeca8be79e7a08d38f94f2e51\", element=\"a4f57cfb-8c3f-49ea-8570-8fb8c915d978\")>,\n",
       " <selenium.webdriver.remote.webelement.WebElement (session=\"ae32c49eeca8be79e7a08d38f94f2e51\", element=\"00ab2d3d-dc2f-4dfe-a864-63e8f7d53fd8\")>,\n",
       " <selenium.webdriver.remote.webelement.WebElement (session=\"ae32c49eeca8be79e7a08d38f94f2e51\", element=\"562ebe54-26b6-424b-b7be-b7b53eb2f229\")>,\n",
       " <selenium.webdriver.remote.webelement.WebElement (session=\"ae32c49eeca8be79e7a08d38f94f2e51\", element=\"30818eb4-3ed9-4ad0-9300-e150c74e69f1\")>,\n",
       " <selenium.webdriver.remote.webelement.WebElement (session=\"ae32c49eeca8be79e7a08d38f94f2e51\", element=\"f1e21c4e-0592-49d9-95db-8138a346f525\")>,\n",
       " <selenium.webdriver.remote.webelement.WebElement (session=\"ae32c49eeca8be79e7a08d38f94f2e51\", element=\"91d1f7b5-343d-4670-994a-f0742620e4a6\")>,\n",
       " <selenium.webdriver.remote.webelement.WebElement (session=\"ae32c49eeca8be79e7a08d38f94f2e51\", element=\"174dc5e2-0bc2-4660-a673-0e0f6c6452ee\")>,\n",
       " <selenium.webdriver.remote.webelement.WebElement (session=\"ae32c49eeca8be79e7a08d38f94f2e51\", element=\"a791bb6b-9a7f-44e1-8dc3-8a33a7b93a8c\")>,\n",
       " <selenium.webdriver.remote.webelement.WebElement (session=\"ae32c49eeca8be79e7a08d38f94f2e51\", element=\"5a8ef2cc-9778-4ca2-8258-d3c08d08efb1\")>,\n",
       " <selenium.webdriver.remote.webelement.WebElement (session=\"ae32c49eeca8be79e7a08d38f94f2e51\", element=\"2b50e0ee-8d84-493e-a31e-dcd305953a5a\")>,\n",
       " <selenium.webdriver.remote.webelement.WebElement (session=\"ae32c49eeca8be79e7a08d38f94f2e51\", element=\"fdab7509-cd9c-496c-b513-620cd91c7cf0\")>,\n",
       " <selenium.webdriver.remote.webelement.WebElement (session=\"ae32c49eeca8be79e7a08d38f94f2e51\", element=\"802b968e-20b4-40de-bcf8-0db775f4caf7\")>,\n",
       " <selenium.webdriver.remote.webelement.WebElement (session=\"ae32c49eeca8be79e7a08d38f94f2e51\", element=\"fa9837d5-5ae8-42b6-b57f-4a16441ecf45\")>,\n",
       " <selenium.webdriver.remote.webelement.WebElement (session=\"ae32c49eeca8be79e7a08d38f94f2e51\", element=\"3d53e58c-61bd-4624-8ea7-46b613b03b54\")>,\n",
       " <selenium.webdriver.remote.webelement.WebElement (session=\"ae32c49eeca8be79e7a08d38f94f2e51\", element=\"73318f8d-1476-4dc3-98e4-47a54997603d\")>,\n",
       " <selenium.webdriver.remote.webelement.WebElement (session=\"ae32c49eeca8be79e7a08d38f94f2e51\", element=\"491cfbf1-ab67-4714-9f1e-a84f2fd8a603\")>,\n",
       " <selenium.webdriver.remote.webelement.WebElement (session=\"ae32c49eeca8be79e7a08d38f94f2e51\", element=\"8798af02-70d9-483b-b0e8-3b8366d55fcd\")>,\n",
       " <selenium.webdriver.remote.webelement.WebElement (session=\"ae32c49eeca8be79e7a08d38f94f2e51\", element=\"8618e94b-bed2-4580-8716-ddf54dd6aef3\")>]"
      ]
     },
     "execution_count": 12,
     "metadata": {},
     "output_type": "execute_result"
    }
   ],
   "source": [
    "#so let's extract all the tags having the job titles\n",
    "title_tags=driver.find_elements(By.XPATH,\"//a[@class='title fw500 ellipsis']\")\n",
    "title_tags"
   ]
  },
  {
   "cell_type": "code",
   "execution_count": 13,
   "id": "915b1b1a",
   "metadata": {},
   "outputs": [
    {
     "data": {
      "text/plain": [
       "['Senior Data Analyst',\n",
       " 'Senior Data Analyst',\n",
       " 'Senior Data Analyst II',\n",
       " 'Data Analyst',\n",
       " 'Data Analyst',\n",
       " 'Leap COE Intern(Data Analyst)',\n",
       " 'Data Analyst - Data Science, 3 To 5 Years',\n",
       " 'Senior BI & Data Analyst',\n",
       " 'Reference Data Analyst',\n",
       " 'Data Analyst']"
      ]
     },
     "execution_count": 13,
     "metadata": {},
     "output_type": "execute_result"
    }
   ],
   "source": [
    "# extract the text of the job title  from the tags\n",
    "job_titles=[]\n",
    "for i in title_tags:\n",
    "    if i.text is None:\n",
    "        job_titles.append('Not')\n",
    "    else:\n",
    "        job_titles.append(i.text)\n",
    "job_titles[:10]  "
   ]
  },
  {
   "cell_type": "code",
   "execution_count": 14,
   "id": "86d18a7f",
   "metadata": {},
   "outputs": [
    {
     "data": {
      "text/plain": [
       "[<selenium.webdriver.remote.webelement.WebElement (session=\"ae32c49eeca8be79e7a08d38f94f2e51\", element=\"1ff40cde-9948-4782-b60d-26d396948b0c\")>,\n",
       " <selenium.webdriver.remote.webelement.WebElement (session=\"ae32c49eeca8be79e7a08d38f94f2e51\", element=\"eb676b45-89a0-44bc-ba7c-2ace216b91d5\")>,\n",
       " <selenium.webdriver.remote.webelement.WebElement (session=\"ae32c49eeca8be79e7a08d38f94f2e51\", element=\"a1355db3-abf4-4564-8fa3-ef4b8cbb3119\")>,\n",
       " <selenium.webdriver.remote.webelement.WebElement (session=\"ae32c49eeca8be79e7a08d38f94f2e51\", element=\"0d64309f-124c-424b-a1d2-f1812430ef86\")>,\n",
       " <selenium.webdriver.remote.webelement.WebElement (session=\"ae32c49eeca8be79e7a08d38f94f2e51\", element=\"203065d9-aad6-42f5-a4f8-00c5ed5c7769\")>,\n",
       " <selenium.webdriver.remote.webelement.WebElement (session=\"ae32c49eeca8be79e7a08d38f94f2e51\", element=\"4f2aecea-107d-463f-a0d3-4b1c7c1abd04\")>,\n",
       " <selenium.webdriver.remote.webelement.WebElement (session=\"ae32c49eeca8be79e7a08d38f94f2e51\", element=\"e03ea37c-9eb4-4990-9603-5ee95b980f77\")>,\n",
       " <selenium.webdriver.remote.webelement.WebElement (session=\"ae32c49eeca8be79e7a08d38f94f2e51\", element=\"cfdad353-3e59-44b2-97fd-a186bc931887\")>,\n",
       " <selenium.webdriver.remote.webelement.WebElement (session=\"ae32c49eeca8be79e7a08d38f94f2e51\", element=\"5cb66030-3b49-4295-9d19-2d406630f5e9\")>,\n",
       " <selenium.webdriver.remote.webelement.WebElement (session=\"ae32c49eeca8be79e7a08d38f94f2e51\", element=\"298cbb9b-2860-46f5-bf38-853a96d69069\")>,\n",
       " <selenium.webdriver.remote.webelement.WebElement (session=\"ae32c49eeca8be79e7a08d38f94f2e51\", element=\"bc17c280-043b-475a-8f1a-d680f570a296\")>,\n",
       " <selenium.webdriver.remote.webelement.WebElement (session=\"ae32c49eeca8be79e7a08d38f94f2e51\", element=\"2c20a3a1-351a-4a84-b721-e09851d87e82\")>,\n",
       " <selenium.webdriver.remote.webelement.WebElement (session=\"ae32c49eeca8be79e7a08d38f94f2e51\", element=\"287c6e28-217e-4254-a69c-1338c7a77902\")>,\n",
       " <selenium.webdriver.remote.webelement.WebElement (session=\"ae32c49eeca8be79e7a08d38f94f2e51\", element=\"cf42e640-7d1d-4c47-a243-2d20a263233c\")>,\n",
       " <selenium.webdriver.remote.webelement.WebElement (session=\"ae32c49eeca8be79e7a08d38f94f2e51\", element=\"e412fe28-7dc6-4e59-9ab4-cd9fa4b449e1\")>,\n",
       " <selenium.webdriver.remote.webelement.WebElement (session=\"ae32c49eeca8be79e7a08d38f94f2e51\", element=\"6d7a8a66-9de7-43d0-bf76-38c782f048fc\")>,\n",
       " <selenium.webdriver.remote.webelement.WebElement (session=\"ae32c49eeca8be79e7a08d38f94f2e51\", element=\"4f7bcbe5-17bb-4804-937c-b2d96a3d0a25\")>,\n",
       " <selenium.webdriver.remote.webelement.WebElement (session=\"ae32c49eeca8be79e7a08d38f94f2e51\", element=\"104057c7-b00a-4da1-a142-25cda63fa724\")>,\n",
       " <selenium.webdriver.remote.webelement.WebElement (session=\"ae32c49eeca8be79e7a08d38f94f2e51\", element=\"14390a6e-b054-4da9-9b33-db79dc358ad5\")>,\n",
       " <selenium.webdriver.remote.webelement.WebElement (session=\"ae32c49eeca8be79e7a08d38f94f2e51\", element=\"041f32ca-8403-4015-a590-47d65bf9b508\")>]"
      ]
     },
     "execution_count": 14,
     "metadata": {},
     "output_type": "execute_result"
    }
   ],
   "source": [
    "# lets extract all the tags having company names\n",
    "company_tags=driver.find_elements(By.XPATH,\"//a[@class='subTitle ellipsis fleft']\")\n",
    "company_tags"
   ]
  },
  {
   "cell_type": "code",
   "execution_count": 15,
   "id": "ad9bd302",
   "metadata": {},
   "outputs": [
    {
     "data": {
      "text/plain": [
       "['KrazyBee',\n",
       " 'Optum',\n",
       " 'Flipkart',\n",
       " 'Bright Money',\n",
       " 'Bayer',\n",
       " 'Info Origin Inc.',\n",
       " 'Rise Finconnect',\n",
       " 'Samaira HR Solutions',\n",
       " 'Deutsche Bank',\n",
       " 'Cargill']"
      ]
     },
     "execution_count": 15,
     "metadata": {},
     "output_type": "execute_result"
    }
   ],
   "source": [
    "# Now we will extract the text from the tags by looping over these tags\n",
    "companies_names=[]\n",
    "\n",
    "for i in company_tags:\n",
    "    companies_names.append(i.text)\n",
    "companies_names[:10]    "
   ]
  },
  {
   "cell_type": "code",
   "execution_count": 16,
   "id": "5804bf61",
   "metadata": {},
   "outputs": [
    {
     "data": {
      "text/plain": [
       "[<selenium.webdriver.remote.webelement.WebElement (session=\"ae32c49eeca8be79e7a08d38f94f2e51\", element=\"8c790466-aa9e-4c74-b074-4b1b87e568dd\")>,\n",
       " <selenium.webdriver.remote.webelement.WebElement (session=\"ae32c49eeca8be79e7a08d38f94f2e51\", element=\"79a1d794-c991-442b-9377-f8680bd10948\")>,\n",
       " <selenium.webdriver.remote.webelement.WebElement (session=\"ae32c49eeca8be79e7a08d38f94f2e51\", element=\"5aeabf01-c2dc-4fbb-aadb-8812d07941b7\")>,\n",
       " <selenium.webdriver.remote.webelement.WebElement (session=\"ae32c49eeca8be79e7a08d38f94f2e51\", element=\"831371c1-7b8f-4dc3-ab92-9cee3fb685ef\")>,\n",
       " <selenium.webdriver.remote.webelement.WebElement (session=\"ae32c49eeca8be79e7a08d38f94f2e51\", element=\"8c95ea90-a61a-43b4-ab39-296914af3932\")>,\n",
       " <selenium.webdriver.remote.webelement.WebElement (session=\"ae32c49eeca8be79e7a08d38f94f2e51\", element=\"eaf3c5c9-cc13-4b9d-9ef1-5144f4696a85\")>,\n",
       " <selenium.webdriver.remote.webelement.WebElement (session=\"ae32c49eeca8be79e7a08d38f94f2e51\", element=\"6d80b32e-b9d2-42c7-aca0-bd8bb0d69586\")>,\n",
       " <selenium.webdriver.remote.webelement.WebElement (session=\"ae32c49eeca8be79e7a08d38f94f2e51\", element=\"5a3913cd-6aac-4fdb-b072-8c10ad204423\")>,\n",
       " <selenium.webdriver.remote.webelement.WebElement (session=\"ae32c49eeca8be79e7a08d38f94f2e51\", element=\"5e50727c-ebf5-46d0-9299-e0a97f767c4a\")>,\n",
       " <selenium.webdriver.remote.webelement.WebElement (session=\"ae32c49eeca8be79e7a08d38f94f2e51\", element=\"31ee5c0f-54a9-4377-9086-b468e8a528e1\")>,\n",
       " <selenium.webdriver.remote.webelement.WebElement (session=\"ae32c49eeca8be79e7a08d38f94f2e51\", element=\"20d2662d-b136-43e5-b437-3a53cad0bfcd\")>,\n",
       " <selenium.webdriver.remote.webelement.WebElement (session=\"ae32c49eeca8be79e7a08d38f94f2e51\", element=\"29420703-9260-4c4a-b6ba-ade9de39db57\")>,\n",
       " <selenium.webdriver.remote.webelement.WebElement (session=\"ae32c49eeca8be79e7a08d38f94f2e51\", element=\"488bdf76-a90b-4408-95ee-6c5d86a97d9c\")>,\n",
       " <selenium.webdriver.remote.webelement.WebElement (session=\"ae32c49eeca8be79e7a08d38f94f2e51\", element=\"0dced753-df32-43c7-8f41-0d0e96b95bb5\")>,\n",
       " <selenium.webdriver.remote.webelement.WebElement (session=\"ae32c49eeca8be79e7a08d38f94f2e51\", element=\"2229fa0c-fdab-493a-9b50-9f4b90da095d\")>,\n",
       " <selenium.webdriver.remote.webelement.WebElement (session=\"ae32c49eeca8be79e7a08d38f94f2e51\", element=\"e710d666-1909-4cc9-a23b-5fb521149e8d\")>,\n",
       " <selenium.webdriver.remote.webelement.WebElement (session=\"ae32c49eeca8be79e7a08d38f94f2e51\", element=\"cc402b26-109d-4ee7-8141-f81bbb082cc6\")>,\n",
       " <selenium.webdriver.remote.webelement.WebElement (session=\"ae32c49eeca8be79e7a08d38f94f2e51\", element=\"bb83603e-87d9-4fa4-8a22-9149515f12b2\")>,\n",
       " <selenium.webdriver.remote.webelement.WebElement (session=\"ae32c49eeca8be79e7a08d38f94f2e51\", element=\"1d0ac3e0-8da2-4072-ad4f-566b5bd08b77\")>,\n",
       " <selenium.webdriver.remote.webelement.WebElement (session=\"ae32c49eeca8be79e7a08d38f94f2e51\", element=\"f54be229-1bb1-46b6-9657-43f3871974af\")>]"
      ]
     },
     "execution_count": 16,
     "metadata": {},
     "output_type": "execute_result"
    }
   ],
   "source": [
    "# so lets extract  all the tags having the experience required data\n",
    "experience_tags=driver.find_elements(By.XPATH,\"//li[@class='fleft grey-text br2 placeHolderLi experience'] //span\")\n",
    "experience_tags"
   ]
  },
  {
   "cell_type": "code",
   "execution_count": 17,
   "id": "e1db0e20",
   "metadata": {},
   "outputs": [
    {
     "data": {
      "text/plain": [
       "['3-6 Yrs',\n",
       " '5-7 Yrs',\n",
       " '3-6 Yrs',\n",
       " '0-2 Yrs',\n",
       " '2-5 Yrs',\n",
       " '0-1 Yrs',\n",
       " '2-6 Yrs',\n",
       " '2-4 Yrs',\n",
       " '2-5 Yrs',\n",
       " '3-5 Yrs']"
      ]
     },
     "execution_count": 17,
     "metadata": {},
     "output_type": "execute_result"
    }
   ],
   "source": [
    "# no we will extract the text  from these tags only by one by looping over these tags\n",
    "experience_list=[]\n",
    "for i in experience_tags:\n",
    "    experience_list.append(i.text)\n",
    "experience_list[:10] "
   ]
  },
  {
   "cell_type": "code",
   "execution_count": 18,
   "id": "d799413f",
   "metadata": {},
   "outputs": [
    {
     "data": {
      "text/plain": [
       "[<selenium.webdriver.remote.webelement.WebElement (session=\"ae32c49eeca8be79e7a08d38f94f2e51\", element=\"2ad9261b-1ace-4180-a8e0-ac536904b5ad\")>,\n",
       " <selenium.webdriver.remote.webelement.WebElement (session=\"ae32c49eeca8be79e7a08d38f94f2e51\", element=\"def02cd0-ecda-4fb2-a7e9-afccd4403b85\")>,\n",
       " <selenium.webdriver.remote.webelement.WebElement (session=\"ae32c49eeca8be79e7a08d38f94f2e51\", element=\"03347ceb-1045-45bb-8f86-47c024adb82a\")>,\n",
       " <selenium.webdriver.remote.webelement.WebElement (session=\"ae32c49eeca8be79e7a08d38f94f2e51\", element=\"b41498a0-aa14-482e-b855-5c90cec2dc94\")>,\n",
       " <selenium.webdriver.remote.webelement.WebElement (session=\"ae32c49eeca8be79e7a08d38f94f2e51\", element=\"a77ab0f4-3905-4303-80fb-0dc3bf5c1bfb\")>,\n",
       " <selenium.webdriver.remote.webelement.WebElement (session=\"ae32c49eeca8be79e7a08d38f94f2e51\", element=\"02041c67-ea42-42d4-97ca-9ad19768b048\")>,\n",
       " <selenium.webdriver.remote.webelement.WebElement (session=\"ae32c49eeca8be79e7a08d38f94f2e51\", element=\"69301d4c-9f65-458e-bc5d-8a5fe707c292\")>,\n",
       " <selenium.webdriver.remote.webelement.WebElement (session=\"ae32c49eeca8be79e7a08d38f94f2e51\", element=\"a54bc71d-f3f5-402c-9dc4-05e430bc9a4a\")>,\n",
       " <selenium.webdriver.remote.webelement.WebElement (session=\"ae32c49eeca8be79e7a08d38f94f2e51\", element=\"1e64f1a1-2153-44a8-ae69-2c5171da66c5\")>,\n",
       " <selenium.webdriver.remote.webelement.WebElement (session=\"ae32c49eeca8be79e7a08d38f94f2e51\", element=\"dcf7c409-2617-4e12-98e4-3976970ba290\")>,\n",
       " <selenium.webdriver.remote.webelement.WebElement (session=\"ae32c49eeca8be79e7a08d38f94f2e51\", element=\"3a7f7071-4e1e-415a-b26a-72625c087caa\")>,\n",
       " <selenium.webdriver.remote.webelement.WebElement (session=\"ae32c49eeca8be79e7a08d38f94f2e51\", element=\"ec61c0b7-3f92-4c91-9a8f-20f6af3e0be7\")>,\n",
       " <selenium.webdriver.remote.webelement.WebElement (session=\"ae32c49eeca8be79e7a08d38f94f2e51\", element=\"5b6b54a8-3c1c-4f61-ae01-38358726bea2\")>,\n",
       " <selenium.webdriver.remote.webelement.WebElement (session=\"ae32c49eeca8be79e7a08d38f94f2e51\", element=\"19f84822-133c-413a-8179-d8e7b2791335\")>,\n",
       " <selenium.webdriver.remote.webelement.WebElement (session=\"ae32c49eeca8be79e7a08d38f94f2e51\", element=\"8f4fb5f8-2915-4c32-8cb0-656f48b23f92\")>,\n",
       " <selenium.webdriver.remote.webelement.WebElement (session=\"ae32c49eeca8be79e7a08d38f94f2e51\", element=\"451c77c7-c7fd-42b5-b01a-058a28feadd7\")>,\n",
       " <selenium.webdriver.remote.webelement.WebElement (session=\"ae32c49eeca8be79e7a08d38f94f2e51\", element=\"b7a9f0d7-e0a8-4100-a0e3-f0c36fc27704\")>,\n",
       " <selenium.webdriver.remote.webelement.WebElement (session=\"ae32c49eeca8be79e7a08d38f94f2e51\", element=\"0eb59190-87e9-4290-869e-098933bd1f24\")>,\n",
       " <selenium.webdriver.remote.webelement.WebElement (session=\"ae32c49eeca8be79e7a08d38f94f2e51\", element=\"3d5b68d2-9a34-4a1b-912d-ce3283470a76\")>,\n",
       " <selenium.webdriver.remote.webelement.WebElement (session=\"ae32c49eeca8be79e7a08d38f94f2e51\", element=\"37bd081f-ec73-4162-8fe6-6ce3f47cabb8\")>,\n",
       " <selenium.webdriver.remote.webelement.WebElement (session=\"ae32c49eeca8be79e7a08d38f94f2e51\", element=\"3d978261-9b4a-4158-a704-089abf33fca6\")>,\n",
       " <selenium.webdriver.remote.webelement.WebElement (session=\"ae32c49eeca8be79e7a08d38f94f2e51\", element=\"85490ef1-b2cb-4094-8266-b893436d3d93\")>]"
      ]
     },
     "execution_count": 18,
     "metadata": {},
     "output_type": "execute_result"
    }
   ],
   "source": [
    "locations_tags=driver.find_elements(By.XPATH,\"//li[@class='fleft grey-text br2 placeHolderLi location']/span\")\n",
    "locations_tags"
   ]
  },
  {
   "cell_type": "code",
   "execution_count": 19,
   "id": "699dabe8",
   "metadata": {},
   "outputs": [
    {
     "data": {
      "text/plain": [
       "['Bangalore/Bengaluru(Old Madras Road)',\n",
       " 'Bangalore/Bengaluru',\n",
       " 'Bangalore/Bengaluru',\n",
       " 'Bangalore/Bengaluru',\n",
       " 'Bangalore/Bengaluru',\n",
       " 'Bangalore/Bengaluru',\n",
       " 'Bangalore/Bengaluru, Mumbai (All Areas)',\n",
       " 'Bangalore/Bengaluru, Pune, Mumbai (All Areas)',\n",
       " 'Bangalore/Bengaluru',\n",
       " 'Bangalore/Bengaluru']"
      ]
     },
     "execution_count": 19,
     "metadata": {},
     "output_type": "execute_result"
    }
   ],
   "source": [
    "locations_list=[]\n",
    "for i in locations_tags:\n",
    "    locations_list.append(i.text)\n",
    "locations_list[:10] "
   ]
  },
  {
   "cell_type": "code",
   "execution_count": 20,
   "id": "8f03e107",
   "metadata": {},
   "outputs": [
    {
     "name": "stdout",
     "output_type": "stream",
     "text": [
      "10\n",
      "10\n",
      "10\n",
      "10\n"
     ]
    },
    {
     "data": {
      "text/plain": [
       "(None, None, None, None)"
      ]
     },
     "execution_count": 20,
     "metadata": {},
     "output_type": "execute_result"
    }
   ],
   "source": [
    "#So lets check th length of ech element.\n",
    "print(len(job_titles[:10])),print(len(companies_names[:10])),print(len(experience_list[:10])),print(len(locations_list[:10]))"
   ]
  },
  {
   "cell_type": "markdown",
   "id": "14ecd08c",
   "metadata": {},
   "source": [
    "Creating a DataFarme for the Data Analyst jobs"
   ]
  },
  {
   "cell_type": "code",
   "execution_count": 21,
   "id": "339a447a",
   "metadata": {},
   "outputs": [
    {
     "data": {
      "text/html": [
       "<div>\n",
       "<style scoped>\n",
       "    .dataframe tbody tr th:only-of-type {\n",
       "        vertical-align: middle;\n",
       "    }\n",
       "\n",
       "    .dataframe tbody tr th {\n",
       "        vertical-align: top;\n",
       "    }\n",
       "\n",
       "    .dataframe thead th {\n",
       "        text-align: right;\n",
       "    }\n",
       "</style>\n",
       "<table border=\"1\" class=\"dataframe\">\n",
       "  <thead>\n",
       "    <tr style=\"text-align: right;\">\n",
       "      <th></th>\n",
       "      <th>Job_title</th>\n",
       "      <th>Company_name</th>\n",
       "      <th>Experience_required</th>\n",
       "      <th>Job_location</th>\n",
       "    </tr>\n",
       "  </thead>\n",
       "  <tbody>\n",
       "    <tr>\n",
       "      <th>0</th>\n",
       "      <td>Senior Data Analyst</td>\n",
       "      <td>KrazyBee</td>\n",
       "      <td>3-6 Yrs</td>\n",
       "      <td>Bangalore/Bengaluru(Old Madras Road)</td>\n",
       "    </tr>\n",
       "    <tr>\n",
       "      <th>1</th>\n",
       "      <td>Senior Data Analyst</td>\n",
       "      <td>Optum</td>\n",
       "      <td>5-7 Yrs</td>\n",
       "      <td>Bangalore/Bengaluru</td>\n",
       "    </tr>\n",
       "    <tr>\n",
       "      <th>2</th>\n",
       "      <td>Senior Data Analyst II</td>\n",
       "      <td>Flipkart</td>\n",
       "      <td>3-6 Yrs</td>\n",
       "      <td>Bangalore/Bengaluru</td>\n",
       "    </tr>\n",
       "    <tr>\n",
       "      <th>3</th>\n",
       "      <td>Data Analyst</td>\n",
       "      <td>Bright Money</td>\n",
       "      <td>0-2 Yrs</td>\n",
       "      <td>Bangalore/Bengaluru</td>\n",
       "    </tr>\n",
       "    <tr>\n",
       "      <th>4</th>\n",
       "      <td>Data Analyst</td>\n",
       "      <td>Bayer</td>\n",
       "      <td>2-5 Yrs</td>\n",
       "      <td>Bangalore/Bengaluru</td>\n",
       "    </tr>\n",
       "    <tr>\n",
       "      <th>5</th>\n",
       "      <td>Leap COE Intern(Data Analyst)</td>\n",
       "      <td>Info Origin Inc.</td>\n",
       "      <td>0-1 Yrs</td>\n",
       "      <td>Bangalore/Bengaluru</td>\n",
       "    </tr>\n",
       "    <tr>\n",
       "      <th>6</th>\n",
       "      <td>Data Analyst - Data Science, 3 To 5 Years</td>\n",
       "      <td>Rise Finconnect</td>\n",
       "      <td>2-6 Yrs</td>\n",
       "      <td>Bangalore/Bengaluru, Mumbai (All Areas)</td>\n",
       "    </tr>\n",
       "    <tr>\n",
       "      <th>7</th>\n",
       "      <td>Senior BI &amp; Data Analyst</td>\n",
       "      <td>Samaira HR Solutions</td>\n",
       "      <td>2-4 Yrs</td>\n",
       "      <td>Bangalore/Bengaluru, Pune, Mumbai (All Areas)</td>\n",
       "    </tr>\n",
       "    <tr>\n",
       "      <th>8</th>\n",
       "      <td>Reference Data Analyst</td>\n",
       "      <td>Deutsche Bank</td>\n",
       "      <td>2-5 Yrs</td>\n",
       "      <td>Bangalore/Bengaluru</td>\n",
       "    </tr>\n",
       "    <tr>\n",
       "      <th>9</th>\n",
       "      <td>Data Analyst</td>\n",
       "      <td>Cargill</td>\n",
       "      <td>3-5 Yrs</td>\n",
       "      <td>Bangalore/Bengaluru</td>\n",
       "    </tr>\n",
       "  </tbody>\n",
       "</table>\n",
       "</div>"
      ],
      "text/plain": [
       "                                   Job_title          Company_name  \\\n",
       "0                        Senior Data Analyst              KrazyBee   \n",
       "1                        Senior Data Analyst                 Optum   \n",
       "2                     Senior Data Analyst II              Flipkart   \n",
       "3                               Data Analyst          Bright Money   \n",
       "4                               Data Analyst                 Bayer   \n",
       "5              Leap COE Intern(Data Analyst)      Info Origin Inc.   \n",
       "6  Data Analyst - Data Science, 3 To 5 Years       Rise Finconnect   \n",
       "7                   Senior BI & Data Analyst  Samaira HR Solutions   \n",
       "8                     Reference Data Analyst         Deutsche Bank   \n",
       "9                               Data Analyst               Cargill   \n",
       "\n",
       "  Experience_required                                   Job_location  \n",
       "0             3-6 Yrs           Bangalore/Bengaluru(Old Madras Road)  \n",
       "1             5-7 Yrs                            Bangalore/Bengaluru  \n",
       "2             3-6 Yrs                            Bangalore/Bengaluru  \n",
       "3             0-2 Yrs                            Bangalore/Bengaluru  \n",
       "4             2-5 Yrs                            Bangalore/Bengaluru  \n",
       "5             0-1 Yrs                            Bangalore/Bengaluru  \n",
       "6             2-6 Yrs        Bangalore/Bengaluru, Mumbai (All Areas)  \n",
       "7             2-4 Yrs  Bangalore/Bengaluru, Pune, Mumbai (All Areas)  \n",
       "8             2-5 Yrs                            Bangalore/Bengaluru  \n",
       "9             3-5 Yrs                            Bangalore/Bengaluru  "
      ]
     },
     "execution_count": 21,
     "metadata": {},
     "output_type": "execute_result"
    }
   ],
   "source": [
    "jobs=pd.DataFrame({'Job_title':job_titles[:10],'Company_name':companies_names[:10],'Experience_required':experience_list[:10],'Job_location':locations_list[:10]})\n",
    "jobs"
   ]
  },
  {
   "cell_type": "code",
   "execution_count": 22,
   "id": "5d655685",
   "metadata": {},
   "outputs": [],
   "source": [
    "driver.close()"
   ]
  },
  {
   "cell_type": "code",
   "execution_count": 23,
   "id": "17033fb0",
   "metadata": {},
   "outputs": [],
   "source": [
    "from selenium.common.exceptions import NoSuchElementException"
   ]
  },
  {
   "cell_type": "markdown",
   "id": "d991dbbe",
   "metadata": {},
   "source": [
    "# Q2: Write a python program to scrape data for “Data Scientist” Job position in “Bangalore” location. You have to scrape the job-title, job-location, company_name. You have to scrape first 10 jobs data."
   ]
  },
  {
   "cell_type": "code",
   "execution_count": 24,
   "id": "d3e2ac0f",
   "metadata": {},
   "outputs": [],
   "source": [
    "# let's first connect to the web driver\n",
    "driver = webdriver.Chrome(r\"C:\\Users\\Sunny\\Downloads\\chromedriver_win32\\chromedriver.exe\")"
   ]
  },
  {
   "cell_type": "code",
   "execution_count": 25,
   "id": "16569e26",
   "metadata": {},
   "outputs": [],
   "source": [
    "url = \"https://www.naukri.com/\"\n",
    "driver.get(url)"
   ]
  },
  {
   "cell_type": "code",
   "execution_count": 26,
   "id": "0c1f606b",
   "metadata": {},
   "outputs": [],
   "source": [
    "# finding element for job search bar\n",
    "search_job = driver.find_element(By.CLASS_NAME,\"suggestor-input \")\n",
    "search_job.send_keys('Data Scientist')"
   ]
  },
  {
   "cell_type": "code",
   "execution_count": 27,
   "id": "a517b50d",
   "metadata": {},
   "outputs": [],
   "source": [
    "# finding element for job location bar\n",
    "search_loc=driver.find_element(By.XPATH,'/html/body/div[1]/div[2]/div[3]/div/div/div[5]/div/div/div/input')\n",
    "search_loc.send_keys(\"Bangalore\")"
   ]
  },
  {
   "cell_type": "code",
   "execution_count": 28,
   "id": "59e79953",
   "metadata": {},
   "outputs": [],
   "source": [
    "# clicking using class function\n",
    "search = driver.find_element(By.CLASS_NAME,\"qsbSubmit\")\n",
    "search.click()"
   ]
  },
  {
   "cell_type": "code",
   "execution_count": 29,
   "id": "27485bc2",
   "metadata": {},
   "outputs": [
    {
     "data": {
      "text/plain": [
       "[<selenium.webdriver.remote.webelement.WebElement (session=\"09fcf97c3786f4eee5ff6c695442d213\", element=\"b6e78161-7731-4b42-9068-a62600508e4d\")>,\n",
       " <selenium.webdriver.remote.webelement.WebElement (session=\"09fcf97c3786f4eee5ff6c695442d213\", element=\"488b9178-7eed-46f7-976b-cf863418b35b\")>,\n",
       " <selenium.webdriver.remote.webelement.WebElement (session=\"09fcf97c3786f4eee5ff6c695442d213\", element=\"1309f6f8-7b15-4df2-9732-b23a54bdd48f\")>,\n",
       " <selenium.webdriver.remote.webelement.WebElement (session=\"09fcf97c3786f4eee5ff6c695442d213\", element=\"baf6ef5f-ce33-4fa4-a6fb-8e118567ad86\")>,\n",
       " <selenium.webdriver.remote.webelement.WebElement (session=\"09fcf97c3786f4eee5ff6c695442d213\", element=\"70acfd79-17c8-4a46-8b31-4e5588facb94\")>,\n",
       " <selenium.webdriver.remote.webelement.WebElement (session=\"09fcf97c3786f4eee5ff6c695442d213\", element=\"7b82f076-4ba0-40f7-afe7-aeb7ca05e67f\")>,\n",
       " <selenium.webdriver.remote.webelement.WebElement (session=\"09fcf97c3786f4eee5ff6c695442d213\", element=\"0cc964ce-3561-4675-a95e-b41d629ca92f\")>,\n",
       " <selenium.webdriver.remote.webelement.WebElement (session=\"09fcf97c3786f4eee5ff6c695442d213\", element=\"b529767d-5a82-4a2d-a4d1-c73ea1a1fd64\")>,\n",
       " <selenium.webdriver.remote.webelement.WebElement (session=\"09fcf97c3786f4eee5ff6c695442d213\", element=\"21da11b3-4e61-4863-a7f5-58ef95e20a7c\")>,\n",
       " <selenium.webdriver.remote.webelement.WebElement (session=\"09fcf97c3786f4eee5ff6c695442d213\", element=\"0eaa45eb-cf80-4e42-9bd6-2684e665172a\")>,\n",
       " <selenium.webdriver.remote.webelement.WebElement (session=\"09fcf97c3786f4eee5ff6c695442d213\", element=\"fc88727a-5dd9-4cf0-a15f-371ba2652d43\")>,\n",
       " <selenium.webdriver.remote.webelement.WebElement (session=\"09fcf97c3786f4eee5ff6c695442d213\", element=\"e1a30b35-65d0-4540-bc88-86d2fe2e37c7\")>,\n",
       " <selenium.webdriver.remote.webelement.WebElement (session=\"09fcf97c3786f4eee5ff6c695442d213\", element=\"ceb036fd-fb00-4c89-b851-0b91e1ce2e85\")>,\n",
       " <selenium.webdriver.remote.webelement.WebElement (session=\"09fcf97c3786f4eee5ff6c695442d213\", element=\"6e728150-1a35-4b65-801c-8c3beeb338bb\")>,\n",
       " <selenium.webdriver.remote.webelement.WebElement (session=\"09fcf97c3786f4eee5ff6c695442d213\", element=\"bf5e132d-ea39-40ed-9229-d4a0db5a9df5\")>,\n",
       " <selenium.webdriver.remote.webelement.WebElement (session=\"09fcf97c3786f4eee5ff6c695442d213\", element=\"cea52f26-f210-4d19-9a34-c693653292bf\")>,\n",
       " <selenium.webdriver.remote.webelement.WebElement (session=\"09fcf97c3786f4eee5ff6c695442d213\", element=\"a5c7c683-2aaa-4465-b91b-fe88a0c5e91f\")>,\n",
       " <selenium.webdriver.remote.webelement.WebElement (session=\"09fcf97c3786f4eee5ff6c695442d213\", element=\"6e349900-5234-4c0c-9c91-a3a020a97d3d\")>,\n",
       " <selenium.webdriver.remote.webelement.WebElement (session=\"09fcf97c3786f4eee5ff6c695442d213\", element=\"30c92999-73da-4d1e-a7d0-b72fd2fe20dc\")>,\n",
       " <selenium.webdriver.remote.webelement.WebElement (session=\"09fcf97c3786f4eee5ff6c695442d213\", element=\"7f9b9eb1-9cc1-4315-986f-ab606391d6c3\")>]"
      ]
     },
     "execution_count": 29,
     "metadata": {},
     "output_type": "execute_result"
    }
   ],
   "source": [
    "#so let's extract all the tags having the job titles\n",
    "title_tags=driver.find_elements(By.XPATH,\"//a[@class='title fw500 ellipsis']\")\n",
    "title_tags"
   ]
  },
  {
   "cell_type": "code",
   "execution_count": 30,
   "id": "37b4dd13",
   "metadata": {},
   "outputs": [
    {
     "data": {
      "text/plain": [
       "['Tcs Hiring For Data Scientist',\n",
       " 'Senior Manager - EmTech - Machine Learning - P&T',\n",
       " 'Assistant Manager - Data Science',\n",
       " 'Analystics & Modeling Specialist',\n",
       " 'Data scientist _Tata Consultancy Services(Tcs)',\n",
       " 'Job||Job Opening For AI Technologist - Data Scientist at Wipro Holmes',\n",
       " 'Hiring For DATA Scientist @ NTT DATA Business Solution India',\n",
       " 'Urgent Job Opening For AI Practitioner - Data Science at Wipro Holmes',\n",
       " 'Data Scientist',\n",
       " 'Data Scientist - Full Stack']"
      ]
     },
     "execution_count": 30,
     "metadata": {},
     "output_type": "execute_result"
    }
   ],
   "source": [
    "# extract the text of the job title  from the tags\n",
    "job_titles=[]\n",
    "for i in title_tags:\n",
    "    job_titles.append(i.text)\n",
    "job_titles[:10]  "
   ]
  },
  {
   "cell_type": "code",
   "execution_count": 31,
   "id": "5d1542a7",
   "metadata": {},
   "outputs": [
    {
     "data": {
      "text/plain": [
       "[<selenium.webdriver.remote.webelement.WebElement (session=\"09fcf97c3786f4eee5ff6c695442d213\", element=\"daecf74e-e424-4629-baa3-287ec6ac127e\")>,\n",
       " <selenium.webdriver.remote.webelement.WebElement (session=\"09fcf97c3786f4eee5ff6c695442d213\", element=\"e13677a4-5820-4514-8f76-f7020d4c9f49\")>,\n",
       " <selenium.webdriver.remote.webelement.WebElement (session=\"09fcf97c3786f4eee5ff6c695442d213\", element=\"047806c4-7d57-4358-9bef-a0ab73934a52\")>,\n",
       " <selenium.webdriver.remote.webelement.WebElement (session=\"09fcf97c3786f4eee5ff6c695442d213\", element=\"72e95bd4-e0fd-400b-933c-f43f5846f8e1\")>,\n",
       " <selenium.webdriver.remote.webelement.WebElement (session=\"09fcf97c3786f4eee5ff6c695442d213\", element=\"e7b6fd33-b874-49c2-a6e3-0e33e38b82d7\")>,\n",
       " <selenium.webdriver.remote.webelement.WebElement (session=\"09fcf97c3786f4eee5ff6c695442d213\", element=\"5b1a5202-0d04-4ae1-b483-e08fec58891e\")>,\n",
       " <selenium.webdriver.remote.webelement.WebElement (session=\"09fcf97c3786f4eee5ff6c695442d213\", element=\"4fff081a-8e7d-4a72-a403-3246b4665db5\")>,\n",
       " <selenium.webdriver.remote.webelement.WebElement (session=\"09fcf97c3786f4eee5ff6c695442d213\", element=\"d0ca1af7-0a02-4e01-95ce-c2c18229cadf\")>,\n",
       " <selenium.webdriver.remote.webelement.WebElement (session=\"09fcf97c3786f4eee5ff6c695442d213\", element=\"dbb74f3b-5f48-4a0d-afbc-0727a08ffb88\")>,\n",
       " <selenium.webdriver.remote.webelement.WebElement (session=\"09fcf97c3786f4eee5ff6c695442d213\", element=\"312fc060-3a29-4978-ad75-04281c9ca8f3\")>,\n",
       " <selenium.webdriver.remote.webelement.WebElement (session=\"09fcf97c3786f4eee5ff6c695442d213\", element=\"7cfae538-7b81-479a-ab58-5bcff94c1dcb\")>,\n",
       " <selenium.webdriver.remote.webelement.WebElement (session=\"09fcf97c3786f4eee5ff6c695442d213\", element=\"1975eedb-08db-47e9-9919-03eb5124aaf0\")>,\n",
       " <selenium.webdriver.remote.webelement.WebElement (session=\"09fcf97c3786f4eee5ff6c695442d213\", element=\"225dad97-8b52-4649-9a30-36f48fd55bbb\")>,\n",
       " <selenium.webdriver.remote.webelement.WebElement (session=\"09fcf97c3786f4eee5ff6c695442d213\", element=\"959eb921-b910-41ac-83d3-ad344bcc28d4\")>,\n",
       " <selenium.webdriver.remote.webelement.WebElement (session=\"09fcf97c3786f4eee5ff6c695442d213\", element=\"5b160f2c-c0a3-4243-b4c3-6155dd2dd61a\")>,\n",
       " <selenium.webdriver.remote.webelement.WebElement (session=\"09fcf97c3786f4eee5ff6c695442d213\", element=\"4e34a960-f5d6-4515-a170-dc004413bc7c\")>,\n",
       " <selenium.webdriver.remote.webelement.WebElement (session=\"09fcf97c3786f4eee5ff6c695442d213\", element=\"2ba74cf3-d55e-44c6-a5aa-cdd63a238143\")>,\n",
       " <selenium.webdriver.remote.webelement.WebElement (session=\"09fcf97c3786f4eee5ff6c695442d213\", element=\"78758a91-8e10-4a53-89f3-5c128c9bcc17\")>,\n",
       " <selenium.webdriver.remote.webelement.WebElement (session=\"09fcf97c3786f4eee5ff6c695442d213\", element=\"dc2220ca-be32-4a2e-8b53-09a2ff57db69\")>,\n",
       " <selenium.webdriver.remote.webelement.WebElement (session=\"09fcf97c3786f4eee5ff6c695442d213\", element=\"36c6c77d-db3c-42a3-a62e-d75ba112c96f\")>]"
      ]
     },
     "execution_count": 31,
     "metadata": {},
     "output_type": "execute_result"
    }
   ],
   "source": [
    "# lets extract all the tags having company names\n",
    "company_tags=driver.find_elements(By.XPATH,\"//a[@class='subTitle ellipsis fleft']\")\n",
    "company_tags"
   ]
  },
  {
   "cell_type": "code",
   "execution_count": 32,
   "id": "3d48ea58",
   "metadata": {},
   "outputs": [
    {
     "data": {
      "text/plain": [
       "['TATA CONSULTANCY SERVICES (TCS)',\n",
       " 'PwC',\n",
       " 'CitiusTech',\n",
       " 'Accenture',\n",
       " 'TATA CONSULTANCY SERVICES (TCS)',\n",
       " 'Wipro',\n",
       " 'NTT DATA Business Solutions Private Limited',\n",
       " 'Wipro',\n",
       " 'Concentrix',\n",
       " 'Salesforce']"
      ]
     },
     "execution_count": 32,
     "metadata": {},
     "output_type": "execute_result"
    }
   ],
   "source": [
    "# Now we will extract the text from the tags by looping over these tags\n",
    "companies_names=[]\n",
    "\n",
    "for i in company_tags:\n",
    "    companies_names.append(i.text)\n",
    "companies_names[:10] "
   ]
  },
  {
   "cell_type": "code",
   "execution_count": 33,
   "id": "b59bec17",
   "metadata": {},
   "outputs": [
    {
     "data": {
      "text/plain": [
       "[<selenium.webdriver.remote.webelement.WebElement (session=\"09fcf97c3786f4eee5ff6c695442d213\", element=\"8d6dde91-5a65-4e73-9ad9-eb15f8938775\")>,\n",
       " <selenium.webdriver.remote.webelement.WebElement (session=\"09fcf97c3786f4eee5ff6c695442d213\", element=\"e43319cf-6939-4e38-b201-475aab4e6d13\")>,\n",
       " <selenium.webdriver.remote.webelement.WebElement (session=\"09fcf97c3786f4eee5ff6c695442d213\", element=\"b2905c72-bc6e-4161-9194-b2056cfbcff5\")>,\n",
       " <selenium.webdriver.remote.webelement.WebElement (session=\"09fcf97c3786f4eee5ff6c695442d213\", element=\"688bd975-6a9b-4dc9-ac5a-46a292585d2d\")>,\n",
       " <selenium.webdriver.remote.webelement.WebElement (session=\"09fcf97c3786f4eee5ff6c695442d213\", element=\"b7ffbd43-993e-4304-82f4-fd0a793a6570\")>,\n",
       " <selenium.webdriver.remote.webelement.WebElement (session=\"09fcf97c3786f4eee5ff6c695442d213\", element=\"4722ed03-02f1-4e7b-8c65-4cbfe47ff5b5\")>,\n",
       " <selenium.webdriver.remote.webelement.WebElement (session=\"09fcf97c3786f4eee5ff6c695442d213\", element=\"161280b7-b466-4abc-b9e0-4ae1206b2386\")>,\n",
       " <selenium.webdriver.remote.webelement.WebElement (session=\"09fcf97c3786f4eee5ff6c695442d213\", element=\"be01bd6a-c4a8-4797-9de4-56f62ff9ffe5\")>,\n",
       " <selenium.webdriver.remote.webelement.WebElement (session=\"09fcf97c3786f4eee5ff6c695442d213\", element=\"357bf76d-444d-4c9c-8829-0de95aa9cdcc\")>,\n",
       " <selenium.webdriver.remote.webelement.WebElement (session=\"09fcf97c3786f4eee5ff6c695442d213\", element=\"9763313e-0a57-4a9f-8077-a8004b0bb5b8\")>,\n",
       " <selenium.webdriver.remote.webelement.WebElement (session=\"09fcf97c3786f4eee5ff6c695442d213\", element=\"157acf05-57c9-4bce-b8b4-9376587c2182\")>,\n",
       " <selenium.webdriver.remote.webelement.WebElement (session=\"09fcf97c3786f4eee5ff6c695442d213\", element=\"e91dd63f-e88a-47c2-97c0-0f8b9b60049f\")>,\n",
       " <selenium.webdriver.remote.webelement.WebElement (session=\"09fcf97c3786f4eee5ff6c695442d213\", element=\"ff97b53c-65c7-4ba5-9b8f-95f8c35e729d\")>,\n",
       " <selenium.webdriver.remote.webelement.WebElement (session=\"09fcf97c3786f4eee5ff6c695442d213\", element=\"ce4c3eea-a8d1-4782-9c52-5bce73bc1192\")>,\n",
       " <selenium.webdriver.remote.webelement.WebElement (session=\"09fcf97c3786f4eee5ff6c695442d213\", element=\"e96e3d86-ccb7-41e1-aa9c-debce676051c\")>,\n",
       " <selenium.webdriver.remote.webelement.WebElement (session=\"09fcf97c3786f4eee5ff6c695442d213\", element=\"253b4135-edc9-4b3a-85ab-50e0798b3cc3\")>,\n",
       " <selenium.webdriver.remote.webelement.WebElement (session=\"09fcf97c3786f4eee5ff6c695442d213\", element=\"81e7e304-2287-4847-9ad7-54eba35e2a12\")>,\n",
       " <selenium.webdriver.remote.webelement.WebElement (session=\"09fcf97c3786f4eee5ff6c695442d213\", element=\"cbc6120c-e229-4c95-bfd6-659c62aa840a\")>,\n",
       " <selenium.webdriver.remote.webelement.WebElement (session=\"09fcf97c3786f4eee5ff6c695442d213\", element=\"3fa797d0-de7b-4ec6-80e8-fddd5d77a482\")>,\n",
       " <selenium.webdriver.remote.webelement.WebElement (session=\"09fcf97c3786f4eee5ff6c695442d213\", element=\"305a2c5d-ca14-4b0e-8953-cd286f318fc2\")>]"
      ]
     },
     "execution_count": 33,
     "metadata": {},
     "output_type": "execute_result"
    }
   ],
   "source": [
    "# so lets extract  all the tags having the experience required data\n",
    "experience_tags=driver.find_elements(By.XPATH,\"//li[@class='fleft grey-text br2 placeHolderLi experience'] //span\")\n",
    "experience_tags"
   ]
  },
  {
   "cell_type": "code",
   "execution_count": 34,
   "id": "9610163f",
   "metadata": {},
   "outputs": [
    {
     "data": {
      "text/plain": [
       "['3-8 Yrs',\n",
       " '5-12 Yrs',\n",
       " '5-9 Yrs',\n",
       " '6-8 Yrs',\n",
       " '9-14 Yrs',\n",
       " '5-10 Yrs',\n",
       " '4-9 Yrs',\n",
       " '11-20 Yrs',\n",
       " '7-12 Yrs',\n",
       " '4-9 Yrs']"
      ]
     },
     "execution_count": 34,
     "metadata": {},
     "output_type": "execute_result"
    }
   ],
   "source": [
    "# no we will extract the text  from these tags only by one by looping over these tags\n",
    "experience_list=[]\n",
    "\n",
    "for i in experience_tags:\n",
    "    experience_list.append(i.text)\n",
    "experience_list[:10] "
   ]
  },
  {
   "cell_type": "code",
   "execution_count": 35,
   "id": "be720fd1",
   "metadata": {},
   "outputs": [
    {
     "data": {
      "text/plain": [
       "[<selenium.webdriver.remote.webelement.WebElement (session=\"09fcf97c3786f4eee5ff6c695442d213\", element=\"d12d295a-c0ec-4013-a74b-4920c7929d8a\")>,\n",
       " <selenium.webdriver.remote.webelement.WebElement (session=\"09fcf97c3786f4eee5ff6c695442d213\", element=\"d6696514-16f3-4239-890c-315858b2dc80\")>,\n",
       " <selenium.webdriver.remote.webelement.WebElement (session=\"09fcf97c3786f4eee5ff6c695442d213\", element=\"67076896-a8ff-4b0f-b15c-4c704283b7f3\")>,\n",
       " <selenium.webdriver.remote.webelement.WebElement (session=\"09fcf97c3786f4eee5ff6c695442d213\", element=\"9aba562d-ba59-4d65-8415-b42a2c97034e\")>,\n",
       " <selenium.webdriver.remote.webelement.WebElement (session=\"09fcf97c3786f4eee5ff6c695442d213\", element=\"5b7f0ad5-b3b7-46d3-b73f-4f3af137827e\")>,\n",
       " <selenium.webdriver.remote.webelement.WebElement (session=\"09fcf97c3786f4eee5ff6c695442d213\", element=\"c4480ac1-c1e8-493e-9408-d3aef8527c03\")>,\n",
       " <selenium.webdriver.remote.webelement.WebElement (session=\"09fcf97c3786f4eee5ff6c695442d213\", element=\"91608081-3dec-4266-bd7d-5d9d4c385705\")>,\n",
       " <selenium.webdriver.remote.webelement.WebElement (session=\"09fcf97c3786f4eee5ff6c695442d213\", element=\"0a7643e5-65ae-4f56-ad72-ebb09f3e05cf\")>,\n",
       " <selenium.webdriver.remote.webelement.WebElement (session=\"09fcf97c3786f4eee5ff6c695442d213\", element=\"ede9f903-bdba-48e8-8ef5-9c251e4e427b\")>,\n",
       " <selenium.webdriver.remote.webelement.WebElement (session=\"09fcf97c3786f4eee5ff6c695442d213\", element=\"0b0d3af2-8add-476a-ac14-e3acb2f80a20\")>,\n",
       " <selenium.webdriver.remote.webelement.WebElement (session=\"09fcf97c3786f4eee5ff6c695442d213\", element=\"c28d10d1-234b-4d5c-b753-04b78574f7c5\")>,\n",
       " <selenium.webdriver.remote.webelement.WebElement (session=\"09fcf97c3786f4eee5ff6c695442d213\", element=\"57ad711b-6208-4cd0-b660-b9d0c16845cd\")>,\n",
       " <selenium.webdriver.remote.webelement.WebElement (session=\"09fcf97c3786f4eee5ff6c695442d213\", element=\"556f4642-bb07-4a18-a21c-1ac79127ea56\")>,\n",
       " <selenium.webdriver.remote.webelement.WebElement (session=\"09fcf97c3786f4eee5ff6c695442d213\", element=\"99c00e88-eed4-496e-a23f-c15f5da64f21\")>,\n",
       " <selenium.webdriver.remote.webelement.WebElement (session=\"09fcf97c3786f4eee5ff6c695442d213\", element=\"a26f4b1b-5675-4acc-917b-03d39b979fed\")>,\n",
       " <selenium.webdriver.remote.webelement.WebElement (session=\"09fcf97c3786f4eee5ff6c695442d213\", element=\"e4137600-ad34-4eef-b59f-9bfa554289c1\")>,\n",
       " <selenium.webdriver.remote.webelement.WebElement (session=\"09fcf97c3786f4eee5ff6c695442d213\", element=\"e0de1aee-0267-499c-9858-185a6bbba4a8\")>,\n",
       " <selenium.webdriver.remote.webelement.WebElement (session=\"09fcf97c3786f4eee5ff6c695442d213\", element=\"58c6f0a6-ab11-41a9-ae7b-67d56c11d282\")>,\n",
       " <selenium.webdriver.remote.webelement.WebElement (session=\"09fcf97c3786f4eee5ff6c695442d213\", element=\"05550bfe-9f7e-41fc-b526-237ff8b20866\")>,\n",
       " <selenium.webdriver.remote.webelement.WebElement (session=\"09fcf97c3786f4eee5ff6c695442d213\", element=\"80a7ab7f-7998-4474-be2a-08e53dbda814\")>]"
      ]
     },
     "execution_count": 35,
     "metadata": {},
     "output_type": "execute_result"
    }
   ],
   "source": [
    "locations_tags=driver.find_elements(By.XPATH,\"//li[@class='fleft grey-text br2 placeHolderLi location']/span\")\n",
    "locations_tags"
   ]
  },
  {
   "cell_type": "code",
   "execution_count": 36,
   "id": "5ca85127",
   "metadata": {},
   "outputs": [
    {
     "data": {
      "text/plain": [
       "['Bangalore/Bengaluru, Chennai, Mumbai (All Areas)',\n",
       " 'Bangalore/Bengaluru, Mumbai, Hyderabad/Secunderabad',\n",
       " 'Bangalore/Bengaluru, Mumbai, Pune',\n",
       " 'Bangalore/Bengaluru, Kolkata, Mumbai, Hyderabad/Secunderabad, Pune, Chennai, delhi ncr',\n",
       " 'Bangalore/Bengaluru, Kochi/Cochin, Indore, New Delhi, Hyderabad/Secunderabad, Pune, Chennai, Delhi / NCR, Mumbai (All Areas)',\n",
       " 'Bangalore/Bengaluru, New Delhi, Hyderabad/Secunderabad, Pune, Chennai, Coimbatore, Cochin, Mumbai',\n",
       " 'Bangalore/Bengaluru, Noida, Hyderabad/Secunderabad, Pune, Gurgaon/Gurugram, Chennai, Mumbai (All Areas)',\n",
       " 'Bangalore/Bengaluru, Kochi/Cochin, New Delhi, Coimbatore, Chennai, Pune, Mumbai, Hyderabad',\n",
       " 'Bangalore/Bengaluru',\n",
       " 'Bangalore/Bengaluru, Hyderabad/Secunderabad']"
      ]
     },
     "execution_count": 36,
     "metadata": {},
     "output_type": "execute_result"
    }
   ],
   "source": [
    "locations_list=[]\n",
    "for i in locations_tags:\n",
    "    locations_list.append(i.text)\n",
    "locations_list[:10] "
   ]
  },
  {
   "cell_type": "code",
   "execution_count": 37,
   "id": "c7dabb7e",
   "metadata": {},
   "outputs": [
    {
     "name": "stdout",
     "output_type": "stream",
     "text": [
      "10\n",
      "10\n",
      "10\n",
      "10\n"
     ]
    },
    {
     "data": {
      "text/plain": [
       "(None, None, None, None)"
      ]
     },
     "execution_count": 37,
     "metadata": {},
     "output_type": "execute_result"
    }
   ],
   "source": [
    "#So lets check th length of ech element.\n",
    "print(len(job_titles[:10])),print(len(companies_names[:10])),print(len(experience_list[:10])),print(len(locations_list[:10]))"
   ]
  },
  {
   "cell_type": "markdown",
   "id": "3815e223",
   "metadata": {},
   "source": [
    "Creating a DataFarme for the Data Scientist jobs"
   ]
  },
  {
   "cell_type": "code",
   "execution_count": 38,
   "id": "d4660dd5",
   "metadata": {},
   "outputs": [
    {
     "data": {
      "text/html": [
       "<div>\n",
       "<style scoped>\n",
       "    .dataframe tbody tr th:only-of-type {\n",
       "        vertical-align: middle;\n",
       "    }\n",
       "\n",
       "    .dataframe tbody tr th {\n",
       "        vertical-align: top;\n",
       "    }\n",
       "\n",
       "    .dataframe thead th {\n",
       "        text-align: right;\n",
       "    }\n",
       "</style>\n",
       "<table border=\"1\" class=\"dataframe\">\n",
       "  <thead>\n",
       "    <tr style=\"text-align: right;\">\n",
       "      <th></th>\n",
       "      <th>Job_title</th>\n",
       "      <th>Company_name</th>\n",
       "      <th>Experience_required</th>\n",
       "      <th>Job_location</th>\n",
       "    </tr>\n",
       "  </thead>\n",
       "  <tbody>\n",
       "    <tr>\n",
       "      <th>0</th>\n",
       "      <td>Tcs Hiring For Data Scientist</td>\n",
       "      <td>TATA CONSULTANCY SERVICES (TCS)</td>\n",
       "      <td>3-8 Yrs</td>\n",
       "      <td>Bangalore/Bengaluru, Chennai, Mumbai (All Areas)</td>\n",
       "    </tr>\n",
       "    <tr>\n",
       "      <th>1</th>\n",
       "      <td>Senior Manager - EmTech - Machine Learning - P&amp;T</td>\n",
       "      <td>PwC</td>\n",
       "      <td>5-12 Yrs</td>\n",
       "      <td>Bangalore/Bengaluru, Mumbai, Hyderabad/Secunde...</td>\n",
       "    </tr>\n",
       "    <tr>\n",
       "      <th>2</th>\n",
       "      <td>Assistant Manager - Data Science</td>\n",
       "      <td>CitiusTech</td>\n",
       "      <td>5-9 Yrs</td>\n",
       "      <td>Bangalore/Bengaluru, Mumbai, Pune</td>\n",
       "    </tr>\n",
       "    <tr>\n",
       "      <th>3</th>\n",
       "      <td>Analystics &amp; Modeling Specialist</td>\n",
       "      <td>Accenture</td>\n",
       "      <td>6-8 Yrs</td>\n",
       "      <td>Bangalore/Bengaluru, Kolkata, Mumbai, Hyderaba...</td>\n",
       "    </tr>\n",
       "    <tr>\n",
       "      <th>4</th>\n",
       "      <td>Data scientist _Tata Consultancy Services(Tcs)</td>\n",
       "      <td>TATA CONSULTANCY SERVICES (TCS)</td>\n",
       "      <td>9-14 Yrs</td>\n",
       "      <td>Bangalore/Bengaluru, Kochi/Cochin, Indore, New...</td>\n",
       "    </tr>\n",
       "    <tr>\n",
       "      <th>5</th>\n",
       "      <td>Job||Job Opening For AI Technologist - Data Sc...</td>\n",
       "      <td>Wipro</td>\n",
       "      <td>5-10 Yrs</td>\n",
       "      <td>Bangalore/Bengaluru, New Delhi, Hyderabad/Secu...</td>\n",
       "    </tr>\n",
       "    <tr>\n",
       "      <th>6</th>\n",
       "      <td>Hiring For DATA Scientist @ NTT DATA Business ...</td>\n",
       "      <td>NTT DATA Business Solutions Private Limited</td>\n",
       "      <td>4-9 Yrs</td>\n",
       "      <td>Bangalore/Bengaluru, Noida, Hyderabad/Secunder...</td>\n",
       "    </tr>\n",
       "    <tr>\n",
       "      <th>7</th>\n",
       "      <td>Urgent Job Opening For AI Practitioner - Data ...</td>\n",
       "      <td>Wipro</td>\n",
       "      <td>11-20 Yrs</td>\n",
       "      <td>Bangalore/Bengaluru, Kochi/Cochin, New Delhi, ...</td>\n",
       "    </tr>\n",
       "    <tr>\n",
       "      <th>8</th>\n",
       "      <td>Data Scientist</td>\n",
       "      <td>Concentrix</td>\n",
       "      <td>7-12 Yrs</td>\n",
       "      <td>Bangalore/Bengaluru</td>\n",
       "    </tr>\n",
       "    <tr>\n",
       "      <th>9</th>\n",
       "      <td>Data Scientist - Full Stack</td>\n",
       "      <td>Salesforce</td>\n",
       "      <td>4-9 Yrs</td>\n",
       "      <td>Bangalore/Bengaluru, Hyderabad/Secunderabad</td>\n",
       "    </tr>\n",
       "  </tbody>\n",
       "</table>\n",
       "</div>"
      ],
      "text/plain": [
       "                                           Job_title  \\\n",
       "0                      Tcs Hiring For Data Scientist   \n",
       "1   Senior Manager - EmTech - Machine Learning - P&T   \n",
       "2                   Assistant Manager - Data Science   \n",
       "3                   Analystics & Modeling Specialist   \n",
       "4     Data scientist _Tata Consultancy Services(Tcs)   \n",
       "5  Job||Job Opening For AI Technologist - Data Sc...   \n",
       "6  Hiring For DATA Scientist @ NTT DATA Business ...   \n",
       "7  Urgent Job Opening For AI Practitioner - Data ...   \n",
       "8                                     Data Scientist   \n",
       "9                        Data Scientist - Full Stack   \n",
       "\n",
       "                                  Company_name Experience_required  \\\n",
       "0              TATA CONSULTANCY SERVICES (TCS)             3-8 Yrs   \n",
       "1                                          PwC            5-12 Yrs   \n",
       "2                                   CitiusTech             5-9 Yrs   \n",
       "3                                    Accenture             6-8 Yrs   \n",
       "4              TATA CONSULTANCY SERVICES (TCS)            9-14 Yrs   \n",
       "5                                        Wipro            5-10 Yrs   \n",
       "6  NTT DATA Business Solutions Private Limited             4-9 Yrs   \n",
       "7                                        Wipro           11-20 Yrs   \n",
       "8                                   Concentrix            7-12 Yrs   \n",
       "9                                   Salesforce             4-9 Yrs   \n",
       "\n",
       "                                        Job_location  \n",
       "0   Bangalore/Bengaluru, Chennai, Mumbai (All Areas)  \n",
       "1  Bangalore/Bengaluru, Mumbai, Hyderabad/Secunde...  \n",
       "2                  Bangalore/Bengaluru, Mumbai, Pune  \n",
       "3  Bangalore/Bengaluru, Kolkata, Mumbai, Hyderaba...  \n",
       "4  Bangalore/Bengaluru, Kochi/Cochin, Indore, New...  \n",
       "5  Bangalore/Bengaluru, New Delhi, Hyderabad/Secu...  \n",
       "6  Bangalore/Bengaluru, Noida, Hyderabad/Secunder...  \n",
       "7  Bangalore/Bengaluru, Kochi/Cochin, New Delhi, ...  \n",
       "8                                Bangalore/Bengaluru  \n",
       "9        Bangalore/Bengaluru, Hyderabad/Secunderabad  "
      ]
     },
     "execution_count": 38,
     "metadata": {},
     "output_type": "execute_result"
    }
   ],
   "source": [
    "jobs=pd.DataFrame({'Job_title':job_titles[:10],'Company_name':companies_names[:10],'Experience_required':experience_list[:10],'Job_location':locations_list[:10]})\n",
    "jobs"
   ]
  },
  {
   "cell_type": "code",
   "execution_count": 39,
   "id": "6623e8c3",
   "metadata": {},
   "outputs": [],
   "source": [
    "driver.close()"
   ]
  },
  {
   "cell_type": "code",
   "execution_count": 40,
   "id": "7b329f72",
   "metadata": {},
   "outputs": [],
   "source": [
    "from selenium.common.exceptions import NoSuchElementException"
   ]
  },
  {
   "cell_type": "markdown",
   "id": "ab505754",
   "metadata": {},
   "source": [
    "# Q3: In this question you have to scrape data using the filters available on the webpage as shown below:\n",
    "\n",
    "You have to use the location and salary filter.\n",
    "\n",
    "You have to scrape data for “Data Scientist” designation for first 10 job results.\n",
    "\n",
    "You have to scrape the job-title, job-location, company_name, experience_required.\n",
    "\n",
    "The location filter to be used is “Delhi/NCR”\n",
    "\n",
    "The salary filter to be used is “3-6” lakhs"
   ]
  },
  {
   "cell_type": "code",
   "execution_count": 41,
   "id": "0645fca0",
   "metadata": {},
   "outputs": [],
   "source": [
    "# let's first connect to the web driver\n",
    "driver = webdriver.Chrome(r\"C:\\Users\\Sunny\\Downloads\\chromedriver_win32\\chromedriver.exe\")"
   ]
  },
  {
   "cell_type": "code",
   "execution_count": 42,
   "id": "0078b6fe",
   "metadata": {},
   "outputs": [],
   "source": [
    "url = \"https://www.naukri.com/\"\n",
    "driver.get(url)"
   ]
  },
  {
   "cell_type": "code",
   "execution_count": 43,
   "id": "99867021",
   "metadata": {},
   "outputs": [],
   "source": [
    "# finding element for job search bar\n",
    "search_job = driver.find_element(By.CLASS_NAME,\"suggestor-input \")\n",
    "search_job.send_keys('Data Scientist')"
   ]
  },
  {
   "cell_type": "code",
   "execution_count": 44,
   "id": "d12d7f66",
   "metadata": {},
   "outputs": [],
   "source": [
    "# finding element for job location bar\n",
    "search_loc=driver.find_element(By.XPATH,'/html/body/div[1]/div[2]/div[3]/div/div/div[5]/div/div/div/input')\n",
    "search_loc.send_keys(\"Delhi/NCR\")"
   ]
  },
  {
   "cell_type": "code",
   "execution_count": 45,
   "id": "96df9dd1",
   "metadata": {},
   "outputs": [],
   "source": [
    "# clicking using class function\n",
    "search = driver.find_element(By.CLASS_NAME,\"qsbSubmit\")\n",
    "search.click()"
   ]
  },
  {
   "cell_type": "code",
   "execution_count": 46,
   "id": "52f45d05",
   "metadata": {},
   "outputs": [],
   "source": [
    "# selecting salary filter\n",
    "search_salary = driver.find_element(By.XPATH,'//span[@title=\"3-6 Lakhs\"]')\n",
    "search_salary.click()"
   ]
  },
  {
   "cell_type": "code",
   "execution_count": 47,
   "id": "75eed4e8",
   "metadata": {},
   "outputs": [],
   "source": [
    "# selecting location filter\n",
    "search_location = driver.find_element(By.XPATH,'//span[@title=\"Delhi / NCR\"]')\n",
    "search_location.click()"
   ]
  },
  {
   "cell_type": "code",
   "execution_count": 48,
   "id": "b538caeb",
   "metadata": {},
   "outputs": [
    {
     "data": {
      "text/plain": [
       "[<selenium.webdriver.remote.webelement.WebElement (session=\"fd516449fafdf073fd905ef84e22b7b3\", element=\"35686da5-3b08-4c0c-aca9-a03a1f9e5ed6\")>,\n",
       " <selenium.webdriver.remote.webelement.WebElement (session=\"fd516449fafdf073fd905ef84e22b7b3\", element=\"ac4a650e-a20e-4ba1-bcef-454b3a144274\")>,\n",
       " <selenium.webdriver.remote.webelement.WebElement (session=\"fd516449fafdf073fd905ef84e22b7b3\", element=\"6bffe599-c177-4411-bbb8-aa73f5db99c6\")>,\n",
       " <selenium.webdriver.remote.webelement.WebElement (session=\"fd516449fafdf073fd905ef84e22b7b3\", element=\"53e33826-2d58-435e-80ba-a829ec2797c8\")>,\n",
       " <selenium.webdriver.remote.webelement.WebElement (session=\"fd516449fafdf073fd905ef84e22b7b3\", element=\"40f9b0dd-e9a1-4973-938a-4c516614808d\")>,\n",
       " <selenium.webdriver.remote.webelement.WebElement (session=\"fd516449fafdf073fd905ef84e22b7b3\", element=\"fe456601-cce6-4fb5-9e54-a95ede2d4eca\")>,\n",
       " <selenium.webdriver.remote.webelement.WebElement (session=\"fd516449fafdf073fd905ef84e22b7b3\", element=\"f5126fdd-2884-4e6b-85e0-fe1c92c63c78\")>,\n",
       " <selenium.webdriver.remote.webelement.WebElement (session=\"fd516449fafdf073fd905ef84e22b7b3\", element=\"30d594ff-a083-44d9-972d-42662eb3a751\")>,\n",
       " <selenium.webdriver.remote.webelement.WebElement (session=\"fd516449fafdf073fd905ef84e22b7b3\", element=\"761e2aa3-8b79-44d7-b231-087a031da952\")>,\n",
       " <selenium.webdriver.remote.webelement.WebElement (session=\"fd516449fafdf073fd905ef84e22b7b3\", element=\"9779f053-6851-47eb-97e7-d8539e016bad\")>,\n",
       " <selenium.webdriver.remote.webelement.WebElement (session=\"fd516449fafdf073fd905ef84e22b7b3\", element=\"54a6abf1-90b8-4e8f-9ac5-5fd8c7180ec5\")>,\n",
       " <selenium.webdriver.remote.webelement.WebElement (session=\"fd516449fafdf073fd905ef84e22b7b3\", element=\"1edca1b2-296e-4365-89eb-2007c13beb85\")>,\n",
       " <selenium.webdriver.remote.webelement.WebElement (session=\"fd516449fafdf073fd905ef84e22b7b3\", element=\"db302074-2b21-4a63-a146-e7cfd8fc673a\")>,\n",
       " <selenium.webdriver.remote.webelement.WebElement (session=\"fd516449fafdf073fd905ef84e22b7b3\", element=\"0805c4ee-a91a-4025-9581-ad0b4faabda0\")>,\n",
       " <selenium.webdriver.remote.webelement.WebElement (session=\"fd516449fafdf073fd905ef84e22b7b3\", element=\"103ff938-5631-4834-b5b9-be231e6dc719\")>,\n",
       " <selenium.webdriver.remote.webelement.WebElement (session=\"fd516449fafdf073fd905ef84e22b7b3\", element=\"77d75140-ce12-4048-b204-350ea4105158\")>,\n",
       " <selenium.webdriver.remote.webelement.WebElement (session=\"fd516449fafdf073fd905ef84e22b7b3\", element=\"d384e224-432d-4654-a608-5c01cade914a\")>,\n",
       " <selenium.webdriver.remote.webelement.WebElement (session=\"fd516449fafdf073fd905ef84e22b7b3\", element=\"ffbdfb6d-9344-4a77-986a-61510841ef8a\")>,\n",
       " <selenium.webdriver.remote.webelement.WebElement (session=\"fd516449fafdf073fd905ef84e22b7b3\", element=\"863181f4-a298-4a7f-9601-43fa94e6626b\")>,\n",
       " <selenium.webdriver.remote.webelement.WebElement (session=\"fd516449fafdf073fd905ef84e22b7b3\", element=\"7dcb7064-0bb2-4c12-b850-40aefca03e17\")>]"
      ]
     },
     "execution_count": 48,
     "metadata": {},
     "output_type": "execute_result"
    }
   ],
   "source": [
    "#so let's extract all the tags having the job titles\n",
    "title_tags=driver.find_elements(By.XPATH,\"//a[@class='title fw500 ellipsis']\")\n",
    "title_tags"
   ]
  },
  {
   "cell_type": "code",
   "execution_count": 49,
   "id": "25662d6e",
   "metadata": {},
   "outputs": [
    {
     "data": {
      "text/plain": [
       "['Job||Job Opening For AI Technologist - Data Scientist at Wipro Holmes',\n",
       " 'Data Scientist - Noida/Bangalore',\n",
       " 'DigitalBCG GAMMA Data Scientist',\n",
       " 'Data Scientist',\n",
       " 'Chat-bot Developer / Data Scientist',\n",
       " 'Data Scientist / Chat-bot Developer',\n",
       " 'Data Scientist - Engine Algorithm',\n",
       " 'Data Scientist For Healthcare Product team',\n",
       " 'Data Scientist',\n",
       " 'Data Scientist']"
      ]
     },
     "execution_count": 49,
     "metadata": {},
     "output_type": "execute_result"
    }
   ],
   "source": [
    "# extract the text of the job title  from the tags\n",
    "job_titles=[]\n",
    "for i in title_tags:\n",
    "    job_titles.append(i.text)\n",
    "job_titles[:10] "
   ]
  },
  {
   "cell_type": "code",
   "execution_count": 50,
   "id": "a2aa33b8",
   "metadata": {},
   "outputs": [
    {
     "data": {
      "text/plain": [
       "[<selenium.webdriver.remote.webelement.WebElement (session=\"fd516449fafdf073fd905ef84e22b7b3\", element=\"dc116381-0fbb-453a-9588-ccce08ca918c\")>,\n",
       " <selenium.webdriver.remote.webelement.WebElement (session=\"fd516449fafdf073fd905ef84e22b7b3\", element=\"08f8fa9c-741c-4daa-8391-629d54da7252\")>,\n",
       " <selenium.webdriver.remote.webelement.WebElement (session=\"fd516449fafdf073fd905ef84e22b7b3\", element=\"55efc323-797c-4af3-affb-243ccb4bff56\")>,\n",
       " <selenium.webdriver.remote.webelement.WebElement (session=\"fd516449fafdf073fd905ef84e22b7b3\", element=\"aa564388-024e-4ef0-9e40-c290e3943aec\")>,\n",
       " <selenium.webdriver.remote.webelement.WebElement (session=\"fd516449fafdf073fd905ef84e22b7b3\", element=\"83c33408-8221-46dd-904f-cfd11a7b2842\")>,\n",
       " <selenium.webdriver.remote.webelement.WebElement (session=\"fd516449fafdf073fd905ef84e22b7b3\", element=\"7d42e2c4-916c-4b36-a7f9-9afd01a1fb99\")>,\n",
       " <selenium.webdriver.remote.webelement.WebElement (session=\"fd516449fafdf073fd905ef84e22b7b3\", element=\"cd48fa3f-58b2-4ef9-89bd-a65ddfa2ae06\")>,\n",
       " <selenium.webdriver.remote.webelement.WebElement (session=\"fd516449fafdf073fd905ef84e22b7b3\", element=\"97d4c38e-6b85-48de-b990-ee5a55e26302\")>,\n",
       " <selenium.webdriver.remote.webelement.WebElement (session=\"fd516449fafdf073fd905ef84e22b7b3\", element=\"9dff7576-5eda-4bfb-94b4-160c34e089f1\")>,\n",
       " <selenium.webdriver.remote.webelement.WebElement (session=\"fd516449fafdf073fd905ef84e22b7b3\", element=\"c61d99bf-33af-4164-8d1d-ca3c3b10005a\")>,\n",
       " <selenium.webdriver.remote.webelement.WebElement (session=\"fd516449fafdf073fd905ef84e22b7b3\", element=\"99f12487-da6c-42ea-9aa3-d1746fc61a65\")>,\n",
       " <selenium.webdriver.remote.webelement.WebElement (session=\"fd516449fafdf073fd905ef84e22b7b3\", element=\"b3b3fb04-6334-4f4c-a62a-18beba8fed9b\")>,\n",
       " <selenium.webdriver.remote.webelement.WebElement (session=\"fd516449fafdf073fd905ef84e22b7b3\", element=\"dfc9dadb-ab9e-4e24-9319-7f79224f6aa3\")>,\n",
       " <selenium.webdriver.remote.webelement.WebElement (session=\"fd516449fafdf073fd905ef84e22b7b3\", element=\"dc0b610f-9b4e-492e-bbb0-3f26f87c4dc7\")>,\n",
       " <selenium.webdriver.remote.webelement.WebElement (session=\"fd516449fafdf073fd905ef84e22b7b3\", element=\"a2f583fc-0a16-4582-846d-e6208aad3d8e\")>,\n",
       " <selenium.webdriver.remote.webelement.WebElement (session=\"fd516449fafdf073fd905ef84e22b7b3\", element=\"ef9efd3d-d4e9-4f36-9b92-2dc552992a0a\")>,\n",
       " <selenium.webdriver.remote.webelement.WebElement (session=\"fd516449fafdf073fd905ef84e22b7b3\", element=\"e613fd10-4775-42f3-b773-eae2ee666b69\")>,\n",
       " <selenium.webdriver.remote.webelement.WebElement (session=\"fd516449fafdf073fd905ef84e22b7b3\", element=\"21fb3c96-0e36-42a6-a8bc-50c8f1c68804\")>,\n",
       " <selenium.webdriver.remote.webelement.WebElement (session=\"fd516449fafdf073fd905ef84e22b7b3\", element=\"7120b7d2-5e1d-4b3e-bcd3-d00945ec003b\")>,\n",
       " <selenium.webdriver.remote.webelement.WebElement (session=\"fd516449fafdf073fd905ef84e22b7b3\", element=\"7bd778a9-db1c-473f-900b-2e07b7e73001\")>]"
      ]
     },
     "execution_count": 50,
     "metadata": {},
     "output_type": "execute_result"
    }
   ],
   "source": [
    "# lets extract all the tags having company names\n",
    "company_tags=driver.find_elements(By.XPATH,\"//a[@class='subTitle ellipsis fleft']\")\n",
    "company_tags"
   ]
  },
  {
   "cell_type": "code",
   "execution_count": 51,
   "id": "67d6f145",
   "metadata": {},
   "outputs": [
    {
     "data": {
      "text/plain": [
       "['Wipro',\n",
       " 'EXL',\n",
       " 'Boston Consulting Group',\n",
       " 'Optum',\n",
       " 'Big Seo Buzz',\n",
       " 'Big Seo Buzz',\n",
       " 'Primo Hiring',\n",
       " 'SECUREKLOUD TECHNOLOGIES',\n",
       " 'Celebal Technologies',\n",
       " 'Webhelp India Private Limited']"
      ]
     },
     "execution_count": 51,
     "metadata": {},
     "output_type": "execute_result"
    }
   ],
   "source": [
    "# Now we will extract the text from the tags by looping over these tags\n",
    "companies_names=[]\n",
    "\n",
    "for i in company_tags:\n",
    "    companies_names.append(i.text)\n",
    "companies_names[:10] "
   ]
  },
  {
   "cell_type": "code",
   "execution_count": 52,
   "id": "edbff791",
   "metadata": {},
   "outputs": [
    {
     "data": {
      "text/plain": [
       "[<selenium.webdriver.remote.webelement.WebElement (session=\"fd516449fafdf073fd905ef84e22b7b3\", element=\"b8de2392-815f-4c88-9179-5a8f4ffbbcf6\")>,\n",
       " <selenium.webdriver.remote.webelement.WebElement (session=\"fd516449fafdf073fd905ef84e22b7b3\", element=\"62f32540-e04a-479f-9d8f-d6c88d529fd6\")>,\n",
       " <selenium.webdriver.remote.webelement.WebElement (session=\"fd516449fafdf073fd905ef84e22b7b3\", element=\"33dee810-a01e-4062-9633-7cc257518d60\")>,\n",
       " <selenium.webdriver.remote.webelement.WebElement (session=\"fd516449fafdf073fd905ef84e22b7b3\", element=\"cbcb2d51-4ad9-4a98-9546-a84bc41dc2a1\")>,\n",
       " <selenium.webdriver.remote.webelement.WebElement (session=\"fd516449fafdf073fd905ef84e22b7b3\", element=\"54e0826f-9e13-4579-bca0-b23aab1665c8\")>,\n",
       " <selenium.webdriver.remote.webelement.WebElement (session=\"fd516449fafdf073fd905ef84e22b7b3\", element=\"09282d31-e4ac-40f0-b0ce-72a0fecf33f3\")>,\n",
       " <selenium.webdriver.remote.webelement.WebElement (session=\"fd516449fafdf073fd905ef84e22b7b3\", element=\"561c02e2-433c-4ab1-89fc-0612381ed666\")>,\n",
       " <selenium.webdriver.remote.webelement.WebElement (session=\"fd516449fafdf073fd905ef84e22b7b3\", element=\"6401ba64-3ab0-4b42-a0e6-802717944a82\")>,\n",
       " <selenium.webdriver.remote.webelement.WebElement (session=\"fd516449fafdf073fd905ef84e22b7b3\", element=\"cb21e723-0558-494f-af45-d75e977a5ef8\")>,\n",
       " <selenium.webdriver.remote.webelement.WebElement (session=\"fd516449fafdf073fd905ef84e22b7b3\", element=\"138f92b4-6f06-4f3e-95f4-c8cc35389d43\")>,\n",
       " <selenium.webdriver.remote.webelement.WebElement (session=\"fd516449fafdf073fd905ef84e22b7b3\", element=\"f9a91af0-7d6f-47b6-a855-9860e7a7ae6b\")>,\n",
       " <selenium.webdriver.remote.webelement.WebElement (session=\"fd516449fafdf073fd905ef84e22b7b3\", element=\"418752a3-1543-4edc-8fed-7407f5b70161\")>,\n",
       " <selenium.webdriver.remote.webelement.WebElement (session=\"fd516449fafdf073fd905ef84e22b7b3\", element=\"455daf48-d15c-4bbe-ad29-6d7c2fc88ea4\")>,\n",
       " <selenium.webdriver.remote.webelement.WebElement (session=\"fd516449fafdf073fd905ef84e22b7b3\", element=\"3f052d2a-d788-4d50-b13a-1966d2485c88\")>,\n",
       " <selenium.webdriver.remote.webelement.WebElement (session=\"fd516449fafdf073fd905ef84e22b7b3\", element=\"0fa35c58-4cc3-4902-985a-ade7946d93ef\")>,\n",
       " <selenium.webdriver.remote.webelement.WebElement (session=\"fd516449fafdf073fd905ef84e22b7b3\", element=\"7d8c61bd-c84f-4055-a5d3-aa346ab6df71\")>,\n",
       " <selenium.webdriver.remote.webelement.WebElement (session=\"fd516449fafdf073fd905ef84e22b7b3\", element=\"7f58e2d3-f81b-48f6-949f-7458f1c8e071\")>,\n",
       " <selenium.webdriver.remote.webelement.WebElement (session=\"fd516449fafdf073fd905ef84e22b7b3\", element=\"c5020c59-a6cb-4ffd-838c-201107f70daf\")>,\n",
       " <selenium.webdriver.remote.webelement.WebElement (session=\"fd516449fafdf073fd905ef84e22b7b3\", element=\"48d5ffdb-99d3-4568-afad-4c7e2a719b60\")>,\n",
       " <selenium.webdriver.remote.webelement.WebElement (session=\"fd516449fafdf073fd905ef84e22b7b3\", element=\"527e9e1d-de6a-4407-a6c2-bbab22f3066c\")>]"
      ]
     },
     "execution_count": 52,
     "metadata": {},
     "output_type": "execute_result"
    }
   ],
   "source": [
    "# so lets extract  all the tags having the experience required data\n",
    "experience_tags=driver.find_elements(By.XPATH,\"//li[@class='fleft grey-text br2 placeHolderLi experience'] //span\")\n",
    "experience_tags"
   ]
  },
  {
   "cell_type": "code",
   "execution_count": 53,
   "id": "e600c4b3",
   "metadata": {},
   "outputs": [
    {
     "data": {
      "text/plain": [
       "['5-10 Yrs',\n",
       " '5-10 Yrs',\n",
       " '2-5 Yrs',\n",
       " '2-7 Yrs',\n",
       " '2-7 Yrs',\n",
       " '3-7 Yrs',\n",
       " '1-3 Yrs',\n",
       " '2-7 Yrs',\n",
       " '1-5 Yrs',\n",
       " '2-7 Yrs']"
      ]
     },
     "execution_count": 53,
     "metadata": {},
     "output_type": "execute_result"
    }
   ],
   "source": [
    "# no we will extract the text  from these tags only by one by looping over these tags\n",
    "experience_list=[]\n",
    "\n",
    "for i in experience_tags:\n",
    "    experience_list.append(i.text)\n",
    "experience_list[:10] "
   ]
  },
  {
   "cell_type": "code",
   "execution_count": 54,
   "id": "932d47b0",
   "metadata": {},
   "outputs": [
    {
     "data": {
      "text/plain": [
       "[<selenium.webdriver.remote.webelement.WebElement (session=\"fd516449fafdf073fd905ef84e22b7b3\", element=\"fad5430f-2646-4600-be1a-d266b6e46b55\")>,\n",
       " <selenium.webdriver.remote.webelement.WebElement (session=\"fd516449fafdf073fd905ef84e22b7b3\", element=\"f095cd5f-0eec-44fe-bba7-543c56c41a5c\")>,\n",
       " <selenium.webdriver.remote.webelement.WebElement (session=\"fd516449fafdf073fd905ef84e22b7b3\", element=\"48f3118f-618b-4545-aaff-34e892485e92\")>,\n",
       " <selenium.webdriver.remote.webelement.WebElement (session=\"fd516449fafdf073fd905ef84e22b7b3\", element=\"75779236-6ef8-499e-a07f-dca67eb65b39\")>,\n",
       " <selenium.webdriver.remote.webelement.WebElement (session=\"fd516449fafdf073fd905ef84e22b7b3\", element=\"fd89c13c-9568-4f07-8671-d01fb6eab0b5\")>,\n",
       " <selenium.webdriver.remote.webelement.WebElement (session=\"fd516449fafdf073fd905ef84e22b7b3\", element=\"70dd48b4-e21d-43ec-9300-c6926c835e06\")>,\n",
       " <selenium.webdriver.remote.webelement.WebElement (session=\"fd516449fafdf073fd905ef84e22b7b3\", element=\"145ccf56-496f-4fe8-8518-b032d8509785\")>,\n",
       " <selenium.webdriver.remote.webelement.WebElement (session=\"fd516449fafdf073fd905ef84e22b7b3\", element=\"3540d486-e90c-42df-bb54-423d6a3f904a\")>,\n",
       " <selenium.webdriver.remote.webelement.WebElement (session=\"fd516449fafdf073fd905ef84e22b7b3\", element=\"0f73c2a0-3d8d-47ae-8824-b606606a4221\")>,\n",
       " <selenium.webdriver.remote.webelement.WebElement (session=\"fd516449fafdf073fd905ef84e22b7b3\", element=\"ac164688-0c49-40d8-9cf4-b6d68cc300d2\")>,\n",
       " <selenium.webdriver.remote.webelement.WebElement (session=\"fd516449fafdf073fd905ef84e22b7b3\", element=\"84d9930d-4e78-459e-bc04-97abd1cba74b\")>,\n",
       " <selenium.webdriver.remote.webelement.WebElement (session=\"fd516449fafdf073fd905ef84e22b7b3\", element=\"0e5f0540-c939-4d48-8bd3-231cff4839e2\")>,\n",
       " <selenium.webdriver.remote.webelement.WebElement (session=\"fd516449fafdf073fd905ef84e22b7b3\", element=\"c15d45c5-fbf8-48be-918f-85776329d779\")>,\n",
       " <selenium.webdriver.remote.webelement.WebElement (session=\"fd516449fafdf073fd905ef84e22b7b3\", element=\"be624801-d7cb-4062-bf76-ecf29aaebb18\")>,\n",
       " <selenium.webdriver.remote.webelement.WebElement (session=\"fd516449fafdf073fd905ef84e22b7b3\", element=\"b3693aaa-497b-473c-96eb-a2a0e27021d4\")>,\n",
       " <selenium.webdriver.remote.webelement.WebElement (session=\"fd516449fafdf073fd905ef84e22b7b3\", element=\"d807696c-ecf2-486b-a9c7-d8ed05e3fe21\")>,\n",
       " <selenium.webdriver.remote.webelement.WebElement (session=\"fd516449fafdf073fd905ef84e22b7b3\", element=\"3b82df0b-86c4-4d4f-a7ea-b0b8b43134b0\")>,\n",
       " <selenium.webdriver.remote.webelement.WebElement (session=\"fd516449fafdf073fd905ef84e22b7b3\", element=\"d2a69e1c-2a09-4d83-82e7-1e032f9b71b8\")>,\n",
       " <selenium.webdriver.remote.webelement.WebElement (session=\"fd516449fafdf073fd905ef84e22b7b3\", element=\"b5a5af4f-84da-42be-8e9d-87f730e95653\")>,\n",
       " <selenium.webdriver.remote.webelement.WebElement (session=\"fd516449fafdf073fd905ef84e22b7b3\", element=\"4e7a7e0f-2aec-46aa-ab99-9c71c198cd91\")>,\n",
       " <selenium.webdriver.remote.webelement.WebElement (session=\"fd516449fafdf073fd905ef84e22b7b3\", element=\"276379a1-b6bc-4c96-8156-234cae98a785\")>]"
      ]
     },
     "execution_count": 54,
     "metadata": {},
     "output_type": "execute_result"
    }
   ],
   "source": [
    "locations_tags=driver.find_elements(By.XPATH,\"//li[@class='fleft grey-text br2 placeHolderLi location']/span\")\n",
    "locations_tags"
   ]
  },
  {
   "cell_type": "code",
   "execution_count": 55,
   "id": "805813fa",
   "metadata": {},
   "outputs": [
    {
     "data": {
      "text/plain": [
       "['New Delhi, Hyderabad/Secunderabad, Pune, Chennai, Bangalore/Bengaluru, Coimbatore, Cochin, Mumbai',\n",
       " 'Noida, Bangalore/Bengaluru',\n",
       " 'New Delhi, Bangalore/Bengaluru',\n",
       " 'Gurgaon/Gurugram',\n",
       " 'Mumbai, New Delhi, Bangalore/Bengaluru',\n",
       " '(WFH during Covid)',\n",
       " 'New Delhi, Bangalore/Bengaluru, Mumbai (All Areas)',\n",
       " 'Delhi / NCR, Kolkata, Mumbai, Hyderabad/Secunderabad, Lucknow, Chennai, Ahmedabad, Bangalore/Bengaluru',\n",
       " 'Delhi / NCR, Chennai, Bangalore/Bengaluru',\n",
       " 'Noida, Gurgaon/Gurugram, Jaipur']"
      ]
     },
     "execution_count": 55,
     "metadata": {},
     "output_type": "execute_result"
    }
   ],
   "source": [
    "locations_list=[]\n",
    "for i in locations_tags:\n",
    "    locations_list.append(i.text)\n",
    "locations_list[:10] "
   ]
  },
  {
   "cell_type": "code",
   "execution_count": 56,
   "id": "5a1201f3",
   "metadata": {},
   "outputs": [
    {
     "name": "stdout",
     "output_type": "stream",
     "text": [
      "10\n",
      "10\n",
      "10\n",
      "10\n"
     ]
    },
    {
     "data": {
      "text/plain": [
       "(None, None, None, None)"
      ]
     },
     "execution_count": 56,
     "metadata": {},
     "output_type": "execute_result"
    }
   ],
   "source": [
    "#So lets check th length of ech element.\n",
    "print(len(job_titles[:10])),print(len(companies_names[:10])),print(len(experience_list[:10])),print(len(locations_list[:10]))"
   ]
  },
  {
   "cell_type": "markdown",
   "id": "d947f9d7",
   "metadata": {},
   "source": [
    "Creating a DataFarme for the Data Scientist jobs at Delhi/NCR location for salary 3-6 lakhs"
   ]
  },
  {
   "cell_type": "code",
   "execution_count": 57,
   "id": "b8011a9a",
   "metadata": {},
   "outputs": [
    {
     "data": {
      "text/html": [
       "<div>\n",
       "<style scoped>\n",
       "    .dataframe tbody tr th:only-of-type {\n",
       "        vertical-align: middle;\n",
       "    }\n",
       "\n",
       "    .dataframe tbody tr th {\n",
       "        vertical-align: top;\n",
       "    }\n",
       "\n",
       "    .dataframe thead th {\n",
       "        text-align: right;\n",
       "    }\n",
       "</style>\n",
       "<table border=\"1\" class=\"dataframe\">\n",
       "  <thead>\n",
       "    <tr style=\"text-align: right;\">\n",
       "      <th></th>\n",
       "      <th>Job_title</th>\n",
       "      <th>Company_name</th>\n",
       "      <th>Experience_required</th>\n",
       "      <th>Job_location</th>\n",
       "    </tr>\n",
       "  </thead>\n",
       "  <tbody>\n",
       "    <tr>\n",
       "      <th>0</th>\n",
       "      <td>Job||Job Opening For AI Technologist - Data Sc...</td>\n",
       "      <td>Wipro</td>\n",
       "      <td>5-10 Yrs</td>\n",
       "      <td>New Delhi, Hyderabad/Secunderabad, Pune, Chenn...</td>\n",
       "    </tr>\n",
       "    <tr>\n",
       "      <th>1</th>\n",
       "      <td>Data Scientist - Noida/Bangalore</td>\n",
       "      <td>EXL</td>\n",
       "      <td>5-10 Yrs</td>\n",
       "      <td>Noida, Bangalore/Bengaluru</td>\n",
       "    </tr>\n",
       "    <tr>\n",
       "      <th>2</th>\n",
       "      <td>DigitalBCG GAMMA Data Scientist</td>\n",
       "      <td>Boston Consulting Group</td>\n",
       "      <td>2-5 Yrs</td>\n",
       "      <td>New Delhi, Bangalore/Bengaluru</td>\n",
       "    </tr>\n",
       "    <tr>\n",
       "      <th>3</th>\n",
       "      <td>Data Scientist</td>\n",
       "      <td>Optum</td>\n",
       "      <td>2-7 Yrs</td>\n",
       "      <td>Gurgaon/Gurugram</td>\n",
       "    </tr>\n",
       "    <tr>\n",
       "      <th>4</th>\n",
       "      <td>Chat-bot Developer / Data Scientist</td>\n",
       "      <td>Big Seo Buzz</td>\n",
       "      <td>2-7 Yrs</td>\n",
       "      <td>Mumbai, New Delhi, Bangalore/Bengaluru</td>\n",
       "    </tr>\n",
       "    <tr>\n",
       "      <th>5</th>\n",
       "      <td>Data Scientist / Chat-bot Developer</td>\n",
       "      <td>Big Seo Buzz</td>\n",
       "      <td>3-7 Yrs</td>\n",
       "      <td>(WFH during Covid)</td>\n",
       "    </tr>\n",
       "    <tr>\n",
       "      <th>6</th>\n",
       "      <td>Data Scientist - Engine Algorithm</td>\n",
       "      <td>Primo Hiring</td>\n",
       "      <td>1-3 Yrs</td>\n",
       "      <td>New Delhi, Bangalore/Bengaluru, Mumbai (All Ar...</td>\n",
       "    </tr>\n",
       "    <tr>\n",
       "      <th>7</th>\n",
       "      <td>Data Scientist For Healthcare Product team</td>\n",
       "      <td>SECUREKLOUD TECHNOLOGIES</td>\n",
       "      <td>2-7 Yrs</td>\n",
       "      <td>Delhi / NCR, Kolkata, Mumbai, Hyderabad/Secund...</td>\n",
       "    </tr>\n",
       "    <tr>\n",
       "      <th>8</th>\n",
       "      <td>Data Scientist</td>\n",
       "      <td>Celebal Technologies</td>\n",
       "      <td>1-5 Yrs</td>\n",
       "      <td>Delhi / NCR, Chennai, Bangalore/Bengaluru</td>\n",
       "    </tr>\n",
       "    <tr>\n",
       "      <th>9</th>\n",
       "      <td>Data Scientist</td>\n",
       "      <td>Webhelp India Private Limited</td>\n",
       "      <td>2-7 Yrs</td>\n",
       "      <td>Noida, Gurgaon/Gurugram, Jaipur</td>\n",
       "    </tr>\n",
       "  </tbody>\n",
       "</table>\n",
       "</div>"
      ],
      "text/plain": [
       "                                           Job_title  \\\n",
       "0  Job||Job Opening For AI Technologist - Data Sc...   \n",
       "1                   Data Scientist - Noida/Bangalore   \n",
       "2                    DigitalBCG GAMMA Data Scientist   \n",
       "3                                     Data Scientist   \n",
       "4                Chat-bot Developer / Data Scientist   \n",
       "5                Data Scientist / Chat-bot Developer   \n",
       "6                  Data Scientist - Engine Algorithm   \n",
       "7         Data Scientist For Healthcare Product team   \n",
       "8                                     Data Scientist   \n",
       "9                                     Data Scientist   \n",
       "\n",
       "                    Company_name Experience_required  \\\n",
       "0                          Wipro            5-10 Yrs   \n",
       "1                            EXL            5-10 Yrs   \n",
       "2        Boston Consulting Group             2-5 Yrs   \n",
       "3                          Optum             2-7 Yrs   \n",
       "4                   Big Seo Buzz             2-7 Yrs   \n",
       "5                   Big Seo Buzz             3-7 Yrs   \n",
       "6                   Primo Hiring             1-3 Yrs   \n",
       "7       SECUREKLOUD TECHNOLOGIES             2-7 Yrs   \n",
       "8           Celebal Technologies             1-5 Yrs   \n",
       "9  Webhelp India Private Limited             2-7 Yrs   \n",
       "\n",
       "                                        Job_location  \n",
       "0  New Delhi, Hyderabad/Secunderabad, Pune, Chenn...  \n",
       "1                         Noida, Bangalore/Bengaluru  \n",
       "2                     New Delhi, Bangalore/Bengaluru  \n",
       "3                                   Gurgaon/Gurugram  \n",
       "4             Mumbai, New Delhi, Bangalore/Bengaluru  \n",
       "5                                 (WFH during Covid)  \n",
       "6  New Delhi, Bangalore/Bengaluru, Mumbai (All Ar...  \n",
       "7  Delhi / NCR, Kolkata, Mumbai, Hyderabad/Secund...  \n",
       "8          Delhi / NCR, Chennai, Bangalore/Bengaluru  \n",
       "9                    Noida, Gurgaon/Gurugram, Jaipur  "
      ]
     },
     "execution_count": 57,
     "metadata": {},
     "output_type": "execute_result"
    }
   ],
   "source": [
    "jobs1=pd.DataFrame({'Job_title':job_titles[:10],'Company_name':companies_names[:10],'Experience_required':experience_list[:10],'Job_location':locations_list[:10]})\n",
    "jobs1"
   ]
  },
  {
   "cell_type": "code",
   "execution_count": 58,
   "id": "81fe91a1",
   "metadata": {},
   "outputs": [],
   "source": [
    "driver.close()"
   ]
  },
  {
   "cell_type": "code",
   "execution_count": 59,
   "id": "f10d0134",
   "metadata": {},
   "outputs": [],
   "source": [
    "from selenium.common.exceptions import NoSuchElementException"
   ]
  },
  {
   "cell_type": "markdown",
   "id": "8eea23aa",
   "metadata": {},
   "source": [
    "# Q4: Scrape data of first 100 sunglasses listings on flipkart.com. You have to scrape four attributes:\n",
    "1. Brand\n",
    "2. Product Description\n",
    "3. Price"
   ]
  },
  {
   "cell_type": "code",
   "execution_count": 60,
   "id": "43f0f83c",
   "metadata": {},
   "outputs": [],
   "source": [
    "# let's first connect to the web driver\n",
    "driver = webdriver.Chrome(r\"C:\\Users\\Sunny\\Downloads\\chromedriver_win32\\chromedriver.exe\")"
   ]
  },
  {
   "cell_type": "code",
   "execution_count": 61,
   "id": "9ed1eafa",
   "metadata": {},
   "outputs": [],
   "source": [
    "url = \"https://www.flipkart.com/\"\n",
    "driver.get(url)"
   ]
  },
  {
   "cell_type": "code",
   "execution_count": 62,
   "id": "655495bb",
   "metadata": {},
   "outputs": [],
   "source": [
    "# finding element on search bar\n",
    "search_g= driver.find_element(By.XPATH,(\"/html/body/div[1]/div/div[1]/div[1]/div[2]/div[2]/form/div/div/input\"))\n",
    "search_g.send_keys('sunglasses')"
   ]
  },
  {
   "cell_type": "code",
   "execution_count": 64,
   "id": "b4030930",
   "metadata": {},
   "outputs": [],
   "source": [
    "# clicking using class function\n",
    "search = driver.find_element(By.CLASS_NAME,\"L0Z3Pu\")\n",
    "search.click()"
   ]
  },
  {
   "cell_type": "code",
   "execution_count": 65,
   "id": "21c48725",
   "metadata": {},
   "outputs": [
    {
     "data": {
      "text/plain": [
       "['SKYZA INDIA',\n",
       " 'SKYZA INDIA',\n",
       " 'Fastrack',\n",
       " 'Elligator',\n",
       " 'Fastrack',\n",
       " 'PIRASO',\n",
       " 'Lee Topper',\n",
       " 'Fair-x',\n",
       " 'PHENOMENAL',\n",
       " 'Fastrack',\n",
       " 'Fastrack',\n",
       " 'VINCENT CHASE',\n",
       " 'Fastrack',\n",
       " 'NuVew',\n",
       " 'EYELLUSION',\n",
       " 'VINCENT CHASE',\n",
       " 'DAHAAZIL',\n",
       " 'SUNBEE',\n",
       " 'GANSTA',\n",
       " 'VINCENT CHASE',\n",
       " 'ROZZETTA CRAFT',\n",
       " 'Fastrack',\n",
       " 'New Specs',\n",
       " 'Fair-x',\n",
       " 'kingsunglasses',\n",
       " 'Silver Kartz',\n",
       " 'PIRASO',\n",
       " 'VINCENT CHASE',\n",
       " 'Mi',\n",
       " 'Fastrack',\n",
       " 'CRYSTAL CART',\n",
       " 'ROYAL SON',\n",
       " 'Rich Club',\n",
       " 'PIRASO',\n",
       " 'LIZA ANGEL',\n",
       " 'VINCENT CHASE',\n",
       " 'Fastrack',\n",
       " 'Dannilo',\n",
       " 'PHENOMENAL',\n",
       " 'ROYAL SON']"
      ]
     },
     "execution_count": 65,
     "metadata": {},
     "output_type": "execute_result"
    }
   ],
   "source": [
    "#creating empty lists to scrap data for 100 products\n",
    "brand_name=[]\n",
    "product_description=[]\n",
    "price=[]\n",
    "\n",
    "#scrapting all the tags having Brand names\n",
    "brand_tags=driver.find_elements(By.CLASS_NAME,\"_2WkVRV\")\n",
    "\n",
    "#displaying the tags extracted above into text \n",
    "for i in brand_tags:\n",
    "    brand_name.append(i.text)\n",
    "brand_name[0:40]"
   ]
  },
  {
   "cell_type": "code",
   "execution_count": 66,
   "id": "599d3fa2",
   "metadata": {},
   "outputs": [],
   "source": [
    "#to display the next 40 results in the next page\n",
    "next_page=driver.find_element(By.XPATH,'/html/body/div[1]/div/div[3]/div[1]/div[2]/div[12]/div/div/nav/a[11]/span')\n",
    "next_page.click()"
   ]
  },
  {
   "cell_type": "code",
   "execution_count": 67,
   "id": "2acb356c",
   "metadata": {},
   "outputs": [
    {
     "data": {
      "text/plain": [
       "['CRYSTAL CART',\n",
       " 'PIRASO',\n",
       " 'VINCENT CHASE',\n",
       " 'ROYAL SON',\n",
       " 'PIRASO',\n",
       " 'SUNBEE',\n",
       " 'PIRASO',\n",
       " 'VINCENT CHASE',\n",
       " 'Elligator',\n",
       " 'ROYAL SON',\n",
       " 'Fastrack',\n",
       " 'VINCENT CHASE',\n",
       " 'SHAAH COLLECTIONS',\n",
       " 'PIRASO',\n",
       " 'Fastrack',\n",
       " 'OCHILA',\n",
       " 'Dannilo',\n",
       " 'Lee Topper',\n",
       " 'Rich Club',\n",
       " 'Enrico',\n",
       " 'HAMIW COLLECTION',\n",
       " 'Singco India',\n",
       " 'ROYAL SON',\n",
       " 'VINCENT CHASE',\n",
       " 'Rich Club',\n",
       " 'SHAAH COLLECTIONS',\n",
       " 'Fastrack',\n",
       " 'VINCENT CHASE',\n",
       " 'kingsunglasses',\n",
       " 'Lee Topper',\n",
       " 'AISLIN',\n",
       " 'OCHILA',\n",
       " 'kingsunglasses',\n",
       " 'ROZZETTA CRAFT',\n",
       " 'ROYAL SON',\n",
       " 'Intellilens',\n",
       " 'kingsunglasses',\n",
       " 'Ray-Ban',\n",
       " 'LIZA ANGEL',\n",
       " 'VINCENT CHASE']"
      ]
     },
     "execution_count": 67,
     "metadata": {},
     "output_type": "execute_result"
    }
   ],
   "source": [
    "brand=[]\n",
    "#scrapting all the tags having Brand names from page 2\n",
    "brand_tags2=driver.find_elements(By.CLASS_NAME,\"_2WkVRV\")\n",
    "\n",
    "#displaying the tags extracted above into text \n",
    "for i in brand_tags2:\n",
    "    brand.append(i.text)\n",
    "brand[0:40]"
   ]
  },
  {
   "cell_type": "code",
   "execution_count": 68,
   "id": "877c6c6d",
   "metadata": {},
   "outputs": [],
   "source": [
    "#to display the next 20 results in the next page\n",
    "next_page2=driver.find_element(By.XPATH,'/html/body/div[1]/div/div[3]/div[1]/div[2]/div[12]/div/div/nav/a[12]/span')\n",
    "next_page2.click()"
   ]
  },
  {
   "cell_type": "code",
   "execution_count": 69,
   "id": "c5a80a67",
   "metadata": {},
   "outputs": [
    {
     "data": {
      "text/plain": [
       "['SRPM',\n",
       " 'AISLIN',\n",
       " 'ROZZETTA CRAFT',\n",
       " 'Fastrack',\n",
       " 'ROYAL SON',\n",
       " 'New Specs',\n",
       " 'ROYAL SON',\n",
       " 'ROZZETTA CRAFT',\n",
       " 'Fastrack',\n",
       " 'GANSTA',\n",
       " 'VINCENT CHASE',\n",
       " 'VINCENT CHASE',\n",
       " 'Fastrack',\n",
       " 'PIRASO',\n",
       " 'GANSTA',\n",
       " 'Dannilo',\n",
       " 'AISLIN',\n",
       " 'ROYAL SON',\n",
       " 'GANSTA',\n",
       " 'PIRASO']"
      ]
     },
     "execution_count": 69,
     "metadata": {},
     "output_type": "execute_result"
    }
   ],
   "source": [
    "#creating a list to display the results on the 3rd page\n",
    "brand_name2=[]\n",
    "\n",
    "#scrapting all the tags having Brand names from page 3\n",
    "brand_tags3=driver.find_elements(By.CLASS_NAME,\"_2WkVRV\")\n",
    "\n",
    "#displaying the tags extracted above into text \n",
    "for i in brand_tags3:\n",
    "    brand_name2.append(i.text)\n",
    "brand_name2[0:20]"
   ]
  },
  {
   "cell_type": "code",
   "execution_count": 70,
   "id": "e3c4ed05",
   "metadata": {},
   "outputs": [
    {
     "data": {
      "text/plain": [
       "['UV Protection Wayfarer Sunglasses (50)',\n",
       " 'UV Protection, Gradient Oval Sunglasses (58)',\n",
       " 'UV Protection Aviator Sunglasses (55)',\n",
       " 'UV Protection Aviator Sunglasses (Free Size)',\n",
       " 'UV Protection Rectangular, Retro Square Sunglasses (58)',\n",
       " 'UV Protection Rectangular Sunglasses (Free Size)',\n",
       " 'Mirrored Aviator Sunglasses (Free Size)',\n",
       " 'UV Protection, Gradient Retro Square Sunglasses (Free S...',\n",
       " 'UV Protection Rectangular Sunglasses (59)',\n",
       " 'UV Protection, Riding Glasses Aviator Sunglasses (57)',\n",
       " 'by Lenskart UV Protection Round Sunglasses (58)',\n",
       " 'by Lenskart Polarized, UV Protection Cat-eye Sunglasses...',\n",
       " 'UV Protection Wayfarer Sunglasses (Free Size)',\n",
       " 'UV Protection Aviator Sunglasses (54)',\n",
       " 'UV Protection, Gradient Wayfarer Sunglasses (53)',\n",
       " 'UV Protection Aviator Sunglasses (Free Size)',\n",
       " 'UV Protection, Gradient Retro Square Sunglasses (58)',\n",
       " 'UV Protection Retro Square Sunglasses (60)',\n",
       " 'Night Vision, Riding Glasses Rectangular Sunglasses (60...',\n",
       " 'UV Protection Aviator Sunglasses (55)',\n",
       " 'by Lenskart UV Protection Clubmaster Sunglasses (55)',\n",
       " 'Gradient, Toughened Glass Lens, UV Protection Retro Squ...',\n",
       " 'Mirrored Aviator Sunglasses (58)',\n",
       " 'UV Protection Round Sunglasses (54)',\n",
       " 'UV Protection Aviator Sunglasses (58)',\n",
       " 'by Lenskart Polarized, UV Protection Wayfarer Sunglasse...',\n",
       " 'Polarized, Night Vision, Riding Glasses Sports, Wrap-ar...',\n",
       " 'Riding Glasses, Night Vision Wrap-around Sunglasses (Fr...',\n",
       " 'UV Protection Sports Sunglasses (62)',\n",
       " 'Mirrored Wayfarer Sunglasses (56)',\n",
       " 'Polarized Wayfarer Sunglasses (Free Size)',\n",
       " 'Polarized, UV Protection Round Sunglasses (50)',\n",
       " 'by Lenskart Polarized, UV Protection Cat-eye Sunglasses...',\n",
       " 'UV Protection, Polarized, Mirrored Wayfarer Sunglasses ...',\n",
       " 'UV Protection Wayfarer Sunglasses (Free Size)',\n",
       " 'UV Protection, Gradient Round Sunglasses (Free Size)',\n",
       " 'by Lenskart Polarized, UV Protection Round Sunglasses (...',\n",
       " 'Polarized, UV Protection Round Sunglasses (50)',\n",
       " 'UV Protection Round Sunglasses (Free Size)',\n",
       " 'UV Protection Oval, Aviator Sunglasses (60)']"
      ]
     },
     "execution_count": 70,
     "metadata": {},
     "output_type": "execute_result"
    }
   ],
   "source": [
    "#scrapting all the tags having product description\n",
    "product_tags=driver.find_elements(By.CLASS_NAME,\"IRpwTa\")\n",
    "product_tags[0:40]\n",
    "#displaying 40 tags extracted above into text \n",
    "for i in product_tags:\n",
    "    product_description.append(i.text)\n",
    "product_description[0:40]"
   ]
  },
  {
   "cell_type": "code",
   "execution_count": 73,
   "id": "3df9bc96",
   "metadata": {},
   "outputs": [],
   "source": [
    "#to display the next 40 results in the next page\n",
    "next_page3=driver.find_element(By.XPATH,'/html/body/div[1]/div/div[3]/div[1]/div[2]/div[12]/div/div/nav/a[11]/span')\n",
    "next_page3.click()"
   ]
  },
  {
   "cell_type": "code",
   "execution_count": 74,
   "id": "8cf75c3d",
   "metadata": {},
   "outputs": [
    {
     "data": {
      "text/plain": [
       "['Polarized, UV Protection, Mirrored, Gradient Rectangula...',\n",
       " 'UV Protection Aviator Sunglasses (54)',\n",
       " 'by Lenskart Polarized, UV Protection Retro Square Sungl...',\n",
       " 'UV Protection Rectangular Sunglasses (50)',\n",
       " 'UV Protection Aviator Sunglasses (58)',\n",
       " 'UV Protection, Polarized, Mirrored Retro Square Sunglas...',\n",
       " 'UV Protection Over-sized Sunglasses (65)',\n",
       " 'by Lenskart UV Protection, Polarized Aviator Sunglasses...',\n",
       " 'UV Protection Round Sunglasses (53)',\n",
       " 'UV Protection, Gradient Butterfly Sunglasses (62)',\n",
       " 'UV Protection Wayfarer Sunglasses (Free Size)',\n",
       " 'by Lenskart Polarized, UV Protection Aviator Sunglasses...',\n",
       " 'UV Protection, Polarized, Mirrored Rectangular Sunglass...',\n",
       " 'UV Protection Wayfarer Sunglasses (32)',\n",
       " 'UV Protection Shield Sunglasses (Free Size)',\n",
       " 'UV Protection Wayfarer Sunglasses (54)',\n",
       " 'Riding Glasses, Gradient Aviator Sunglasses (Free Size)',\n",
       " 'UV Protection Rectangular Sunglasses (Free Size)',\n",
       " 'Gradient Wayfarer Sunglasses (52)',\n",
       " 'Gradient Over-sized Sunglasses (62)',\n",
       " 'UV Protection Wayfarer, Sports, Shield, Rectangular, Re...',\n",
       " 'Riding Glasses, UV Protection Clubmaster, Wayfarer Sung...',\n",
       " 'Polarized Rectangular Sunglasses (60)',\n",
       " 'by Lenskart Polarized, UV Protection Aviator Sunglasses...',\n",
       " 'Polarized Round Sunglasses (48)',\n",
       " 'UV Protection Round Sunglasses (Free Size)',\n",
       " 'Gradient, UV Protection Wayfarer Sunglasses (Free Size)',\n",
       " 'by Lenskart Polarized, UV Protection Aviator Sunglasses...',\n",
       " 'UV Protection, Mirrored Aviator Sunglasses (Free Size)',\n",
       " 'UV Protection Cat-eye Sunglasses (Free Size)',\n",
       " 'UV Protection, Gradient Retro Square Sunglasses (58)',\n",
       " 'UV Protection Aviator Sunglasses (58)',\n",
       " 'Mirrored, UV Protection Wayfarer Sunglasses (Free Size)',\n",
       " 'UV Protection Rectangular Sunglasses (Free Size)',\n",
       " 'Polarized, UV Protection Wayfarer, Retro Square Sunglas...',\n",
       " 'UV Protection Wrap-around Sunglasses (25)',\n",
       " 'UV Protection Rectangular Sunglasses (55)',\n",
       " 'UV Protection Round Sunglasses (61)',\n",
       " 'Night Vision, UV Protection Spectacle Sunglasses (50)',\n",
       " 'by Lenskart Polarized, UV Protection Round Sunglasses (...']"
      ]
     },
     "execution_count": 74,
     "metadata": {},
     "output_type": "execute_result"
    }
   ],
   "source": [
    "Product_description1=[]\n",
    "#scrapting all the tags having product description\n",
    "product_tags1=driver.find_elements(By.CLASS_NAME,\"IRpwTa\")\n",
    "product_tags1[0:40]\n",
    "#displaying 40 tags extracted above into text \n",
    "for i in product_tags1:\n",
    "    Product_description1.append(i.text)\n",
    "Product_description1[0:40]"
   ]
  },
  {
   "cell_type": "code",
   "execution_count": 75,
   "id": "b529d88b",
   "metadata": {},
   "outputs": [],
   "source": [
    "#to display the next 20 results in the next page\n",
    "next_page4=driver.find_element(By.XPATH,'/html/body/div[1]/div/div[3]/div[1]/div[2]/div[12]/div/div/nav/a[12]/span')\n",
    "next_page4.click()"
   ]
  },
  {
   "cell_type": "code",
   "execution_count": 77,
   "id": "d9be87a9",
   "metadata": {},
   "outputs": [
    {
     "data": {
      "text/plain": [
       "['Polarized, UV Protection, Mirrored, Gradient Rectangula...',\n",
       " 'UV Protection Aviator Sunglasses (54)',\n",
       " 'by Lenskart Polarized, UV Protection Retro Square Sungl...',\n",
       " 'UV Protection Rectangular Sunglasses (50)',\n",
       " 'UV Protection Aviator Sunglasses (58)',\n",
       " 'UV Protection, Polarized, Mirrored Retro Square Sunglas...',\n",
       " 'UV Protection Over-sized Sunglasses (65)',\n",
       " 'by Lenskart UV Protection, Polarized Aviator Sunglasses...',\n",
       " 'UV Protection Round Sunglasses (53)',\n",
       " 'UV Protection, Gradient Butterfly Sunglasses (62)',\n",
       " 'UV Protection Wayfarer Sunglasses (Free Size)',\n",
       " 'by Lenskart Polarized, UV Protection Aviator Sunglasses...',\n",
       " 'UV Protection, Polarized, Mirrored Rectangular Sunglass...',\n",
       " 'UV Protection Wayfarer Sunglasses (32)',\n",
       " 'UV Protection Shield Sunglasses (Free Size)',\n",
       " 'UV Protection Wayfarer Sunglasses (54)',\n",
       " 'Riding Glasses, Gradient Aviator Sunglasses (Free Size)',\n",
       " 'UV Protection Rectangular Sunglasses (Free Size)',\n",
       " 'Gradient Wayfarer Sunglasses (52)',\n",
       " 'Gradient Over-sized Sunglasses (62)']"
      ]
     },
     "execution_count": 77,
     "metadata": {},
     "output_type": "execute_result"
    }
   ],
   "source": [
    "Product_description2=[]\n",
    "#scrapting all the tags having product description\n",
    "product_tags2=driver.find_elements(By.CLASS_NAME,\"IRpwTa\")\n",
    "product_tags2[0:20]\n",
    "#displaying 20 tags extracted above into text \n",
    "for i in product_tags2:\n",
    "    Product_description1.append(i.text)\n",
    "Product_description1[0:20]"
   ]
  },
  {
   "cell_type": "code",
   "execution_count": 78,
   "id": "1829d71e",
   "metadata": {},
   "outputs": [
    {
     "data": {
      "text/plain": [
       "['₹326',\n",
       " '₹499',\n",
       " '₹359',\n",
       " '₹298',\n",
       " '₹639',\n",
       " '₹279',\n",
       " '₹299',\n",
       " '₹360',\n",
       " '₹267',\n",
       " '₹799',\n",
       " '₹719',\n",
       " '₹1,415',\n",
       " '₹639',\n",
       " '₹198',\n",
       " '₹199',\n",
       " '₹999',\n",
       " '₹204',\n",
       " '₹283',\n",
       " '₹349',\n",
       " '₹949',\n",
       " '₹499',\n",
       " '₹1,039',\n",
       " '₹216',\n",
       " '₹360',\n",
       " '₹213',\n",
       " '₹288',\n",
       " '₹279',\n",
       " '₹949',\n",
       " '₹799',\n",
       " '₹639',\n",
       " '₹219',\n",
       " '₹569',\n",
       " '₹325',\n",
       " '₹252',\n",
       " '₹199',\n",
       " '₹1,049',\n",
       " '₹719',\n",
       " '₹170',\n",
       " '₹369',\n",
       " '₹664']"
      ]
     },
     "execution_count": 78,
     "metadata": {},
     "output_type": "execute_result"
    }
   ],
   "source": [
    "#scrapting all the tags having price\n",
    "price_tags=driver.find_elements(By.CLASS_NAME,\"_30jeq3\")\n",
    "price_tags[0:40]\n",
    "#displaying 40 tags extracted above into text \n",
    "for i in price_tags:\n",
    "    price.append(i.text)\n",
    "price[0:40]"
   ]
  },
  {
   "cell_type": "code",
   "execution_count": 79,
   "id": "7cd75928",
   "metadata": {},
   "outputs": [
    {
     "ename": "NoSuchElementException",
     "evalue": "Message: no such element: Unable to locate element: {\"method\":\"xpath\",\"selector\":\"/html/body/div[1]/div/div[3]/div[1]/div[2]/div[12]/div/div/nav/a[12]/span\"}\n  (Session info: chrome=104.0.5112.81)\nStacktrace:\nBacktrace:\n\tOrdinal0 [0x007178B3+2193587]\n\tOrdinal0 [0x006B0681+1771137]\n\tOrdinal0 [0x005C41A8+803240]\n\tOrdinal0 [0x005F24A0+992416]\n\tOrdinal0 [0x005F273B+993083]\n\tOrdinal0 [0x0061F7C2+1177538]\n\tOrdinal0 [0x0060D7F4+1103860]\n\tOrdinal0 [0x0061DAE2+1170146]\n\tOrdinal0 [0x0060D5C6+1103302]\n\tOrdinal0 [0x005E77E0+948192]\n\tOrdinal0 [0x005E86E6+952038]\n\tGetHandleVerifier [0x009C0CB2+2738370]\n\tGetHandleVerifier [0x009B21B8+2678216]\n\tGetHandleVerifier [0x007A17AA+512954]\n\tGetHandleVerifier [0x007A0856+509030]\n\tOrdinal0 [0x006B743B+1799227]\n\tOrdinal0 [0x006BBB68+1817448]\n\tOrdinal0 [0x006BBC55+1817685]\n\tOrdinal0 [0x006C5230+1856048]\n\tBaseThreadInitThunk [0x768D6359+25]\n\tRtlGetAppContainerNamedObjectPath [0x773B87A4+228]\n\tRtlGetAppContainerNamedObjectPath [0x773B8774+180]\n",
     "output_type": "error",
     "traceback": [
      "\u001b[1;31m---------------------------------------------------------------------------\u001b[0m",
      "\u001b[1;31mNoSuchElementException\u001b[0m                    Traceback (most recent call last)",
      "\u001b[1;32m~\\AppData\\Local\\Temp/ipykernel_9792/2455969773.py\u001b[0m in \u001b[0;36m<module>\u001b[1;34m\u001b[0m\n\u001b[0;32m      1\u001b[0m \u001b[1;31m#to display the next 40 results in the next page\u001b[0m\u001b[1;33m\u001b[0m\u001b[1;33m\u001b[0m\u001b[0m\n\u001b[1;32m----> 2\u001b[1;33m \u001b[0mNext_page5\u001b[0m\u001b[1;33m=\u001b[0m\u001b[0mdriver\u001b[0m\u001b[1;33m.\u001b[0m\u001b[0mfind_element\u001b[0m\u001b[1;33m(\u001b[0m\u001b[0mBy\u001b[0m\u001b[1;33m.\u001b[0m\u001b[0mXPATH\u001b[0m\u001b[1;33m,\u001b[0m\u001b[1;34m'/html/body/div[1]/div/div[3]/div[1]/div[2]/div[12]/div/div/nav/a[12]/span'\u001b[0m\u001b[1;33m)\u001b[0m\u001b[1;33m\u001b[0m\u001b[1;33m\u001b[0m\u001b[0m\n\u001b[0m\u001b[0;32m      3\u001b[0m \u001b[0mNext_page5\u001b[0m\u001b[1;33m.\u001b[0m\u001b[0mclick\u001b[0m\u001b[1;33m(\u001b[0m\u001b[1;33m)\u001b[0m\u001b[1;33m\u001b[0m\u001b[1;33m\u001b[0m\u001b[0m\n",
      "\u001b[1;32mF:\\computer\\lib\\site-packages\\selenium\\webdriver\\remote\\webdriver.py\u001b[0m in \u001b[0;36mfind_element\u001b[1;34m(self, by, value)\u001b[0m\n\u001b[0;32m    855\u001b[0m             \u001b[0mvalue\u001b[0m \u001b[1;33m=\u001b[0m \u001b[1;34m'[name=\"%s\"]'\u001b[0m \u001b[1;33m%\u001b[0m \u001b[0mvalue\u001b[0m\u001b[1;33m\u001b[0m\u001b[1;33m\u001b[0m\u001b[0m\n\u001b[0;32m    856\u001b[0m \u001b[1;33m\u001b[0m\u001b[0m\n\u001b[1;32m--> 857\u001b[1;33m         return self.execute(Command.FIND_ELEMENT, {\n\u001b[0m\u001b[0;32m    858\u001b[0m             \u001b[1;34m'using'\u001b[0m\u001b[1;33m:\u001b[0m \u001b[0mby\u001b[0m\u001b[1;33m,\u001b[0m\u001b[1;33m\u001b[0m\u001b[1;33m\u001b[0m\u001b[0m\n\u001b[0;32m    859\u001b[0m             'value': value})['value']\n",
      "\u001b[1;32mF:\\computer\\lib\\site-packages\\selenium\\webdriver\\remote\\webdriver.py\u001b[0m in \u001b[0;36mexecute\u001b[1;34m(self, driver_command, params)\u001b[0m\n\u001b[0;32m    433\u001b[0m         \u001b[0mresponse\u001b[0m \u001b[1;33m=\u001b[0m \u001b[0mself\u001b[0m\u001b[1;33m.\u001b[0m\u001b[0mcommand_executor\u001b[0m\u001b[1;33m.\u001b[0m\u001b[0mexecute\u001b[0m\u001b[1;33m(\u001b[0m\u001b[0mdriver_command\u001b[0m\u001b[1;33m,\u001b[0m \u001b[0mparams\u001b[0m\u001b[1;33m)\u001b[0m\u001b[1;33m\u001b[0m\u001b[1;33m\u001b[0m\u001b[0m\n\u001b[0;32m    434\u001b[0m         \u001b[1;32mif\u001b[0m \u001b[0mresponse\u001b[0m\u001b[1;33m:\u001b[0m\u001b[1;33m\u001b[0m\u001b[1;33m\u001b[0m\u001b[0m\n\u001b[1;32m--> 435\u001b[1;33m             \u001b[0mself\u001b[0m\u001b[1;33m.\u001b[0m\u001b[0merror_handler\u001b[0m\u001b[1;33m.\u001b[0m\u001b[0mcheck_response\u001b[0m\u001b[1;33m(\u001b[0m\u001b[0mresponse\u001b[0m\u001b[1;33m)\u001b[0m\u001b[1;33m\u001b[0m\u001b[1;33m\u001b[0m\u001b[0m\n\u001b[0m\u001b[0;32m    436\u001b[0m             response['value'] = self._unwrap_value(\n\u001b[0;32m    437\u001b[0m                 response.get('value', None))\n",
      "\u001b[1;32mF:\\computer\\lib\\site-packages\\selenium\\webdriver\\remote\\errorhandler.py\u001b[0m in \u001b[0;36mcheck_response\u001b[1;34m(self, response)\u001b[0m\n\u001b[0;32m    245\u001b[0m                 \u001b[0malert_text\u001b[0m \u001b[1;33m=\u001b[0m \u001b[0mvalue\u001b[0m\u001b[1;33m[\u001b[0m\u001b[1;34m'alert'\u001b[0m\u001b[1;33m]\u001b[0m\u001b[1;33m.\u001b[0m\u001b[0mget\u001b[0m\u001b[1;33m(\u001b[0m\u001b[1;34m'text'\u001b[0m\u001b[1;33m)\u001b[0m\u001b[1;33m\u001b[0m\u001b[1;33m\u001b[0m\u001b[0m\n\u001b[0;32m    246\u001b[0m             \u001b[1;32mraise\u001b[0m \u001b[0mexception_class\u001b[0m\u001b[1;33m(\u001b[0m\u001b[0mmessage\u001b[0m\u001b[1;33m,\u001b[0m \u001b[0mscreen\u001b[0m\u001b[1;33m,\u001b[0m \u001b[0mstacktrace\u001b[0m\u001b[1;33m,\u001b[0m \u001b[0malert_text\u001b[0m\u001b[1;33m)\u001b[0m  \u001b[1;31m# type: ignore[call-arg]  # mypy is not smart enough here\u001b[0m\u001b[1;33m\u001b[0m\u001b[1;33m\u001b[0m\u001b[0m\n\u001b[1;32m--> 247\u001b[1;33m         \u001b[1;32mraise\u001b[0m \u001b[0mexception_class\u001b[0m\u001b[1;33m(\u001b[0m\u001b[0mmessage\u001b[0m\u001b[1;33m,\u001b[0m \u001b[0mscreen\u001b[0m\u001b[1;33m,\u001b[0m \u001b[0mstacktrace\u001b[0m\u001b[1;33m)\u001b[0m\u001b[1;33m\u001b[0m\u001b[1;33m\u001b[0m\u001b[0m\n\u001b[0m\u001b[0;32m    248\u001b[0m \u001b[1;33m\u001b[0m\u001b[0m\n\u001b[0;32m    249\u001b[0m     \u001b[1;32mdef\u001b[0m \u001b[0m_value_or_default\u001b[0m\u001b[1;33m(\u001b[0m\u001b[0mself\u001b[0m\u001b[1;33m,\u001b[0m \u001b[0mobj\u001b[0m\u001b[1;33m:\u001b[0m \u001b[0mMapping\u001b[0m\u001b[1;33m[\u001b[0m\u001b[0m_KT\u001b[0m\u001b[1;33m,\u001b[0m \u001b[0m_VT\u001b[0m\u001b[1;33m]\u001b[0m\u001b[1;33m,\u001b[0m \u001b[0mkey\u001b[0m\u001b[1;33m:\u001b[0m \u001b[0m_KT\u001b[0m\u001b[1;33m,\u001b[0m \u001b[0mdefault\u001b[0m\u001b[1;33m:\u001b[0m \u001b[0m_VT\u001b[0m\u001b[1;33m)\u001b[0m \u001b[1;33m->\u001b[0m \u001b[0m_VT\u001b[0m\u001b[1;33m:\u001b[0m\u001b[1;33m\u001b[0m\u001b[1;33m\u001b[0m\u001b[0m\n",
      "\u001b[1;31mNoSuchElementException\u001b[0m: Message: no such element: Unable to locate element: {\"method\":\"xpath\",\"selector\":\"/html/body/div[1]/div/div[3]/div[1]/div[2]/div[12]/div/div/nav/a[12]/span\"}\n  (Session info: chrome=104.0.5112.81)\nStacktrace:\nBacktrace:\n\tOrdinal0 [0x007178B3+2193587]\n\tOrdinal0 [0x006B0681+1771137]\n\tOrdinal0 [0x005C41A8+803240]\n\tOrdinal0 [0x005F24A0+992416]\n\tOrdinal0 [0x005F273B+993083]\n\tOrdinal0 [0x0061F7C2+1177538]\n\tOrdinal0 [0x0060D7F4+1103860]\n\tOrdinal0 [0x0061DAE2+1170146]\n\tOrdinal0 [0x0060D5C6+1103302]\n\tOrdinal0 [0x005E77E0+948192]\n\tOrdinal0 [0x005E86E6+952038]\n\tGetHandleVerifier [0x009C0CB2+2738370]\n\tGetHandleVerifier [0x009B21B8+2678216]\n\tGetHandleVerifier [0x007A17AA+512954]\n\tGetHandleVerifier [0x007A0856+509030]\n\tOrdinal0 [0x006B743B+1799227]\n\tOrdinal0 [0x006BBB68+1817448]\n\tOrdinal0 [0x006BBC55+1817685]\n\tOrdinal0 [0x006C5230+1856048]\n\tBaseThreadInitThunk [0x768D6359+25]\n\tRtlGetAppContainerNamedObjectPath [0x773B87A4+228]\n\tRtlGetAppContainerNamedObjectPath [0x773B8774+180]\n"
     ]
    }
   ],
   "source": [
    "#to display the next 40 results in the next page\n",
    "Next_page5=driver.find_element(By.XPATH,'/html/body/div[1]/div/div[3]/div[1]/div[2]/div[12]/div/div/nav/a[12]/span')\n",
    "Next_page5.click()"
   ]
  },
  {
   "cell_type": "code",
   "execution_count": 80,
   "id": "588ae884",
   "metadata": {},
   "outputs": [
    {
     "data": {
      "text/plain": [
       "['₹326',\n",
       " '₹499',\n",
       " '₹359',\n",
       " '₹298',\n",
       " '₹639',\n",
       " '₹279',\n",
       " '₹299',\n",
       " '₹360',\n",
       " '₹267',\n",
       " '₹799',\n",
       " '₹719',\n",
       " '₹1,415',\n",
       " '₹639',\n",
       " '₹198',\n",
       " '₹199',\n",
       " '₹999',\n",
       " '₹204',\n",
       " '₹283',\n",
       " '₹349',\n",
       " '₹949',\n",
       " '₹499',\n",
       " '₹1,039',\n",
       " '₹216',\n",
       " '₹360',\n",
       " '₹213',\n",
       " '₹288',\n",
       " '₹279',\n",
       " '₹949',\n",
       " '₹799',\n",
       " '₹639',\n",
       " '₹219',\n",
       " '₹569',\n",
       " '₹325',\n",
       " '₹252',\n",
       " '₹199',\n",
       " '₹1,049',\n",
       " '₹719',\n",
       " '₹170',\n",
       " '₹369',\n",
       " '₹664']"
      ]
     },
     "execution_count": 80,
     "metadata": {},
     "output_type": "execute_result"
    }
   ],
   "source": [
    "#creating a list\n",
    "price2=[]\n",
    "#scrapting all the tags having price in page 2\n",
    "price_tags2=driver.find_elements(By.CLASS_NAME,\"_30jeq3\")\n",
    "price_tags2[0:40]\n",
    "#displaying 40 tags extracted above into text \n",
    "for i in price_tags2:\n",
    "    price2.append(i.text)\n",
    "price2[0:40]"
   ]
  },
  {
   "cell_type": "code",
   "execution_count": 82,
   "id": "31d6060d",
   "metadata": {},
   "outputs": [],
   "source": [
    "#to display the next 20 results in the next page\n",
    "Next_page6=driver.find_element(By.XPATH,'/html/body/div[1]/div/div[3]/div[1]/div[2]/div[12]/div/div/nav/a[11]/span')\n",
    "Next_page6.click()"
   ]
  },
  {
   "cell_type": "code",
   "execution_count": 83,
   "id": "30236907",
   "metadata": {},
   "outputs": [
    {
     "data": {
      "text/plain": [
       "['₹529',\n",
       " '₹279',\n",
       " '₹949',\n",
       " '₹569',\n",
       " '₹359',\n",
       " '₹259',\n",
       " '₹399',\n",
       " '₹949',\n",
       " '₹207',\n",
       " '₹664',\n",
       " '₹639',\n",
       " '₹899',\n",
       " '₹195',\n",
       " '₹279',\n",
       " '₹719',\n",
       " '₹264',\n",
       " '₹230',\n",
       " '₹219',\n",
       " '₹299',\n",
       " '₹899']"
      ]
     },
     "execution_count": 83,
     "metadata": {},
     "output_type": "execute_result"
    }
   ],
   "source": [
    "#creating a list\n",
    "price3=[]\n",
    "#scrapting all the tags having price in page 2\n",
    "price_tags3=driver.find_elements(By.CLASS_NAME,\"_30jeq3\")\n",
    "price_tags2[0:20]\n",
    "#displaying 20 tags extracted above into text \n",
    "for i in price_tags3:\n",
    "    price3.append(i.text)\n",
    "price3[0:20]"
   ]
  },
  {
   "cell_type": "code",
   "execution_count": 84,
   "id": "7dc549eb",
   "metadata": {},
   "outputs": [
    {
     "name": "stdout",
     "output_type": "stream",
     "text": [
      "100 100 100\n"
     ]
    }
   ],
   "source": [
    "print(len(brand_name[0:40]+brand[0:40]+brand_name2[0:20]),len(product_description[0:40]+Product_description1[0:40]+Product_description1[0:20]),len(price[0:40]+price2[0:40]+price3[0:20]))"
   ]
  },
  {
   "cell_type": "code",
   "execution_count": 85,
   "id": "233c9621",
   "metadata": {},
   "outputs": [
    {
     "data": {
      "text/html": [
       "<div>\n",
       "<style scoped>\n",
       "    .dataframe tbody tr th:only-of-type {\n",
       "        vertical-align: middle;\n",
       "    }\n",
       "\n",
       "    .dataframe tbody tr th {\n",
       "        vertical-align: top;\n",
       "    }\n",
       "\n",
       "    .dataframe thead th {\n",
       "        text-align: right;\n",
       "    }\n",
       "</style>\n",
       "<table border=\"1\" class=\"dataframe\">\n",
       "  <thead>\n",
       "    <tr style=\"text-align: right;\">\n",
       "      <th></th>\n",
       "      <th>Brand_Name</th>\n",
       "      <th>Product_description</th>\n",
       "      <th>Price</th>\n",
       "    </tr>\n",
       "  </thead>\n",
       "  <tbody>\n",
       "    <tr>\n",
       "      <th>0</th>\n",
       "      <td>SKYZA INDIA</td>\n",
       "      <td>UV Protection Wayfarer Sunglasses (50)</td>\n",
       "      <td>₹326</td>\n",
       "    </tr>\n",
       "    <tr>\n",
       "      <th>1</th>\n",
       "      <td>SKYZA INDIA</td>\n",
       "      <td>UV Protection, Gradient Oval Sunglasses (58)</td>\n",
       "      <td>₹499</td>\n",
       "    </tr>\n",
       "    <tr>\n",
       "      <th>2</th>\n",
       "      <td>Fastrack</td>\n",
       "      <td>UV Protection Aviator Sunglasses (55)</td>\n",
       "      <td>₹359</td>\n",
       "    </tr>\n",
       "    <tr>\n",
       "      <th>3</th>\n",
       "      <td>Elligator</td>\n",
       "      <td>UV Protection Aviator Sunglasses (Free Size)</td>\n",
       "      <td>₹298</td>\n",
       "    </tr>\n",
       "    <tr>\n",
       "      <th>4</th>\n",
       "      <td>Fastrack</td>\n",
       "      <td>UV Protection Rectangular, Retro Square Sungla...</td>\n",
       "      <td>₹639</td>\n",
       "    </tr>\n",
       "    <tr>\n",
       "      <th>...</th>\n",
       "      <td>...</td>\n",
       "      <td>...</td>\n",
       "      <td>...</td>\n",
       "    </tr>\n",
       "    <tr>\n",
       "      <th>95</th>\n",
       "      <td>Dannilo</td>\n",
       "      <td>UV Protection Wayfarer Sunglasses (54)</td>\n",
       "      <td>₹264</td>\n",
       "    </tr>\n",
       "    <tr>\n",
       "      <th>96</th>\n",
       "      <td>AISLIN</td>\n",
       "      <td>Riding Glasses, Gradient Aviator Sunglasses (F...</td>\n",
       "      <td>₹230</td>\n",
       "    </tr>\n",
       "    <tr>\n",
       "      <th>97</th>\n",
       "      <td>ROYAL SON</td>\n",
       "      <td>UV Protection Rectangular Sunglasses (Free Size)</td>\n",
       "      <td>₹219</td>\n",
       "    </tr>\n",
       "    <tr>\n",
       "      <th>98</th>\n",
       "      <td>GANSTA</td>\n",
       "      <td>Gradient Wayfarer Sunglasses (52)</td>\n",
       "      <td>₹299</td>\n",
       "    </tr>\n",
       "    <tr>\n",
       "      <th>99</th>\n",
       "      <td>PIRASO</td>\n",
       "      <td>Gradient Over-sized Sunglasses (62)</td>\n",
       "      <td>₹899</td>\n",
       "    </tr>\n",
       "  </tbody>\n",
       "</table>\n",
       "<p>100 rows × 3 columns</p>\n",
       "</div>"
      ],
      "text/plain": [
       "     Brand_Name                                Product_description Price\n",
       "0   SKYZA INDIA             UV Protection Wayfarer Sunglasses (50)  ₹326\n",
       "1   SKYZA INDIA       UV Protection, Gradient Oval Sunglasses (58)  ₹499\n",
       "2      Fastrack              UV Protection Aviator Sunglasses (55)  ₹359\n",
       "3     Elligator       UV Protection Aviator Sunglasses (Free Size)  ₹298\n",
       "4      Fastrack  UV Protection Rectangular, Retro Square Sungla...  ₹639\n",
       "..          ...                                                ...   ...\n",
       "95      Dannilo             UV Protection Wayfarer Sunglasses (54)  ₹264\n",
       "96       AISLIN  Riding Glasses, Gradient Aviator Sunglasses (F...  ₹230\n",
       "97    ROYAL SON   UV Protection Rectangular Sunglasses (Free Size)  ₹219\n",
       "98       GANSTA                  Gradient Wayfarer Sunglasses (52)  ₹299\n",
       "99       PIRASO                Gradient Over-sized Sunglasses (62)  ₹899\n",
       "\n",
       "[100 rows x 3 columns]"
      ]
     },
     "execution_count": 85,
     "metadata": {},
     "output_type": "execute_result"
    }
   ],
   "source": [
    "import pandas as pd\n",
    "df = pd.DataFrame({'Brand_Name':brand_name[0:40]+brand[0:40]+brand_name2[0:20],'Product_description':product_description[0:40]+Product_description1[0:40]+Product_description1[0:20],'Price':price[0:40]+price2[0:40]+price3[0:20]})\n",
    "df"
   ]
  },
  {
   "cell_type": "code",
   "execution_count": 86,
   "id": "69e2c752",
   "metadata": {},
   "outputs": [],
   "source": [
    "driver.close()"
   ]
  },
  {
   "cell_type": "code",
   "execution_count": 87,
   "id": "a5a8c832",
   "metadata": {},
   "outputs": [],
   "source": [
    "from selenium.common.exceptions import NoSuchElementException"
   ]
  },
  {
   "cell_type": "markdown",
   "id": "aebc9517",
   "metadata": {},
   "source": [
    "# Q5: Scrape 100 reviews data from flipkart.com for iphone11 phone.\n",
    "This task will be done in following steps:\n",
    "1. First get the webpage https://www.flipkart.com/\n",
    "2. Enter “iphone 11” in “Search” field . \n",
    "3. Then click the search button."
   ]
  },
  {
   "cell_type": "code",
   "execution_count": 88,
   "id": "484485e1",
   "metadata": {},
   "outputs": [],
   "source": [
    "# let's first connect to the web driver\n",
    "driver = webdriver.Chrome(r\"C:\\Users\\Sunny\\Downloads\\chromedriver_win32\\chromedriver.exe\")"
   ]
  },
  {
   "cell_type": "code",
   "execution_count": 89,
   "id": "22891257",
   "metadata": {},
   "outputs": [],
   "source": [
    "url = \"https://www.flipkart.com/\"\n",
    "driver.get(url)"
   ]
  },
  {
   "cell_type": "code",
   "execution_count": 90,
   "id": "ab9ac021",
   "metadata": {},
   "outputs": [],
   "source": [
    "# finding element on search bar\n",
    "search_iphone= driver.find_element(By.XPATH,\"/html/body/div[1]/div/div[1]/div[1]/div[2]/div[2]/form/div/div/input\")\n",
    "search_iphone.send_keys('iphone 11')"
   ]
  },
  {
   "cell_type": "code",
   "execution_count": 91,
   "id": "c86ffc37",
   "metadata": {},
   "outputs": [],
   "source": [
    "# clicking using class function\n",
    "search = driver.find_element(By.CLASS_NAME,\"_34RNph\")\n",
    "search.click()"
   ]
  },
  {
   "cell_type": "code",
   "execution_count": 92,
   "id": "437fa2f3",
   "metadata": {},
   "outputs": [],
   "source": [
    "# clicking the 1st result \n",
    "search_iphone11 = driver.find_element(By.CLASS_NAME,\"_4rR01T\")\n",
    "search_iphone11.click()"
   ]
  },
  {
   "cell_type": "code",
   "execution_count": 93,
   "id": "46c1d6f7",
   "metadata": {},
   "outputs": [
    {
     "data": {
      "text/plain": [
       "[\"impressively Nice......\\nOne of the greatest iPhone i ever used ....\\nAll was like Never before ...\\nit's just Amazing ...\\nBattery Life is too good ...2 Days wi...\\nRead full review\",\n",
       " 'Nice products thanks flkat',\n",
       " 'Really satisfied with the Product I received... It’s totally genuine and the packaging was also really good so if ur planning to buy just go for it.',\n",
       " 'Nice product thank you Flipkart ❤️',\n",
       " 'Purchased at BBD @2016 Oct. After 5months of use, Found Good/Bad points in it:\\nGood Points:\\n1. Slim\\n2. Handy\\n3. No virus problem\\n4. No heating ( just during...\\nRead full review',\n",
       " 'I am using the phone for last 5 years and found no cons as such. The camera quality is bit low as compared to other iphone varient but it can be managable. B...\\nRead full review']"
      ]
     },
     "execution_count": 93,
     "metadata": {},
     "output_type": "execute_result"
    }
   ],
   "source": [
    "#creating an empty list to display 100 full reviews\n",
    "full_review=[]\n",
    "\n",
    "#scrapting all tags having reviews\n",
    "Review_tags=driver.find_elements(By.CLASS_NAME,'t-ZTKy')\n",
    "Review_tags[0:100]\n",
    "#displaying the tags extracted above into text \n",
    "for i in Review_tags:\n",
    "    full_review.append(i.text)\n",
    "full_review[0:100]"
   ]
  },
  {
   "cell_type": "code",
   "execution_count": 94,
   "id": "928b19c6",
   "metadata": {},
   "outputs": [
    {
     "data": {
      "text/plain": [
       "['4.6',\n",
       " '4.6',\n",
       " '4.6',\n",
       " '4.6',\n",
       " '4.6',\n",
       " '4.6',\n",
       " '4.6',\n",
       " '4.6',\n",
       " '4.6',\n",
       " '4.6',\n",
       " '4.6',\n",
       " '4.6',\n",
       " '4.4',\n",
       " '4.6',\n",
       " '4.7',\n",
       " '4.7',\n",
       " '4.7',\n",
       " '4.4',\n",
       " '4.4',\n",
       " '4.7',\n",
       " '4',\n",
       " '5',\n",
       " '4.6',\n",
       " '5',\n",
       " '5',\n",
       " '4.4',\n",
       " '1',\n",
       " '5']"
      ]
     },
     "execution_count": 94,
     "metadata": {},
     "output_type": "execute_result"
    }
   ],
   "source": [
    "#creating an empty list to display 100 ratings\n",
    "ratings=[]\n",
    "\n",
    "#scrapting all tags having rating\n",
    "rating_tags=driver.find_elements(By.CLASS_NAME,'_3LWZlK')\n",
    "\n",
    "#displaying the tags extracted above into text \n",
    "for i in rating_tags:\n",
    "    ratings.append(i.text)\n",
    "ratings[0:100]"
   ]
  },
  {
   "cell_type": "code",
   "execution_count": 95,
   "id": "f841bd46",
   "metadata": {},
   "outputs": [
    {
     "data": {
      "text/plain": [
       "['Good quality product',\n",
       " 'Perfect product!',\n",
       " 'Simply awesome',\n",
       " 'Simply awesome',\n",
       " 'Best phone still @25-27K',\n",
       " 'Terrific']"
      ]
     },
     "execution_count": 95,
     "metadata": {},
     "output_type": "execute_result"
    }
   ],
   "source": [
    "#creating an empty list to display 100 summarys\n",
    "summary=[]\n",
    "\n",
    "#scrapting all tags having summary\n",
    "summary_tags=driver.find_elements(By.CLASS_NAME,'_2-N8zT')\n",
    "\n",
    "#displaying the tags extracted above into text \n",
    "for i in summary_tags:\n",
    "    summary.append(i.text)\n",
    "summary[0:100]"
   ]
  },
  {
   "cell_type": "code",
   "execution_count": 96,
   "id": "f56e14df",
   "metadata": {},
   "outputs": [
    {
     "name": "stdout",
     "output_type": "stream",
     "text": [
      "6 28 6\n"
     ]
    }
   ],
   "source": [
    "print(len(full_review[0:100]),len(ratings[0:100]),len(summary[0:100]))"
   ]
  },
  {
   "cell_type": "code",
   "execution_count": 97,
   "id": "12a71c3f",
   "metadata": {},
   "outputs": [],
   "source": [
    "# DataFrame cannot be created as lengths are not equal"
   ]
  },
  {
   "cell_type": "code",
   "execution_count": 98,
   "id": "5bd3628a",
   "metadata": {},
   "outputs": [],
   "source": [
    "driver.close()"
   ]
  },
  {
   "cell_type": "code",
   "execution_count": 99,
   "id": "81b94ab4",
   "metadata": {},
   "outputs": [],
   "source": [
    "from selenium.common.exceptions import NoSuchElementException"
   ]
  },
  {
   "cell_type": "markdown",
   "id": "8bf5e4ed",
   "metadata": {},
   "source": [
    "# Q6: Scrape data for first 100 sneakers you find when you visit flipkart.com and search for “sneakers” in the search field.\n",
    "You have to scrape 4 attributes of each sneaker:\n",
    "1. Brand\n",
    "2. Product Description\n",
    "3. Price\n",
    "4. Discount"
   ]
  },
  {
   "cell_type": "code",
   "execution_count": 101,
   "id": "2666dbf2",
   "metadata": {},
   "outputs": [],
   "source": [
    "# let's first connect to the web driver\n",
    "driver = webdriver.Chrome(r\"C:\\Users\\Sunny\\Downloads\\chromedriver_win32\\chromedriver.exe\")"
   ]
  },
  {
   "cell_type": "code",
   "execution_count": 102,
   "id": "a4d362da",
   "metadata": {},
   "outputs": [],
   "source": [
    "url = \"https://www.flipkart.com\"\n",
    "driver.get(url)"
   ]
  },
  {
   "cell_type": "code",
   "execution_count": 103,
   "id": "4fc6b51a",
   "metadata": {},
   "outputs": [],
   "source": [
    "# finding element on search bar\n",
    "search_sneakers= driver.find_element(By.XPATH,\"/html/body/div[1]/div/div[1]/div[1]/div[2]/div[2]/form/div/div/input\")\n",
    "search_sneakers.send_keys('sneakers')"
   ]
  },
  {
   "cell_type": "code",
   "execution_count": 107,
   "id": "ad651ef2",
   "metadata": {},
   "outputs": [],
   "source": [
    "# clicking using class function\n",
    "search_sneakers= driver.find_element(By.CLASS_NAME,\"L0Z3Pu\")\n",
    "search_sneakers.click()"
   ]
  },
  {
   "cell_type": "code",
   "execution_count": 108,
   "id": "b3d179be",
   "metadata": {},
   "outputs": [
    {
     "data": {
      "text/plain": [
       "['RapidBox',\n",
       " 'ASTEROID',\n",
       " 'Chevit',\n",
       " 'KWIK FIT',\n",
       " 'Magnolia',\n",
       " 'Deals4you',\n",
       " 'PUMA',\n",
       " 'ASTEROID',\n",
       " 'aadi',\n",
       " 'Layasa',\n",
       " 'BRUTON',\n",
       " 'ASTEROID',\n",
       " 'PUMA',\n",
       " 'Xtoon',\n",
       " 'Shoes Bank',\n",
       " 'RapidBox',\n",
       " 'Robbie jones',\n",
       " \"LEVI'S\",\n",
       " 'Deals4you',\n",
       " 'Chevit',\n",
       " 'Robbie jones',\n",
       " 'PUMA',\n",
       " 'ASTEROID',\n",
       " 'Chevit',\n",
       " 'Labbin',\n",
       " \"LEVI'S\",\n",
       " 'Layasa',\n",
       " 'FAUSTO',\n",
       " 'Layasa',\n",
       " 'PUMA',\n",
       " 'Noztile',\n",
       " 'VEILLE',\n",
       " 'Magnolia',\n",
       " 'Layasa',\n",
       " 'AMICO',\n",
       " 'FAUSTO',\n",
       " 'RED TAPE',\n",
       " 'Layasa',\n",
       " 'BRUTON',\n",
       " 'SCHWESCO']"
      ]
     },
     "execution_count": 108,
     "metadata": {},
     "output_type": "execute_result"
    }
   ],
   "source": [
    "#creating an empty list to display 100 Brand names\n",
    "Brand_sneakers=[]\n",
    "\n",
    "#scrapting all tags having brand names\n",
    "brand_tags2=driver.find_elements(By.CLASS_NAME,'_2WkVRV')\n",
    "\n",
    "#displaying the tags extracted above into text \n",
    "for i in brand_tags2:\n",
    "    Brand_sneakers.append(i.text)\n",
    "Brand_sneakers[0:40]"
   ]
  },
  {
   "cell_type": "code",
   "execution_count": 109,
   "id": "740db980",
   "metadata": {},
   "outputs": [],
   "source": [
    "#to display the next 40 results in the next page\n",
    "Next_page6=driver.find_element(By.XPATH,'/html/body/div[1]/div/div[3]/div[1]/div[2]/div[12]/div/div/nav/a[11]/span')\n",
    "Next_page6.click()"
   ]
  },
  {
   "cell_type": "code",
   "execution_count": 110,
   "id": "879213b3",
   "metadata": {},
   "outputs": [
    {
     "data": {
      "text/plain": [
       "['LuvShus',\n",
       " 'Sparx',\n",
       " 'X Xiota',\n",
       " 'Kraasa',\n",
       " 'Layasa',\n",
       " 'Chevit',\n",
       " 'BRUTON',\n",
       " 'aadi',\n",
       " 'ASTEROID',\n",
       " 'Vellinto',\n",
       " 'BRUTON',\n",
       " 'PROVOGUE',\n",
       " 'ADIDAS',\n",
       " 'Numenzo',\n",
       " 'PUMA',\n",
       " 'ONECENTRE',\n",
       " 'Roadster',\n",
       " 'Chevit',\n",
       " 'Magnolia',\n",
       " \"LEVI'S\",\n",
       " 'SCATCHITE',\n",
       " 'Sparx',\n",
       " 'asics',\n",
       " 'BRUTON',\n",
       " 'Robbie jones',\n",
       " 'HOTSTYLE',\n",
       " 'PUMA',\n",
       " 'Xtoon',\n",
       " 'ROCKFIELD',\n",
       " 'Kzaara',\n",
       " 'BIRDE',\n",
       " 'Labbin',\n",
       " 'URBANBOX',\n",
       " 'Chevit',\n",
       " 'Rzisbo',\n",
       " 'TR',\n",
       " 'Sparx',\n",
       " 'PUMA',\n",
       " 'PREKANZO',\n",
       " 'PUMA']"
      ]
     },
     "execution_count": 110,
     "metadata": {},
     "output_type": "execute_result"
    }
   ],
   "source": [
    "#creating an empty list to display 100 Brand names\n",
    "Brand_sneakers2=[]\n",
    "\n",
    "#scrapting all tags having brand names\n",
    "brand_tags2=driver.find_elements(By.CLASS_NAME,'_2WkVRV')\n",
    "\n",
    "#displaying the tags extracted above into text \n",
    "for i in brand_tags2:\n",
    "    Brand_sneakers2.append(i.text)\n",
    "Brand_sneakers2[0:40]"
   ]
  },
  {
   "cell_type": "code",
   "execution_count": 112,
   "id": "98255154",
   "metadata": {},
   "outputs": [],
   "source": [
    "#to display the next 20 results in the next page\n",
    "Next_page7=driver.find_element(By.XPATH,'/html/body/div[1]/div/div[3]/div[1]/div[2]/div[12]/div/div/nav/a[12]/span')\n",
    "Next_page7.click()"
   ]
  },
  {
   "cell_type": "code",
   "execution_count": 113,
   "id": "a6f64f72",
   "metadata": {},
   "outputs": [
    {
     "data": {
      "text/plain": [
       "['Layasa',\n",
       " 'Vans on',\n",
       " 'Kraasa',\n",
       " 'asics',\n",
       " 'VENDOZ',\n",
       " 'HIGHLANDER',\n",
       " 'Robbie jones',\n",
       " 'Chevit',\n",
       " 'D-SNEAKERZ',\n",
       " 'Airland',\n",
       " 'Kraasa',\n",
       " 'PUMA',\n",
       " 'Shozie',\n",
       " 'BRUTON',\n",
       " 'ADIDAS ORIGINALS',\n",
       " 'ADIDAS',\n",
       " 'Shozie',\n",
       " 'Sparx',\n",
       " 'TWIN TOES',\n",
       " 'HOTSTYLE']"
      ]
     },
     "execution_count": 113,
     "metadata": {},
     "output_type": "execute_result"
    }
   ],
   "source": [
    "#creating an empty list to display 100 Brand names\n",
    "Brand_sneakers3=[]\n",
    "\n",
    "#scrapting all tags having brand names\n",
    "brand_tags2=driver.find_elements(By.CLASS_NAME,'_2WkVRV')\n",
    "\n",
    "#displaying the tags extracted above into text \n",
    "for i in brand_tags2:\n",
    "    Brand_sneakers3.append(i.text)\n",
    "Brand_sneakers3[0:20]"
   ]
  },
  {
   "cell_type": "code",
   "execution_count": 128,
   "id": "04d5ff64",
   "metadata": {},
   "outputs": [
    {
     "data": {
      "text/plain": [
       "['Sneakers For Men',\n",
       " \"BigBoss Men's Premium Original Luxury Branded Full Blac...\",\n",
       " 'Super Stylish & Trendy Combo Pack of 02 Pairs Sneakers ...',\n",
       " 'Kwik FIT casual sneaker shoes and partywear shoes Casua...',\n",
       " 'Sneakers For Men',\n",
       " 'Sneakers For Women',\n",
       " 'Puma Smash Wns v2 L Sneakers For Women',\n",
       " \"Men's Premium Ankle Boot Sneakers Partywear Casual Coup...\",\n",
       " 'Mesh | Ultralightweight | Comfortable | Breathable Walk...',\n",
       " 'supr Sneakers For Men',\n",
       " 'Sneaker Sneakers For Men',\n",
       " \"BigBoss Men's Premium Original Luxury Branded Black Fan...\",\n",
       " 'Puma Smash v2 L Sneakers For Men',\n",
       " 'Modern Trendy Sneakers boot Sneakers For Men',\n",
       " \"White Sneaker For Men's/Boy's Sneakers For Men\",\n",
       " 'Sneakers For Men',\n",
       " 'Casual Sneakers Canvas Shoes For Men Sneakers For Men',\n",
       " \"Levi's Men's Lancer Sneakers Sneakers For Men\",\n",
       " 'Sneakers For Women',\n",
       " 'Combo Pack of 3 Casual & Sports Shoes (Sneakers & Runni...',\n",
       " 'Casual Sneakers Black Outdoor Shoes For Boys And Men Sn...',\n",
       " 'Smash Wns v2 L Sneakers For Women',\n",
       " \"Luxury Branded Fashionable Men's Casual Walking Partywe...\",\n",
       " 'Combo Pack of 4 Casual & Sports Shoes (Loafers Shoes) S...',\n",
       " 'Sneakers For Men',\n",
       " \"Levi's Men's Henry Sneakers Sneakers For Men\",\n",
       " 'supr Sneakers For Men',\n",
       " 'Low Top Classic Casual Shoes Sneakers For Men',\n",
       " 'Sneakers For Women',\n",
       " 'Puma Rebound LayUp SL Sneakers For Men',\n",
       " 'Sneakers For Men',\n",
       " 'Sneakers For Women',\n",
       " 'Sneakers For Men',\n",
       " 'Sneakers For Men',\n",
       " 'Sneakers For Men',\n",
       " 'Trendy Sneakers For Men',\n",
       " 'Sneakers For Men',\n",
       " 'Sneakers For Men',\n",
       " 'Lattest Sneakers Shoe Sneakers For Men',\n",
       " 'Dark color party shoes Sneakers For Men']"
      ]
     },
     "execution_count": 128,
     "metadata": {},
     "output_type": "execute_result"
    }
   ],
   "source": [
    "#creating an empty list to display 100 brand's product description\n",
    "Product_Description = []\n",
    "\n",
    "#scrapting all 40 tags having product descriptions\n",
    "p_dtags= driver.find_elements(By.CLASS_NAME,\"IRpwTa\")\n",
    "\n",
    "#displaying tags into texts\n",
    "for i in p_dtags:\n",
    "    Product_Description.append(i.text)\n",
    "Product_Description[0:40]"
   ]
  },
  {
   "cell_type": "code",
   "execution_count": 129,
   "id": "1e813d6b",
   "metadata": {},
   "outputs": [],
   "source": [
    "#to display the next 40 results in the next page\n",
    "Next_page8=driver.find_element(By.XPATH,'/html/body/div[1]/div/div[3]/div[1]/div[2]/div[12]/div/div/nav/a[11]/span')\n",
    "Next_page8.click()"
   ]
  },
  {
   "cell_type": "code",
   "execution_count": 130,
   "id": "9340507f",
   "metadata": {},
   "outputs": [
    {
     "data": {
      "text/plain": [
       "['Men Casual Shoe New Trend With Fashion Panda Desgined L...',\n",
       " 'Men White Sneakers Sneakers For Men',\n",
       " \"Best Elegant Woman's Casual Sneakers New Series And Coz...\",\n",
       " 'Series 7 Sneakers For Men',\n",
       " 'Sneakers For Women',\n",
       " 'Sneakers For Men',\n",
       " 'Modern Trendy Sneakers Shoes Sneakers For Men',\n",
       " 'Sneakers For Men',\n",
       " 'Original Luxury Branded Black Fancy Casual Walking Part...',\n",
       " 'Casual Sneakrs For Men Sneakers For Men',\n",
       " 'Exclusive Sneaker Shoes Sneakers For Men',\n",
       " 'Sneakers For Men',\n",
       " 'STREET ICON M Sneakers For Men',\n",
       " '411 Casual Sneakers For Men',\n",
       " 'Puma Smash v2 Sneakers For Men',\n",
       " 'STR2 Sneakers For Men',\n",
       " 'Sneakers For Men',\n",
       " \"Latest Women's Pack of 2 Stylish Slip-On Loafers, Lace-...\",\n",
       " 'White Sneakers Sneakers For Men',\n",
       " \"Levi's Men's Lancer Sneakers Sneakers For Men\",\n",
       " 'Sneakers Sneakers For Men',\n",
       " 'SM-747 Sneakers For Men',\n",
       " 'LYTECOURT Sneakers For Men',\n",
       " 'Combo Pack of 2 Sports Running LightWeight Shoes, Sneak...',\n",
       " 'Sneakers For Men',\n",
       " 'CR-1 Sneakers For Men',\n",
       " 'Glory Sneakers For Men',\n",
       " \"White casual, gym,training & Running sneakers for men's...\",\n",
       " 'Sneakers For Men',\n",
       " 'Sneakers For Men',\n",
       " 'Stylish Comfortable Lightweight, Breathable Walking Sho...',\n",
       " 'Casual Sneaker White Shoes For Men And Boys Sneakers Fo...',\n",
       " 'STYLISH-WHITE-6 Sneakers For Men',\n",
       " 'Perfect & Affordable Combo Pack of 02 Pairs Sneakers Ou...',\n",
       " 'Sneakers For Men',\n",
       " 'Sneakers For Men',\n",
       " 'SM-439 Sneakers For Men',\n",
       " 'Caracal Sneakers For Men',\n",
       " 'Sneakers For Women',\n",
       " 'Puma Smash v2 Sneakers For Men']"
      ]
     },
     "execution_count": 130,
     "metadata": {},
     "output_type": "execute_result"
    }
   ],
   "source": [
    "#creating an empty list to display 100 brand's product description\n",
    "Product_Description1= []\n",
    "\n",
    "#scrapting all 40 tags having product descriptions\n",
    "p_dtags1= driver.find_elements(By.CLASS_NAME,\"IRpwTa\")\n",
    "\n",
    "#displaying tags into texts\n",
    "for i in p_dtags1:\n",
    "    Product_Description1.append(i.text)\n",
    "Product_Description1[0:40]"
   ]
  },
  {
   "cell_type": "code",
   "execution_count": 131,
   "id": "efefcd8d",
   "metadata": {},
   "outputs": [],
   "source": [
    "#to display the next 40 results in the next page\n",
    "Next_page9=driver.find_element(By.XPATH,'/html/body/div[1]/div/div[3]/div[1]/div[2]/div[12]/div/div/nav/a[12]/span')\n",
    "Next_page9.click()"
   ]
  },
  {
   "cell_type": "code",
   "execution_count": 132,
   "id": "c0420967",
   "metadata": {},
   "outputs": [
    {
     "data": {
      "text/plain": [
       "['Stylish Casual Sports Shoe Sneakers For Women',\n",
       " 'Old Skool Black & White Casual Sneakers For Women',\n",
       " 'Shark-41 Sneakers For Men',\n",
       " 'fuzor B Sneakers For Men',\n",
       " 'Casual Stylish Trending Sneakers For Women',\n",
       " 'Sneakers For Men',\n",
       " 'Sneakers For Men',\n",
       " \"Men's Combo Pack of 02 Shoes for Men Casual Sneakers Ou...\",\n",
       " \"Casual , Partywear Sneakers Shoes For Men's And Boys Wh...\",\n",
       " 'Sneakers Shoes For Men Black Sneakers For Men',\n",
       " 'Casuals, Canvas, Partywear Sneakers For Men',\n",
       " 'Rose Metallic Pop Sneakers For Women',\n",
       " 'Stylish Walking Partywear Sneakers Casual Shoes Sneaker...',\n",
       " 'Modern Trendy Sneakers Shoes Sneakers For Men',\n",
       " 'FORUM EXHIBIT LOW Sneakers For Men',\n",
       " 'STREET ICON M Sneakers For Men',\n",
       " 'Sneakers For Women',\n",
       " 'Sneakers For Men',\n",
       " 'Girls Stylish & Comfortable | Casual | Party Wear Sneak...',\n",
       " 'Sneakers For Men']"
      ]
     },
     "execution_count": 132,
     "metadata": {},
     "output_type": "execute_result"
    }
   ],
   "source": [
    "#creating an empty list to display 100 brand's product description\n",
    "Product_Description2= []\n",
    "\n",
    "#scrapting all 20 tags having product descriptions\n",
    "p_dtags2= driver.find_elements(By.CLASS_NAME,\"IRpwTa\")\n",
    "\n",
    "#displaying tags into texts\n",
    "for i in p_dtags2:\n",
    "    Product_Description2.append(i.text)\n",
    "Product_Description2[0:20]"
   ]
  },
  {
   "cell_type": "code",
   "execution_count": 133,
   "id": "aa81b2fb",
   "metadata": {},
   "outputs": [
    {
     "data": {
      "text/plain": [
       "['₹630',\n",
       " '₹569',\n",
       " '₹544',\n",
       " '₹397',\n",
       " '₹424',\n",
       " '₹479',\n",
       " '₹1,437',\n",
       " '₹664',\n",
       " '₹399',\n",
       " '₹199',\n",
       " '₹319',\n",
       " '₹569',\n",
       " '₹2,144',\n",
       " '₹499',\n",
       " '₹297',\n",
       " '₹630',\n",
       " '₹529',\n",
       " '₹1,759',\n",
       " '₹394',\n",
       " '₹799',\n",
       " '₹599',\n",
       " '₹1,873',\n",
       " '₹499',\n",
       " '₹845',\n",
       " '₹499',\n",
       " '₹1,539',\n",
       " '₹228',\n",
       " '₹1,424',\n",
       " '₹499',\n",
       " '₹2,792',\n",
       " '₹399',\n",
       " '₹499',\n",
       " '₹424',\n",
       " '₹398',\n",
       " '₹549',\n",
       " '₹854',\n",
       " '₹1,559',\n",
       " '₹479',\n",
       " '₹299',\n",
       " '₹1,600']"
      ]
     },
     "execution_count": 133,
     "metadata": {},
     "output_type": "execute_result"
    }
   ],
   "source": [
    "#creating an empty list to display 100 brand's price\n",
    "Price= []\n",
    "\n",
    "#scrapting all 40 tags having product descriptions\n",
    "price_tags= driver.find_elements(By.CLASS_NAME,\"_30jeq3\")\n",
    "\n",
    "#displaying tags into texts\n",
    "for i in price_tags:\n",
    "    Price.append(i.text)\n",
    "Price[0:40]"
   ]
  },
  {
   "cell_type": "code",
   "execution_count": 134,
   "id": "6fe344dd",
   "metadata": {},
   "outputs": [],
   "source": [
    "#to display the next 40 results in the next page\n",
    "Next_page10=driver.find_element(By.XPATH,'/html/body/div[1]/div/div[3]/div[1]/div[2]/div[12]/div/div/nav/a[11]/span')\n",
    "Next_page10.click()"
   ]
  },
  {
   "cell_type": "code",
   "execution_count": 135,
   "id": "1bac3a4d",
   "metadata": {},
   "outputs": [
    {
     "data": {
      "text/plain": [
       "['₹410',\n",
       " '₹707',\n",
       " '₹499',\n",
       " '₹479',\n",
       " '₹498',\n",
       " '₹239',\n",
       " '₹399',\n",
       " '₹351',\n",
       " '₹499',\n",
       " '₹499',\n",
       " '₹423',\n",
       " '₹759',\n",
       " '₹2,335',\n",
       " '₹549',\n",
       " '₹2,279',\n",
       " '₹299',\n",
       " '₹959',\n",
       " '₹327',\n",
       " '₹449',\n",
       " '₹1,759',\n",
       " '₹351',\n",
       " '₹899',\n",
       " '₹2,555',\n",
       " '₹672',\n",
       " '₹529',\n",
       " '₹299',\n",
       " '₹1,940',\n",
       " '₹499',\n",
       " '₹699',\n",
       " '₹259',\n",
       " '₹397',\n",
       " '₹402',\n",
       " '₹179',\n",
       " '₹499',\n",
       " '₹458',\n",
       " '₹499',\n",
       " '₹807',\n",
       " '₹2,911',\n",
       " '₹399',\n",
       " '₹2,312']"
      ]
     },
     "execution_count": 135,
     "metadata": {},
     "output_type": "execute_result"
    }
   ],
   "source": [
    "#creating an empty list to display 100 brand's price\n",
    "Price1= []\n",
    "\n",
    "#scrapting all 40 tags having product descriptions\n",
    "price_tags1= driver.find_elements(By.CLASS_NAME,\"_30jeq3\")\n",
    "\n",
    "#displaying tags into texts\n",
    "for i in price_tags1:\n",
    "    Price1.append(i.text)\n",
    "Price1[0:40]"
   ]
  },
  {
   "cell_type": "code",
   "execution_count": 136,
   "id": "27f0d429",
   "metadata": {},
   "outputs": [],
   "source": [
    "#to display the next 40 results in the next page\n",
    "Next_page11=driver.find_element(By.XPATH,'/html/body/div[1]/div/div[3]/div[1]/div[2]/div[12]/div/div/nav/a[12]/span')\n",
    "Next_page11.click()"
   ]
  },
  {
   "cell_type": "code",
   "execution_count": 137,
   "id": "aef0404d",
   "metadata": {},
   "outputs": [
    {
     "data": {
      "text/plain": [
       "['₹599',\n",
       " '₹1,890',\n",
       " '₹530',\n",
       " '₹2,049',\n",
       " '₹684',\n",
       " '₹995',\n",
       " '₹529',\n",
       " '₹599',\n",
       " '₹296',\n",
       " '₹215',\n",
       " '₹479',\n",
       " '₹1,799',\n",
       " '₹559',\n",
       " '₹666',\n",
       " '₹8,599',\n",
       " '₹2,184',\n",
       " '₹399',\n",
       " '₹756',\n",
       " '₹398',\n",
       " '₹299']"
      ]
     },
     "execution_count": 137,
     "metadata": {},
     "output_type": "execute_result"
    }
   ],
   "source": [
    "#creating an empty list to display 100 brand's price\n",
    "Price2= []\n",
    "\n",
    "#scrapting all 20 tags having product descriptions\n",
    "price_tags2= driver.find_elements(By.CLASS_NAME,\"_30jeq3\")\n",
    "\n",
    "#displaying tags into texts\n",
    "for i in price_tags2:\n",
    "    Price2.append(i.text)\n",
    "Price2[0:20]"
   ]
  },
  {
   "cell_type": "code",
   "execution_count": 138,
   "id": "0468038a",
   "metadata": {},
   "outputs": [
    {
     "data": {
      "text/plain": [
       "['21% off',\n",
       " '71% off',\n",
       " '71% off',\n",
       " '80% off',\n",
       " '57% off',\n",
       " '68% off',\n",
       " '58% off',\n",
       " '86% off',\n",
       " '80% off',\n",
       " '80% off',\n",
       " '75% off',\n",
       " '71% off',\n",
       " '38% off',\n",
       " '66% off',\n",
       " '70% off',\n",
       " '36% off',\n",
       " '47% off',\n",
       " '45% off',\n",
       " '60% off',\n",
       " '46% off',\n",
       " '40% off',\n",
       " '46% off',\n",
       " '75% off',\n",
       " '57% off',\n",
       " '50% off',\n",
       " '45% off',\n",
       " '77% off',\n",
       " '52% off',\n",
       " '50% off',\n",
       " '44% off',\n",
       " '80% off',\n",
       " '70% off',\n",
       " '57% off',\n",
       " '60% off',\n",
       " '45% off',\n",
       " '5% off',\n",
       " '70% off',\n",
       " '52% off',\n",
       " '76% off',\n",
       " '83% off']"
      ]
     },
     "execution_count": 138,
     "metadata": {},
     "output_type": "execute_result"
    }
   ],
   "source": [
    "#creating an empty list to display 100 brand's discount %\n",
    "Discount= []\n",
    "\n",
    "#scrapting all 40 tags having product descriptions\n",
    "discount_tags= driver.find_elements(By.CLASS_NAME,\"_3Ay6Sb\")\n",
    "\n",
    "#displaying tags into texts\n",
    "for i in discount_tags:\n",
    "    Discount.append(i.text)\n",
    "Discount[0:40]"
   ]
  },
  {
   "cell_type": "code",
   "execution_count": 139,
   "id": "4c55073c",
   "metadata": {},
   "outputs": [],
   "source": [
    "#to display the next 40 results in the next page\n",
    "Next_page12=driver.find_element(By.XPATH,'/html/body/div[1]/div/div[3]/div[1]/div[2]/div[12]/div/div/nav/a[11]/span')\n",
    "Next_page12.click()"
   ]
  },
  {
   "cell_type": "code",
   "execution_count": 140,
   "id": "190fe4a2",
   "metadata": {},
   "outputs": [
    {
     "data": {
      "text/plain": [
       "['58% off',\n",
       " '15% off',\n",
       " '58% off',\n",
       " '52% off',\n",
       " '50% off',\n",
       " '70% off',\n",
       " '69% off',\n",
       " '64% off',\n",
       " '50% off',\n",
       " '61% off',\n",
       " '67% off',\n",
       " '62% off',\n",
       " '35% off',\n",
       " '45% off',\n",
       " '54% off',\n",
       " '50% off',\n",
       " '70% off',\n",
       " '79% off',\n",
       " '55% off',\n",
       " '45% off',\n",
       " '64% off',\n",
       " '43% off',\n",
       " '83% off',\n",
       " '47% off',\n",
       " '40% off',\n",
       " '35% off',\n",
       " '50% off',\n",
       " '53% off',\n",
       " '74% off',\n",
       " '60% off',\n",
       " '59% off',\n",
       " '64% off',\n",
       " '72% off',\n",
       " '54% off',\n",
       " '50% off',\n",
       " '4% off',\n",
       " '41% off',\n",
       " '60% off',\n",
       " '53% off',\n",
       " '46% off']"
      ]
     },
     "execution_count": 140,
     "metadata": {},
     "output_type": "execute_result"
    }
   ],
   "source": [
    "#creating an empty list to display 100 brand's discount %\n",
    "Discount1= []\n",
    "\n",
    "#scrapting all 40 tags having product descriptions\n",
    "discount_tags1= driver.find_elements(By.CLASS_NAME,\"_3Ay6Sb\")\n",
    "\n",
    "#displaying tags into texts\n",
    "for i in discount_tags1:\n",
    "    Discount1.append(i.text)\n",
    "Discount1[0:40]"
   ]
  },
  {
   "cell_type": "code",
   "execution_count": 141,
   "id": "5daea715",
   "metadata": {},
   "outputs": [],
   "source": [
    "#to display the next 40 results in the next page\n",
    "Next_page13=driver.find_element(By.XPATH,'/html/body/div[1]/div/div[3]/div[1]/div[2]/div[12]/div/div/nav/a[12]/span')\n",
    "Next_page13.click()"
   ]
  },
  {
   "cell_type": "code",
   "execution_count": 142,
   "id": "3e8ea5ab",
   "metadata": {},
   "outputs": [
    {
     "data": {
      "text/plain": [
       "['40% off',\n",
       " '52% off',\n",
       " '46% off',\n",
       " '46% off',\n",
       " '31% off',\n",
       " '50% off',\n",
       " '47% off',\n",
       " '66% off',\n",
       " '55% off',\n",
       " '56% off',\n",
       " '52% off',\n",
       " '60% off',\n",
       " '44% off',\n",
       " '48% off',\n",
       " '39% off',\n",
       " '60% off',\n",
       " '15% off',\n",
       " '66% off',\n",
       " '40% off',\n",
       " '57% off']"
      ]
     },
     "execution_count": 142,
     "metadata": {},
     "output_type": "execute_result"
    }
   ],
   "source": [
    "#creating an empty list to display 100 brand's discount %\n",
    "Discount2= []\n",
    "\n",
    "#scrapting all 20 tags having product descriptions\n",
    "discount_tags2= driver.find_elements(By.CLASS_NAME,\"_3Ay6Sb\")\n",
    "\n",
    "#displaying tags into texts\n",
    "for i in discount_tags2:\n",
    "    Discount2.append(i.text)\n",
    "Discount2[0:20]"
   ]
  },
  {
   "cell_type": "code",
   "execution_count": 143,
   "id": "04d524e4",
   "metadata": {},
   "outputs": [
    {
     "name": "stdout",
     "output_type": "stream",
     "text": [
      "100 100 100 100\n"
     ]
    }
   ],
   "source": [
    "print(len(Brand_sneakers[0:40]+Brand_sneakers2[0:40]+Brand_sneakers3[0:20]),len(Product_Description[0:40]+Product_Description1[0:40]+Product_Description2[0:20]),len(Price[0:40]+Price1[0:40]+Price2[0:20]),len(Discount[0:40]+Discount1[0:40]+Discount2[0:20]))"
   ]
  },
  {
   "cell_type": "code",
   "execution_count": 144,
   "id": "8a2e175a",
   "metadata": {},
   "outputs": [
    {
     "data": {
      "text/html": [
       "<div>\n",
       "<style scoped>\n",
       "    .dataframe tbody tr th:only-of-type {\n",
       "        vertical-align: middle;\n",
       "    }\n",
       "\n",
       "    .dataframe tbody tr th {\n",
       "        vertical-align: top;\n",
       "    }\n",
       "\n",
       "    .dataframe thead th {\n",
       "        text-align: right;\n",
       "    }\n",
       "</style>\n",
       "<table border=\"1\" class=\"dataframe\">\n",
       "  <thead>\n",
       "    <tr style=\"text-align: right;\">\n",
       "      <th></th>\n",
       "      <th>Brand name</th>\n",
       "      <th>Product Description</th>\n",
       "      <th>Price</th>\n",
       "      <th>Discounts</th>\n",
       "    </tr>\n",
       "  </thead>\n",
       "  <tbody>\n",
       "    <tr>\n",
       "      <th>0</th>\n",
       "      <td>RapidBox</td>\n",
       "      <td>Sneakers For Men</td>\n",
       "      <td>₹630</td>\n",
       "      <td>21% off</td>\n",
       "    </tr>\n",
       "    <tr>\n",
       "      <th>1</th>\n",
       "      <td>ASTEROID</td>\n",
       "      <td>BigBoss Men's Premium Original Luxury Branded ...</td>\n",
       "      <td>₹569</td>\n",
       "      <td>71% off</td>\n",
       "    </tr>\n",
       "    <tr>\n",
       "      <th>2</th>\n",
       "      <td>Chevit</td>\n",
       "      <td>Super Stylish &amp; Trendy Combo Pack of 02 Pairs ...</td>\n",
       "      <td>₹544</td>\n",
       "      <td>71% off</td>\n",
       "    </tr>\n",
       "    <tr>\n",
       "      <th>3</th>\n",
       "      <td>KWIK FIT</td>\n",
       "      <td>Kwik FIT casual sneaker shoes and partywear sh...</td>\n",
       "      <td>₹397</td>\n",
       "      <td>80% off</td>\n",
       "    </tr>\n",
       "    <tr>\n",
       "      <th>4</th>\n",
       "      <td>Magnolia</td>\n",
       "      <td>Sneakers For Men</td>\n",
       "      <td>₹424</td>\n",
       "      <td>57% off</td>\n",
       "    </tr>\n",
       "    <tr>\n",
       "      <th>...</th>\n",
       "      <td>...</td>\n",
       "      <td>...</td>\n",
       "      <td>...</td>\n",
       "      <td>...</td>\n",
       "    </tr>\n",
       "    <tr>\n",
       "      <th>95</th>\n",
       "      <td>ADIDAS</td>\n",
       "      <td>STREET ICON M Sneakers For Men</td>\n",
       "      <td>₹2,184</td>\n",
       "      <td>60% off</td>\n",
       "    </tr>\n",
       "    <tr>\n",
       "      <th>96</th>\n",
       "      <td>Shozie</td>\n",
       "      <td>Sneakers For Women</td>\n",
       "      <td>₹399</td>\n",
       "      <td>15% off</td>\n",
       "    </tr>\n",
       "    <tr>\n",
       "      <th>97</th>\n",
       "      <td>Sparx</td>\n",
       "      <td>Sneakers For Men</td>\n",
       "      <td>₹756</td>\n",
       "      <td>66% off</td>\n",
       "    </tr>\n",
       "    <tr>\n",
       "      <th>98</th>\n",
       "      <td>TWIN TOES</td>\n",
       "      <td>Girls Stylish &amp; Comfortable | Casual | Party W...</td>\n",
       "      <td>₹398</td>\n",
       "      <td>40% off</td>\n",
       "    </tr>\n",
       "    <tr>\n",
       "      <th>99</th>\n",
       "      <td>HOTSTYLE</td>\n",
       "      <td>Sneakers For Men</td>\n",
       "      <td>₹299</td>\n",
       "      <td>57% off</td>\n",
       "    </tr>\n",
       "  </tbody>\n",
       "</table>\n",
       "<p>100 rows × 4 columns</p>\n",
       "</div>"
      ],
      "text/plain": [
       "   Brand name                                Product Description   Price  \\\n",
       "0    RapidBox                                   Sneakers For Men    ₹630   \n",
       "1    ASTEROID  BigBoss Men's Premium Original Luxury Branded ...    ₹569   \n",
       "2      Chevit  Super Stylish & Trendy Combo Pack of 02 Pairs ...    ₹544   \n",
       "3    KWIK FIT  Kwik FIT casual sneaker shoes and partywear sh...    ₹397   \n",
       "4    Magnolia                                   Sneakers For Men    ₹424   \n",
       "..        ...                                                ...     ...   \n",
       "95     ADIDAS                     STREET ICON M Sneakers For Men  ₹2,184   \n",
       "96     Shozie                                 Sneakers For Women    ₹399   \n",
       "97      Sparx                                   Sneakers For Men    ₹756   \n",
       "98  TWIN TOES  Girls Stylish & Comfortable | Casual | Party W...    ₹398   \n",
       "99   HOTSTYLE                                   Sneakers For Men    ₹299   \n",
       "\n",
       "   Discounts  \n",
       "0    21% off  \n",
       "1    71% off  \n",
       "2    71% off  \n",
       "3    80% off  \n",
       "4    57% off  \n",
       "..       ...  \n",
       "95   60% off  \n",
       "96   15% off  \n",
       "97   66% off  \n",
       "98   40% off  \n",
       "99   57% off  \n",
       "\n",
       "[100 rows x 4 columns]"
      ]
     },
     "execution_count": 144,
     "metadata": {},
     "output_type": "execute_result"
    }
   ],
   "source": [
    "import pandas as pd\n",
    "df = pd.DataFrame({'Brand name':Brand_sneakers[0:40]+Brand_sneakers2[0:40]+Brand_sneakers3[0:20],'Product Description':Product_Description[0:40]+Product_Description1[0:40]+Product_Description2[0:20],'Price':Price[0:40]+Price1[0:40]+Price2[0:20],'Discounts':Discount[0:40]+Discount1[0:40]+Discount2[0:20]})\n",
    "df"
   ]
  },
  {
   "cell_type": "code",
   "execution_count": 145,
   "id": "db2128b4",
   "metadata": {},
   "outputs": [],
   "source": [
    "driver.close()"
   ]
  },
  {
   "cell_type": "code",
   "execution_count": 146,
   "id": "02e3c0a6",
   "metadata": {},
   "outputs": [],
   "source": [
    "from selenium.common.exceptions import NoSuchElementException"
   ]
  },
  {
   "cell_type": "markdown",
   "id": "89a1e4dc",
   "metadata": {},
   "source": [
    "# Q7: Go to the link - https://www.myntra.com/shoes\n",
    "Set second Price filter and Color filter to “Black”, as shown in the below image.\n",
    "And then scrape First 100 shoes data you get. The data should include “Brand” of the shoes , Short Shoe \n",
    "description, price of the shoe as shown in the below image."
   ]
  },
  {
   "cell_type": "code",
   "execution_count": 152,
   "id": "e627b4ef",
   "metadata": {},
   "outputs": [],
   "source": [
    "# let's first connect to the web driver\n",
    "driver = webdriver.Chrome(r\"C:\\Users\\Sunny\\Downloads\\chromedriver_win32\\chromedriver.exe\")"
   ]
  },
  {
   "cell_type": "code",
   "execution_count": 153,
   "id": "cf2309c5",
   "metadata": {},
   "outputs": [],
   "source": [
    "url = 'https://www.myntra.com/shoes'\n",
    "driver.get(url)"
   ]
  },
  {
   "cell_type": "code",
   "execution_count": 154,
   "id": "fa17b4b5",
   "metadata": {},
   "outputs": [],
   "source": [
    "#finding the element to search for shoes\n",
    "search_feild_product_name=driver.find_element(By.CLASS_NAME,'desktop-searchBar')\n",
    "search_feild_product_name.send_keys('Shoes')"
   ]
  },
  {
   "cell_type": "code",
   "execution_count": 155,
   "id": "9f18e5ae",
   "metadata": {},
   "outputs": [],
   "source": [
    "#to display the results for shoes in myntra\n",
    "Next_page=driver.find_element(By.XPATH,'/html/body/div[1]/div/div/header/div[2]/div[3]/a')\n",
    "Next_page.click()"
   ]
  },
  {
   "cell_type": "code",
   "execution_count": 160,
   "id": "67292269",
   "metadata": {},
   "outputs": [],
   "source": [
    "#setting filters to display in a specific price range\n",
    "price_filter=driver.find_element(By.XPATH,'/html/body/div[2]/div/div[1]/main/div[3]/div[1]/section/div/div[5]/ul/li[2]/label')\n",
    "price_filter.click()"
   ]
  },
  {
   "cell_type": "code",
   "execution_count": 159,
   "id": "a96c659f",
   "metadata": {},
   "outputs": [],
   "source": [
    "#setting filters to display black cloured shoes \n",
    "color_filter=driver.find_element(By.XPATH,'/html/body/div[2]/div/div[1]/main/div[3]/div[1]/section/div/div[6]/ul/li[1]/label')\n",
    "color_filter.click()"
   ]
  },
  {
   "cell_type": "code",
   "execution_count": 162,
   "id": "6c5e960d",
   "metadata": {},
   "outputs": [
    {
     "data": {
      "text/plain": [
       "['Nike',\n",
       " 'Skechers',\n",
       " 'Nike',\n",
       " 'ADIDAS Originals',\n",
       " 'Nike',\n",
       " 'ADIDAS Originals',\n",
       " 'Nike',\n",
       " 'Hush Puppies',\n",
       " 'ADIDAS',\n",
       " 'Tommy Hilfiger',\n",
       " 'Puma',\n",
       " 'ROSSO BRUNELLO',\n",
       " 'Puma',\n",
       " 'Puma',\n",
       " 'UNDER ARMOUR',\n",
       " 'Skechers',\n",
       " 'Skechers',\n",
       " 'ASICS',\n",
       " 'Nike',\n",
       " 'Tommy Hilfiger',\n",
       " 'Skechers',\n",
       " 'Puma',\n",
       " 'Hush Puppies',\n",
       " 'Nike',\n",
       " 'Nike',\n",
       " 'ADIDAS',\n",
       " 'Nike',\n",
       " 'Nike',\n",
       " 'ADIDAS',\n",
       " 'ADIDAS',\n",
       " 'Skechers',\n",
       " 'Nike',\n",
       " 'Puma',\n",
       " 'Puma',\n",
       " 'Puma',\n",
       " 'PUMA Hoops',\n",
       " 'ROSSO BRUNELLO',\n",
       " 'UNDER ARMOUR',\n",
       " 'ADIDAS',\n",
       " 'Puma',\n",
       " 'UNDER ARMOUR',\n",
       " 'Geox',\n",
       " 'ADIDAS',\n",
       " 'ADIDAS Originals',\n",
       " 'ADIDAS Originals',\n",
       " 'Puma',\n",
       " 'ASICS',\n",
       " 'Nike',\n",
       " 'Puma',\n",
       " 'Clarks']"
      ]
     },
     "execution_count": 162,
     "metadata": {},
     "output_type": "execute_result"
    }
   ],
   "source": [
    "#creating an empty list to scrap all brand names\n",
    "Brand_names1=[]\n",
    "#scrapting all the tags brand names\n",
    "brand_tags=driver.find_elements(By.CLASS_NAME,\"product-brand\")\n",
    "\n",
    "#displaying tags extracted above into text \n",
    "for i in brand_tags:\n",
    "    Brand_names1.append(i.text)\n",
    "Brand_names1"
   ]
  },
  {
   "cell_type": "code",
   "execution_count": 166,
   "id": "c3565602",
   "metadata": {},
   "outputs": [
    {
     "data": {
      "text/plain": [
       "['Rs. 7465Rs. 8295(10% OFF)',\n",
       " 'Rs. 7199Rs. 8999(20% OFF)',\n",
       " 'Rs. 9715Rs. 10795(10% OFF)',\n",
       " 'Rs. 8599',\n",
       " 'Rs. 7050Rs. 8295(15% OFF)',\n",
       " 'Rs. 10999',\n",
       " 'Rs. 11895Rs. 13995(15% OFF)',\n",
       " 'Rs. 7649Rs. 8999(15% OFF)',\n",
       " 'Rs. 6719Rs. 13999(52% OFF)',\n",
       " 'Rs. 8099Rs. 8999(10% OFF)',\n",
       " 'Rs. 9749Rs. 12999(25% OFF)',\n",
       " 'Rs. 12999',\n",
       " 'Rs. 7199Rs. 11999(40% OFF)',\n",
       " 'Rs. 9999',\n",
       " 'Rs. 10999',\n",
       " 'Rs. 7124Rs. 9499(25% OFF)',\n",
       " 'Rs. 7199Rs. 8999(20% OFF)',\n",
       " 'Rs. 7999Rs. 9999(20% OFF)',\n",
       " 'Rs. 7915Rs. 8795(10% OFF)',\n",
       " 'Rs. 6799Rs. 7999(15% OFF)',\n",
       " 'Rs. 7124Rs. 9499(25% OFF)',\n",
       " 'Rs. 6749Rs. 8999(25% OFF)',\n",
       " 'Rs. 7499',\n",
       " 'Rs. 8499Rs. 9999(15% OFF)',\n",
       " 'Rs. 11515Rs. 12795(10% OFF)',\n",
       " 'Rs. 7465Rs. 8295(10% OFF)',\n",
       " 'Rs. 7999',\n",
       " 'Rs. 8005Rs. 8895(10% OFF)',\n",
       " 'Rs. 9445Rs. 10495(10% OFF)',\n",
       " 'Rs. 9999',\n",
       " 'Rs. 11999Rs. 14999(20% OFF)',\n",
       " 'Rs. 7499',\n",
       " 'Rs. 7465Rs. 8295(10% OFF)',\n",
       " 'Rs. 12999',\n",
       " 'Rs. 7999Rs. 9999(20% OFF)',\n",
       " 'Rs. 6999',\n",
       " 'Rs. 8249Rs. 10999(25% OFF)',\n",
       " 'Rs. 8999',\n",
       " 'Rs. 9999',\n",
       " 'Rs. 9999',\n",
       " 'Rs. 10999',\n",
       " 'Rs. 6999',\n",
       " 'Rs. 12990',\n",
       " 'Rs. 9999',\n",
       " 'Rs. 11999',\n",
       " 'Rs. 11049Rs. 12999(15% OFF)',\n",
       " 'Rs. 7499',\n",
       " 'Rs. 8399Rs. 13999(40% OFF)',\n",
       " 'Rs. 7465Rs. 8295(10% OFF)',\n",
       " 'Rs. 7199Rs. 8999(20% OFF)']"
      ]
     },
     "execution_count": 166,
     "metadata": {},
     "output_type": "execute_result"
    }
   ],
   "source": [
    "#creating an empty list to scrap all prices\n",
    "Brand_price=[]\n",
    "#scrapting all the tags brand prices\n",
    "price=driver.find_elements(By.CLASS_NAME,\"product-price\")\n",
    "\n",
    "#displaying tags extracted into text\n",
    "for i in price:\n",
    "    Brand_price.append(i.text)\n",
    "Brand_price"
   ]
  },
  {
   "cell_type": "code",
   "execution_count": 167,
   "id": "5066df2d",
   "metadata": {},
   "outputs": [
    {
     "data": {
      "text/plain": [
       "['Men ZOOM WINFLO8 Running Shoes',\n",
       " 'Men Max Cushioning Running',\n",
       " 'Men Colourblocked Sneakers',\n",
       " 'Men Forum Exhibit Low',\n",
       " 'Women WINFLO 8 Running Shoes',\n",
       " 'Men Niteball II Sneakers',\n",
       " 'Men React Infinity 3 Running',\n",
       " 'Men Solid Leather Formal Slip-Ons',\n",
       " 'Women X9000 H.RDY Running',\n",
       " 'Men Solid Sneakers',\n",
       " 'Eternity Nitro Running Shoes',\n",
       " 'Men Printed Leather Monks',\n",
       " 'Men KING Top Football Shoes',\n",
       " 'Women Liberate NITRO Running',\n",
       " 'Unisex Curry Basketball Shoes',\n",
       " 'Men MAX CUSHIONING ELITE-LUCID',\n",
       " 'Men Max Cushioning Running',\n",
       " 'Men GEL-CUMULUS 23 MK Running',\n",
       " 'Air Max Axis Sneakers',\n",
       " 'Men Sneakers',\n",
       " 'Men ENIGMA Running Shoes',\n",
       " 'Unisex Wild Rider Sneakers',\n",
       " 'Men GO FLEX 2-COMPLETION Shoes',\n",
       " 'Men Solid Leather Formal Slip-Ons',\n",
       " 'Men JORDAN LOW Basketball Shoe',\n",
       " 'Unisex Lebron V Basketball',\n",
       " 'Women Eastrail 2 Hiking Shoes',\n",
       " 'Men SRG 3 FK Training Shoes',\n",
       " 'Men REACT MILER 3 Running Shoe',\n",
       " 'Men Defiant Generation Tennis',\n",
       " 'Men Solar Glide 4 ST Running',\n",
       " 'Men Go Flex 2 Walking Shoes',\n",
       " 'Women Running Shoes',\n",
       " 'Men M Nitro Running Shoess',\n",
       " 'Women Run XX Nitro Running',\n",
       " 'Women Enlighten Shoes',\n",
       " 'Fives Blaze Court Basketball',\n",
       " 'Men Leather Loafers',\n",
       " 'Men HOVR Sonic SE Running Shoe',\n",
       " 'Women Supernova Running Shoes',\n",
       " 'Men Velocity Nitro 2 Running',\n",
       " 'Men Lockdown 5 Basketball',\n",
       " 'Women Solid Boots',\n",
       " 'Men Supernova 2 Running Shoes',\n",
       " 'Men Solid Oznova Sneakers',\n",
       " 'Men Ozrah Leather Sneakers',\n",
       " 'Unisex Cell D Running Shoes',\n",
       " 'Men GEL-Quantum 360 6 Sports',\n",
       " 'Men Air Max Sneakers',\n",
       " 'Men Reverse Classics Sneakers']"
      ]
     },
     "execution_count": 167,
     "metadata": {},
     "output_type": "execute_result"
    }
   ],
   "source": [
    "#creating an empty list to scrap all summaries\n",
    "product_desc=[]\n",
    "#scrapting all the tags having product summary\n",
    "prodtags=driver.find_elements(By.CLASS_NAME,\"product-product\")\n",
    "#displaying 50 tags extracted into text\n",
    "for i in prodtags:\n",
    "    product_desc.append(i.text)\n",
    "product_desc"
   ]
  },
  {
   "cell_type": "code",
   "execution_count": 168,
   "id": "e314f056",
   "metadata": {},
   "outputs": [],
   "source": [
    "#to display the results for shoes details in the next page\n",
    "Next_page=driver.find_element(By.XPATH,'/html/body/div[2]/div/div[1]/main/div[3]/div[2]/div/div[2]/section/div[2]/ul/li[12]/a')\n",
    "Next_page.click()"
   ]
  },
  {
   "cell_type": "code",
   "execution_count": 169,
   "id": "76737bf5",
   "metadata": {},
   "outputs": [
    {
     "data": {
      "text/plain": [
       "['Puma',\n",
       " 'Clarks',\n",
       " 'Hush Puppies',\n",
       " 'ADIDAS Originals',\n",
       " 'ADIDAS',\n",
       " 'Puma',\n",
       " 'ROSSO BRUNELLO',\n",
       " 'Puma',\n",
       " 'Puma',\n",
       " 'Puma',\n",
       " 'ROSSO BRUNELLO',\n",
       " 'FORCLAZ By Decathlon',\n",
       " 'UNDER ARMOUR',\n",
       " 'Puma',\n",
       " 'Louis Philippe',\n",
       " 'Columbia',\n",
       " 'ADIDAS',\n",
       " 'Puma',\n",
       " 'J.FONTINI',\n",
       " 'Nike',\n",
       " 'ROSSO BRUNELLO',\n",
       " 'Puma',\n",
       " 'TOMS',\n",
       " 'Puma',\n",
       " 'Hush Puppies',\n",
       " 'Xtep',\n",
       " 'PUMA Hoops',\n",
       " 'Skechers',\n",
       " 'Nike',\n",
       " 'Geox',\n",
       " 'ROSSO BRUNELLO',\n",
       " 'ADIDAS',\n",
       " 'Bugatti',\n",
       " 'ADIDAS Originals',\n",
       " 'ADIDAS Originals',\n",
       " 'UNDER ARMOUR',\n",
       " 'Saint G',\n",
       " 'Tommy Hilfiger',\n",
       " 'Geox',\n",
       " 'Clarks',\n",
       " 'Tommy Hilfiger',\n",
       " 'ROSSO BRUNELLO',\n",
       " 'ALDO',\n",
       " 'J.FONTINI',\n",
       " 'ALDO',\n",
       " 'ALDO',\n",
       " 'Columbia',\n",
       " 'Columbia',\n",
       " 'Bugatti',\n",
       " 'ADIDAS']"
      ]
     },
     "execution_count": 169,
     "metadata": {},
     "output_type": "execute_result"
    }
   ],
   "source": [
    "#creating an empty list to scrap all brand names in page 2\n",
    "Brand_names2=[]\n",
    "#scrapting all the tags brand names in page 2\n",
    "brndtags2=driver.find_elements(By.CLASS_NAME,\"product-brand\")\n",
    "\n",
    "#displaying tags extracted above into text \n",
    "for i in brndtags2:\n",
    "    Brand_names2.append(i.text)\n",
    "Brand_names2"
   ]
  },
  {
   "cell_type": "code",
   "execution_count": 170,
   "id": "ceeb8a9a",
   "metadata": {},
   "outputs": [
    {
     "data": {
      "text/plain": [
       "['Rs. 7199Rs. 8999(20% OFF)',\n",
       " 'Rs. 7899Rs. 9999(21% OFF)',\n",
       " 'Rs. 7999',\n",
       " 'Rs. 9999',\n",
       " 'Rs. 10199Rs. 11999(15% OFF)',\n",
       " 'Rs. 12999',\n",
       " 'Rs. 11499',\n",
       " 'Rs. 9749Rs. 12999(25% OFF)',\n",
       " 'Rs. 7199Rs. 8999(20% OFF)',\n",
       " 'Rs. 7199Rs. 8999(20% OFF)',\n",
       " 'Rs. 11999',\n",
       " 'Rs. 6999',\n",
       " 'Rs. 8399Rs. 11999(30% OFF)',\n",
       " 'Rs. 8999Rs. 9999(10% OFF)',\n",
       " 'Rs. 9999',\n",
       " 'Rs. 12999',\n",
       " 'Rs. 12999',\n",
       " 'Rs. 11999',\n",
       " 'Rs. 7990',\n",
       " 'Rs. 8725Rs. 9695(10% OFF)',\n",
       " 'Rs. 11999',\n",
       " 'Rs. 9599Rs. 11999(20% OFF)',\n",
       " 'Rs. 7199Rs. 7999(10% OFF)',\n",
       " 'Rs. 8799Rs. 10999(20% OFF)',\n",
       " 'Rs. 7999Rs. 9999(20% OFF)',\n",
       " 'Rs. 8599',\n",
       " 'Rs. 8249Rs. 10999(25% OFF)',\n",
       " 'Rs. 7999',\n",
       " 'Rs. 9770Rs. 11495(15% OFF)',\n",
       " 'Rs. 11990',\n",
       " 'Rs. 8799Rs. 10999(20% OFF)',\n",
       " 'Rs. 10199Rs. 11999(15% OFF)',\n",
       " 'Rs. 9999',\n",
       " 'Rs. 11899Rs. 13999(15% OFF)',\n",
       " 'Rs. 10999',\n",
       " 'Rs. 7999',\n",
       " 'Rs. 9975Rs. 10500(5% OFF)',\n",
       " 'Rs. 6799Rs. 7999(15% OFF)',\n",
       " 'Rs. 10990',\n",
       " 'Rs. 7499',\n",
       " 'Rs. 7199Rs. 7999(10% OFF)',\n",
       " 'Rs. 11999',\n",
       " 'Rs. 8999',\n",
       " 'Rs. 7490',\n",
       " 'Rs. 7999',\n",
       " 'Rs. 6999',\n",
       " 'Rs. 7999',\n",
       " 'Rs. 9999',\n",
       " 'Rs. 8499',\n",
       " 'Rs. 11999']"
      ]
     },
     "execution_count": 170,
     "metadata": {},
     "output_type": "execute_result"
    }
   ],
   "source": [
    "#creating an empty list to scrap all prices\n",
    "Brand_price2=[]\n",
    "#scrapting all the tags brand prices\n",
    "price2=driver.find_elements(By.CLASS_NAME,\"product-price\")\n",
    "\n",
    "#displaying tags extracted into text\n",
    "for i in price2:\n",
    "    Brand_price2.append(i.text)\n",
    "Brand_price2"
   ]
  },
  {
   "cell_type": "code",
   "execution_count": 171,
   "id": "32283271",
   "metadata": {},
   "outputs": [
    {
     "data": {
      "text/plain": [
       "['Men Reverse Classics Sneakers',\n",
       " 'Men Leather Slip-Ons',\n",
       " 'Men Perforations Leather Slip-On Sneakers',\n",
       " 'Men Retropy F90 Sneakers',\n",
       " 'Men Adizero Adios 7 Running',\n",
       " 'Women Magnify Nitro Running',\n",
       " 'Men Textured Leather Loafers',\n",
       " 'Women Eternity NITRO Shoes',\n",
       " 'Unisex Accelerate Badminton',\n",
       " 'Unisex Eliminate Pro II Shoes',\n",
       " 'Men Textured Leather Loafers',\n",
       " 'Men Hiking Shoes',\n",
       " 'W omen TriBase Reign 4 Running',\n",
       " 'Unisex KING Pro 21 Football',\n",
       " 'Men Textured Leather Loafers',\n",
       " 'Men FACET OUTDRY Trekking Shoe',\n",
       " 'Men Dropset Training Shoes',\n",
       " 'Men Football Shoes',\n",
       " 'Men Textured Leather Loafers',\n",
       " 'Men FREE RUN 2 Sneakers',\n",
       " 'Men Solid Leather Formal Loafers',\n",
       " 'Men Nitro 2 WIDE Running Shoes',\n",
       " 'Men Alpargata Slip-On Sneakers',\n",
       " 'Men Fast-Trac Nitro Running',\n",
       " 'Men Solid Formal Slip-Ons',\n",
       " 'Men Skateboarding Shoes',\n",
       " 'Men TRC Blaze Basketball Shoes',\n",
       " 'Men Textured Sneakers',\n",
       " 'Women React Escape Running',\n",
       " 'Men Lightweight Sneakers',\n",
       " 'Men Solid Leather Formal Derbys',\n",
       " 'Women Adizero Adios 7 Run Shoe',\n",
       " 'Men Solid Leather Formal Derbys',\n",
       " 'Men Woven NMD_31 Sneakers',\n",
       " 'Men Ozweego Sneakers',\n",
       " 'Women Charged Vantage 2 Run',\n",
       " 'Leather High Ankle Boots',\n",
       " 'Women Leather Kitten Sandals',\n",
       " 'Women Leather Slip-On Sneakers',\n",
       " 'Men Leather Derbys',\n",
       " 'Women Solid Sneakers',\n",
       " 'Men Solid Formal Slip-On Shoes',\n",
       " 'Women Open Toe Flats',\n",
       " 'Men Formal Shoes',\n",
       " 'Women T-Strap Flats',\n",
       " 'Women T-Strap Flats',\n",
       " 'Women REDMOND V2 TrekkingShoe',\n",
       " 'PEAKFREAK OUTDRY Trekking Shoe',\n",
       " 'Men Solid Leather Formal Monk Shoes',\n",
       " 'Women SL20.3 Running Shoes']"
      ]
     },
     "execution_count": 171,
     "metadata": {},
     "output_type": "execute_result"
    }
   ],
   "source": [
    "#creating an empty list to scrap all summaries\n",
    "product_desc2=[]\n",
    "#scrapting all the tags having product summary\n",
    "prodtags2=driver.find_elements(By.CLASS_NAME,\"product-product\")\n",
    "#displaying 50 tags extracted into text\n",
    "for i in prodtags2:\n",
    "    product_desc2.append(i.text)\n",
    "product_desc2"
   ]
  },
  {
   "cell_type": "code",
   "execution_count": 172,
   "id": "2a9f10f5",
   "metadata": {},
   "outputs": [
    {
     "name": "stdout",
     "output_type": "stream",
     "text": [
      "100 100 100\n"
     ]
    }
   ],
   "source": [
    "print(len(Brand_names1+Brand_names2),len(Brand_price+Brand_price2),len(product_desc+product_desc2))"
   ]
  },
  {
   "cell_type": "code",
   "execution_count": 173,
   "id": "55b9d8d9",
   "metadata": {},
   "outputs": [
    {
     "data": {
      "text/html": [
       "<div>\n",
       "<style scoped>\n",
       "    .dataframe tbody tr th:only-of-type {\n",
       "        vertical-align: middle;\n",
       "    }\n",
       "\n",
       "    .dataframe tbody tr th {\n",
       "        vertical-align: top;\n",
       "    }\n",
       "\n",
       "    .dataframe thead th {\n",
       "        text-align: right;\n",
       "    }\n",
       "</style>\n",
       "<table border=\"1\" class=\"dataframe\">\n",
       "  <thead>\n",
       "    <tr style=\"text-align: right;\">\n",
       "      <th></th>\n",
       "      <th>Brand_name</th>\n",
       "      <th>Price</th>\n",
       "      <th>Product summary &amp; description</th>\n",
       "    </tr>\n",
       "  </thead>\n",
       "  <tbody>\n",
       "    <tr>\n",
       "      <th>0</th>\n",
       "      <td>Nike</td>\n",
       "      <td>Rs. 7465Rs. 8295(10% OFF)</td>\n",
       "      <td>Men ZOOM WINFLO8 Running Shoes</td>\n",
       "    </tr>\n",
       "    <tr>\n",
       "      <th>1</th>\n",
       "      <td>Skechers</td>\n",
       "      <td>Rs. 7199Rs. 8999(20% OFF)</td>\n",
       "      <td>Men Max Cushioning Running</td>\n",
       "    </tr>\n",
       "    <tr>\n",
       "      <th>2</th>\n",
       "      <td>Nike</td>\n",
       "      <td>Rs. 9715Rs. 10795(10% OFF)</td>\n",
       "      <td>Men Colourblocked Sneakers</td>\n",
       "    </tr>\n",
       "    <tr>\n",
       "      <th>3</th>\n",
       "      <td>ADIDAS Originals</td>\n",
       "      <td>Rs. 8599</td>\n",
       "      <td>Men Forum Exhibit Low</td>\n",
       "    </tr>\n",
       "    <tr>\n",
       "      <th>4</th>\n",
       "      <td>Nike</td>\n",
       "      <td>Rs. 7050Rs. 8295(15% OFF)</td>\n",
       "      <td>Women WINFLO 8 Running Shoes</td>\n",
       "    </tr>\n",
       "    <tr>\n",
       "      <th>...</th>\n",
       "      <td>...</td>\n",
       "      <td>...</td>\n",
       "      <td>...</td>\n",
       "    </tr>\n",
       "    <tr>\n",
       "      <th>95</th>\n",
       "      <td>ALDO</td>\n",
       "      <td>Rs. 6999</td>\n",
       "      <td>Women T-Strap Flats</td>\n",
       "    </tr>\n",
       "    <tr>\n",
       "      <th>96</th>\n",
       "      <td>Columbia</td>\n",
       "      <td>Rs. 7999</td>\n",
       "      <td>Women REDMOND V2 TrekkingShoe</td>\n",
       "    </tr>\n",
       "    <tr>\n",
       "      <th>97</th>\n",
       "      <td>Columbia</td>\n",
       "      <td>Rs. 9999</td>\n",
       "      <td>PEAKFREAK OUTDRY Trekking Shoe</td>\n",
       "    </tr>\n",
       "    <tr>\n",
       "      <th>98</th>\n",
       "      <td>Bugatti</td>\n",
       "      <td>Rs. 8499</td>\n",
       "      <td>Men Solid Leather Formal Monk Shoes</td>\n",
       "    </tr>\n",
       "    <tr>\n",
       "      <th>99</th>\n",
       "      <td>ADIDAS</td>\n",
       "      <td>Rs. 11999</td>\n",
       "      <td>Women SL20.3 Running Shoes</td>\n",
       "    </tr>\n",
       "  </tbody>\n",
       "</table>\n",
       "<p>100 rows × 3 columns</p>\n",
       "</div>"
      ],
      "text/plain": [
       "          Brand_name                       Price  \\\n",
       "0               Nike   Rs. 7465Rs. 8295(10% OFF)   \n",
       "1           Skechers   Rs. 7199Rs. 8999(20% OFF)   \n",
       "2               Nike  Rs. 9715Rs. 10795(10% OFF)   \n",
       "3   ADIDAS Originals                    Rs. 8599   \n",
       "4               Nike   Rs. 7050Rs. 8295(15% OFF)   \n",
       "..               ...                         ...   \n",
       "95              ALDO                    Rs. 6999   \n",
       "96          Columbia                    Rs. 7999   \n",
       "97          Columbia                    Rs. 9999   \n",
       "98           Bugatti                    Rs. 8499   \n",
       "99            ADIDAS                   Rs. 11999   \n",
       "\n",
       "          Product summary & description  \n",
       "0        Men ZOOM WINFLO8 Running Shoes  \n",
       "1            Men Max Cushioning Running  \n",
       "2            Men Colourblocked Sneakers  \n",
       "3                 Men Forum Exhibit Low  \n",
       "4          Women WINFLO 8 Running Shoes  \n",
       "..                                  ...  \n",
       "95                  Women T-Strap Flats  \n",
       "96        Women REDMOND V2 TrekkingShoe  \n",
       "97       PEAKFREAK OUTDRY Trekking Shoe  \n",
       "98  Men Solid Leather Formal Monk Shoes  \n",
       "99           Women SL20.3 Running Shoes  \n",
       "\n",
       "[100 rows x 3 columns]"
      ]
     },
     "execution_count": 173,
     "metadata": {},
     "output_type": "execute_result"
    }
   ],
   "source": [
    "import pandas as pd\n",
    "shoes = pd.DataFrame({'Brand_name':Brand_names1+Brand_names2,'Price':Brand_price+Brand_price2,'Product summary & description':product_desc+product_desc2})\n",
    "shoes"
   ]
  },
  {
   "cell_type": "code",
   "execution_count": 174,
   "id": "7bb763f1",
   "metadata": {},
   "outputs": [],
   "source": [
    "driver.close()"
   ]
  },
  {
   "cell_type": "code",
   "execution_count": 192,
   "id": "2e0ced51",
   "metadata": {},
   "outputs": [],
   "source": [
    "from selenium.common.exceptions import NoSuchElementException"
   ]
  },
  {
   "cell_type": "markdown",
   "id": "b30ee705",
   "metadata": {},
   "source": [
    "# Q8: Go to webpage https://www.amazon.in/ ,Enter “Laptop” in the search field and then click the search icon, Then set CPU Type filter to “Intel Core i7” as shown in the below image:\n",
    "After setting the filters scrape first 10 laptops data. You have to scrape 3 attributesfor each laptop:\n",
    "1. Title\n",
    "2. Ratings\n",
    "3. Price"
   ]
  },
  {
   "cell_type": "code",
   "execution_count": 67,
   "id": "5b8bf175",
   "metadata": {},
   "outputs": [],
   "source": [
    "# let's first connect to the web driver\n",
    "driver = webdriver.Chrome(r\"C:\\Users\\Sunny\\Downloads\\chromedriver_win32\\chromedriver.exe\")"
   ]
  },
  {
   "cell_type": "code",
   "execution_count": 68,
   "id": "0de51a92",
   "metadata": {},
   "outputs": [],
   "source": [
    "url = 'https://www.amazon.in/'\n",
    "driver.get(url)"
   ]
  },
  {
   "cell_type": "code",
   "execution_count": 69,
   "id": "89de3f38",
   "metadata": {},
   "outputs": [],
   "source": [
    "#finding the element to search for laptops\n",
    "search_product_name=driver.find_element(By.CLASS_NAME,'nav-input')\n",
    "search_product_name.send_keys('Laptops')"
   ]
  },
  {
   "cell_type": "code",
   "execution_count": 70,
   "id": "1fcfb3b7",
   "metadata": {},
   "outputs": [],
   "source": [
    "#to display the results for laptops in amazon\n",
    "Page=driver.find_element(By.XPATH,'/html/body/div[1]/header/div/div[1]/div[2]/div/form/div[3]/div/span/input')\n",
    "Page.click()"
   ]
  },
  {
   "cell_type": "code",
   "execution_count": 71,
   "id": "0d661d31",
   "metadata": {},
   "outputs": [],
   "source": [
    "#setting filters to display filters of intel i7\n",
    "filter1=driver.find_element(By.XPATH,'/html/body/div[1]/div[2]/div[1]/div[2]/div/div[3]/span/div[1]/div/div/div[6]/ul[4]/li[13]/span/a/span')\n",
    "filter1.click()"
   ]
  },
  {
   "cell_type": "code",
   "execution_count": 72,
   "id": "b2d7d437",
   "metadata": {},
   "outputs": [
    {
     "data": {
      "text/plain": [
       "['LG Gram Intel Evo 11th Gen Core i7 17\"(43cm)Ultra-Light Laptop (16 GB RAM, 512 GB SSD, New Windows 11 Home Preload, Iris Xe Graphics, USC -C x 2 (with Power), 1.35 kg, 17Z90P-G.AH85A2, Black)',\n",
       " 'Fujitsu UH-X 11th Gen Intel Core i7 13.3” FHD IPS 400Nits Thin & Light Laptop(16GB/512GB SSD/Windows 11/Office 2021/Iris Xe Graphics/Backlit Kb/Fingerprint Reader/2Yr Warranty/Black/878gms),4ZR1F38024',\n",
       " 'Lenovo Ideapad Gaming 3 Intel Core i7 10th Gen 15.6\"(39.62cm) FHD IPS Gaming Laptop (8GB/512GB SSD/4GB NVIDIA GTX 1650/120Hz/Windows 11/Backlit Keyboard/3months Game Pass/Onyx Black/2.2Kg), 81Y401BHIN',\n",
       " 'Acer Nitro 5 Gaming Laptop/12th Gen Intel Core i7-12700H Processor 14core/15.6\"(39.6cm) FHD 144Hz Display(16GB/512GB SSD/1TB HDD/RTX 3050Ti Graphics/Windows 11/RGB),AN515-58 + Xbox Game Pass Ultimate',\n",
       " '₹1,04,990\\n₹1,23,999',\n",
       " 'Hp Pavilion X360 11Th Gen Intel Core I7 14 Inches Fhd Multitouch 2In1 Laptop (16Gb Ram/512Gb Ssd/B&O/Windows 11 Home/Fpr/Backlit Kb/Intel Iris Xe Graphics/Pen/Alexa/Ms Office/Silver/1.52Kg)14-Dy1047Tu',\n",
       " 'HP Pavilion 14 12th Gen Intel Core i7 16GB SDRAM/1TB SSD 14 inch(35.6cm) FHD,IPS,Micro-Edge Display/Intel UHD Graphics/B&O/Win 11/Alexa Built-in/Backlit KB/FPR/MSO 2021/Natural Silver, 14-dv2015TU',\n",
       " 'Lenovo ThinkBook 15 Intel 11th Gen Core i7 15.6\"(39.62 cm)FHD Thin and Light Laptop (16GB/512GB SSD/Windows 11 Home/MS Office H&S 2021/Iris® Xe Graphics/Backlit/Mineral Grey/1.7 Kg) 20VE00W4IH',\n",
       " 'ASUS TUF Gaming F15 (2022), 15.6-inch (39.62 cms) FHD 144Hz, Intel Core i7-12700H 12th Gen, RTX 3050 Ti 4GB Graphics, Gaming Laptop (16GB/512GB SSD/Windows 11/Gray/2.2 Kg), FX507ZE-HN038W',\n",
       " 'ASUS Vivobook 15, 15.6-inch (39.62 cms) FHD, Intel Core i7-1065G7 10th Gen, Thin and Light Laptop (16GB/512GB SSD/Iris Plus Graphics/Windows 11/Office 2021/Silver/1.8 kg), X515JA-EJ701WS']"
      ]
     },
     "execution_count": 72,
     "metadata": {},
     "output_type": "execute_result"
    }
   ],
   "source": [
    "#creating an empty list to scrap all title names\n",
    "title1=[]\n",
    "#scrapting all the tags brand names\n",
    "lap=driver.find_elements(By.CLASS_NAME,\"a-size-mini\")\n",
    "\n",
    "#displaying 10 tags extracted above into text \n",
    "for i in lap:\n",
    "    title1.append(i.text)\n",
    "title1[0:10]"
   ]
  },
  {
   "cell_type": "code",
   "execution_count": 73,
   "id": "3c1d65f3",
   "metadata": {},
   "outputs": [
    {
     "data": {
      "text/plain": [
       "['94,999',\n",
       " '84,990',\n",
       " '62,990',\n",
       " '1,04,990',\n",
       " '82,400',\n",
       " '87,990',\n",
       " '81,900',\n",
       " '1,09,990',\n",
       " '57,990',\n",
       " '94,990']"
      ]
     },
     "execution_count": 73,
     "metadata": {},
     "output_type": "execute_result"
    }
   ],
   "source": [
    "#creating an empty list to scrap all prices for laptops\n",
    "price_laptop=[]\n",
    "#scrapting all the tags brand names\n",
    "lap_price=driver.find_elements(By.CLASS_NAME,\"a-price-whole\")\n",
    "\n",
    "#displaying 10 tags extracted above into text \n",
    "for i in lap_price:\n",
    "    price_laptop.append(i.text)\n",
    "price_laptop[0:10]"
   ]
  },
  {
   "cell_type": "code",
   "execution_count": 75,
   "id": "99d90125",
   "metadata": {},
   "outputs": [
    {
     "data": {
      "text/html": [
       "<div>\n",
       "<style scoped>\n",
       "    .dataframe tbody tr th:only-of-type {\n",
       "        vertical-align: middle;\n",
       "    }\n",
       "\n",
       "    .dataframe tbody tr th {\n",
       "        vertical-align: top;\n",
       "    }\n",
       "\n",
       "    .dataframe thead th {\n",
       "        text-align: right;\n",
       "    }\n",
       "</style>\n",
       "<table border=\"1\" class=\"dataframe\">\n",
       "  <thead>\n",
       "    <tr style=\"text-align: right;\">\n",
       "      <th></th>\n",
       "      <th>Laptop name</th>\n",
       "      <th>Price</th>\n",
       "    </tr>\n",
       "  </thead>\n",
       "  <tbody>\n",
       "    <tr>\n",
       "      <th>0</th>\n",
       "      <td>LG Gram Intel Evo 11th Gen Core i7 17\"(43cm)Ul...</td>\n",
       "      <td>94,999</td>\n",
       "    </tr>\n",
       "    <tr>\n",
       "      <th>1</th>\n",
       "      <td>Fujitsu UH-X 11th Gen Intel Core i7 13.3” FHD ...</td>\n",
       "      <td>84,990</td>\n",
       "    </tr>\n",
       "    <tr>\n",
       "      <th>2</th>\n",
       "      <td>Lenovo Ideapad Gaming 3 Intel Core i7 10th Gen...</td>\n",
       "      <td>62,990</td>\n",
       "    </tr>\n",
       "    <tr>\n",
       "      <th>3</th>\n",
       "      <td>Acer Nitro 5 Gaming Laptop/12th Gen Intel Core...</td>\n",
       "      <td>1,04,990</td>\n",
       "    </tr>\n",
       "    <tr>\n",
       "      <th>4</th>\n",
       "      <td>₹1,04,990\\n₹1,23,999</td>\n",
       "      <td>82,400</td>\n",
       "    </tr>\n",
       "    <tr>\n",
       "      <th>5</th>\n",
       "      <td>Hp Pavilion X360 11Th Gen Intel Core I7 14 Inc...</td>\n",
       "      <td>87,990</td>\n",
       "    </tr>\n",
       "    <tr>\n",
       "      <th>6</th>\n",
       "      <td>HP Pavilion 14 12th Gen Intel Core i7 16GB SDR...</td>\n",
       "      <td>81,900</td>\n",
       "    </tr>\n",
       "    <tr>\n",
       "      <th>7</th>\n",
       "      <td>Lenovo ThinkBook 15 Intel 11th Gen Core i7 15....</td>\n",
       "      <td>1,09,990</td>\n",
       "    </tr>\n",
       "    <tr>\n",
       "      <th>8</th>\n",
       "      <td>ASUS TUF Gaming F15 (2022), 15.6-inch (39.62 c...</td>\n",
       "      <td>57,990</td>\n",
       "    </tr>\n",
       "    <tr>\n",
       "      <th>9</th>\n",
       "      <td>ASUS Vivobook 15, 15.6-inch (39.62 cms) FHD, I...</td>\n",
       "      <td>94,990</td>\n",
       "    </tr>\n",
       "  </tbody>\n",
       "</table>\n",
       "</div>"
      ],
      "text/plain": [
       "                                         Laptop name     Price\n",
       "0  LG Gram Intel Evo 11th Gen Core i7 17\"(43cm)Ul...    94,999\n",
       "1  Fujitsu UH-X 11th Gen Intel Core i7 13.3” FHD ...    84,990\n",
       "2  Lenovo Ideapad Gaming 3 Intel Core i7 10th Gen...    62,990\n",
       "3  Acer Nitro 5 Gaming Laptop/12th Gen Intel Core...  1,04,990\n",
       "4                               ₹1,04,990\\n₹1,23,999    82,400\n",
       "5  Hp Pavilion X360 11Th Gen Intel Core I7 14 Inc...    87,990\n",
       "6  HP Pavilion 14 12th Gen Intel Core i7 16GB SDR...    81,900\n",
       "7  Lenovo ThinkBook 15 Intel 11th Gen Core i7 15....  1,09,990\n",
       "8  ASUS TUF Gaming F15 (2022), 15.6-inch (39.62 c...    57,990\n",
       "9  ASUS Vivobook 15, 15.6-inch (39.62 cms) FHD, I...    94,990"
      ]
     },
     "execution_count": 75,
     "metadata": {},
     "output_type": "execute_result"
    }
   ],
   "source": [
    "import pandas as pd\n",
    "df = pd.DataFrame({'Laptop name':title1[0:10],'Price':price_laptop[0:10]})\n",
    "df"
   ]
  },
  {
   "cell_type": "code",
   "execution_count": 76,
   "id": "77e50a09",
   "metadata": {},
   "outputs": [],
   "source": [
    "driver.close()"
   ]
  },
  {
   "cell_type": "code",
   "execution_count": 77,
   "id": "dc696059",
   "metadata": {},
   "outputs": [],
   "source": [
    "from selenium.common.exceptions import NoSuchElementException"
   ]
  },
  {
   "cell_type": "markdown",
   "id": "22929da6",
   "metadata": {},
   "source": [
    "# Q9: Write a python program to scrape data for first 10 job results for Data Scientist Designation in Noida location. You have to scrape company name, No. of days ago when job was posted, Rating of the company. \n",
    "This task will be done in following steps:\n",
    "1. First get the webpage https://www.ambitionbox.com/\n",
    "2. Click on the Job option as shown in the image\n",
    "3. After reaching to the next webpage, In place of “Search by Designations, Companies, Skills” enter\n",
    "“Data Scientist” and click on search button.\n",
    "4. You will reach to the following web page click on location and in place of “Search location” enter\n",
    "“Noida” and select location “Noida”.\n",
    "5. Then scrape the data for the first 10 jobs results you get on the above shown page.\n",
    "6. Finally create a dataframe of the scraped data."
   ]
  },
  {
   "cell_type": "code",
   "execution_count": 51,
   "id": "bc051463",
   "metadata": {},
   "outputs": [],
   "source": [
    "# let's first connect to the web driver\n",
    "driver = webdriver.Chrome(r\"C:\\Users\\Sunny\\Downloads\\chromedriver_win32\\chromedriver.exe\")"
   ]
  },
  {
   "cell_type": "code",
   "execution_count": 52,
   "id": "0c1739e5",
   "metadata": {},
   "outputs": [],
   "source": [
    "url = 'https://www.ambitionbox.com/'\n",
    "driver.get(url)"
   ]
  },
  {
   "cell_type": "code",
   "execution_count": 53,
   "id": "f78bc9ec",
   "metadata": {},
   "outputs": [],
   "source": [
    "# Clicking on the Job option\n",
    "search_jobspage = driver.find_element(By.XPATH,\"/html/body/div[1]/nav[2]/div/ul/li[5]/a\")\n",
    "search_jobspage.click()"
   ]
  },
  {
   "cell_type": "code",
   "execution_count": 54,
   "id": "43ffd4ea",
   "metadata": {},
   "outputs": [],
   "source": [
    "# searching for data scientist jobs\n",
    "search = driver.find_element(By.XPATH,\"/html/body/div/div/div/div[2]/div[1]/div[1]/div/div/div/div/span/input\")\n",
    "search.send_keys('Data Scientist')"
   ]
  },
  {
   "cell_type": "code",
   "execution_count": 55,
   "id": "48f2a98c",
   "metadata": {},
   "outputs": [],
   "source": [
    "# clicking on the search button\n",
    "search1 = driver.find_element(By.CLASS_NAME,\"ctas-btn-medium\")\n",
    "search1.click()"
   ]
  },
  {
   "cell_type": "code",
   "execution_count": 56,
   "id": "362158d4",
   "metadata": {},
   "outputs": [],
   "source": [
    "# clicking on first filter of location\n",
    "filter1 = driver.find_element(By.XPATH,\"/html/body/div/div/div/div[2]/div[1]/div[2]/div[1]/div/div/div/div[2]/div[1]/p\")\n",
    "filter1.click()"
   ]
  },
  {
   "cell_type": "code",
   "execution_count": 57,
   "id": "6474c00f",
   "metadata": {},
   "outputs": [],
   "source": [
    "# searching location Noida in the filter\n",
    "search_location = driver.find_element(By.XPATH,\"/html/body/div/div/div/div[2]/div[1]/div[2]/div[1]/div/div/div/div[2]/div[2]/div/div[2]/input\")\n",
    "search_location.send_keys(\"Noida\")"
   ]
  },
  {
   "cell_type": "code",
   "execution_count": 58,
   "id": "9911bccf",
   "metadata": {},
   "outputs": [],
   "source": [
    "# clicking Noida filter\n",
    "filter2 = driver.find_element(By.XPATH,\"/html/body/div/div/div/div[2]/div[1]/div[2]/div[1]/div/div/div/div[2]/div[2]/div/div[3]/div[1]/div[1]/div/label\")\n",
    "filter2.click()"
   ]
  },
  {
   "cell_type": "code",
   "execution_count": 60,
   "id": "f555cc6f",
   "metadata": {},
   "outputs": [
    {
     "data": {
      "text/plain": [
       "['CBRE South Asia Pvt Ltd',\n",
       " 'CBRE South Asia Pvt Ltd',\n",
       " 'GENPACT India Private Limited',\n",
       " 'Genpact',\n",
       " 'Ericsson India Global Services Pvt. Ltd.',\n",
       " 'GENPACT India Private Limited',\n",
       " 'Optum Global Solutions (India) Private Limited',\n",
       " 'Optum Global Solutions (India) Private Limited',\n",
       " 'Ericsson India Global Services Pvt. Ltd.',\n",
       " 'SOPRA STERIA INDIA LIMITED']"
      ]
     },
     "execution_count": 60,
     "metadata": {},
     "output_type": "execute_result"
    }
   ],
   "source": [
    "#creating an empty list to scrap all company names \n",
    "company_name=[]\n",
    "#scrapting all the tags company names\n",
    "job=driver.find_elements(By.CLASS_NAME,'company')\n",
    "\n",
    "#displaying 10 tags extracted above into text \n",
    "for i in job:\n",
    "    company_name.append(i.text)\n",
    "company_name[0:10]"
   ]
  },
  {
   "cell_type": "code",
   "execution_count": 61,
   "id": "1c1e9fa8",
   "metadata": {},
   "outputs": [
    {
     "data": {
      "text/plain": [
       "['4.3', '4.0', '4.0', '4.3', '4.0', '4.1', '4.1', '4.3', '4.2', '3.9']"
      ]
     },
     "execution_count": 61,
     "metadata": {},
     "output_type": "execute_result"
    }
   ],
   "source": [
    "#creating an empty list to scrap all ratings of company \n",
    "rating=[]\n",
    "#scrapting all the tags for experience_required\n",
    "rating_tag=driver.find_elements(By.CLASS_NAME,'body-small')\n",
    "\n",
    "#displaying 10 tags extracted above into text \n",
    "for i in rating_tag:\n",
    "    rating.append(i.text)\n",
    "rating[0:10]"
   ]
  },
  {
   "cell_type": "code",
   "execution_count": 62,
   "id": "0218a24b",
   "metadata": {},
   "outputs": [
    {
     "data": {
      "text/plain": [
       "['7d ago',\n",
       " '',\n",
       " '4hr ago',\n",
       " '',\n",
       " '2d ago',\n",
       " 'via iimjobs.com',\n",
       " '17d ago',\n",
       " '',\n",
       " '10d ago',\n",
       " '']"
      ]
     },
     "execution_count": 62,
     "metadata": {},
     "output_type": "execute_result"
    }
   ],
   "source": [
    "#creating an empty list to scrap 10 details of reviews\n",
    "days_ago=[]\n",
    "#scrapting all the tags having reviews\n",
    "day=driver.find_elements(By.XPATH,'//span[@class=\"body-small-l\"]')\n",
    "\n",
    "#displaying 10 tags extracted into text\n",
    "for i in day:\n",
    "    days_ago.append(i.text.replace('via naukri.com',''))\n",
    "days_ago[0:10]"
   ]
  },
  {
   "cell_type": "code",
   "execution_count": 63,
   "id": "0e40a32e",
   "metadata": {},
   "outputs": [
    {
     "name": "stdout",
     "output_type": "stream",
     "text": [
      "10 10 10\n"
     ]
    }
   ],
   "source": [
    "print(len(company_name[0:10]),len(rating[0:10]),len(days_ago[0:10]))"
   ]
  },
  {
   "cell_type": "code",
   "execution_count": 64,
   "id": "f7dd1218",
   "metadata": {},
   "outputs": [
    {
     "data": {
      "text/html": [
       "<div>\n",
       "<style scoped>\n",
       "    .dataframe tbody tr th:only-of-type {\n",
       "        vertical-align: middle;\n",
       "    }\n",
       "\n",
       "    .dataframe tbody tr th {\n",
       "        vertical-align: top;\n",
       "    }\n",
       "\n",
       "    .dataframe thead th {\n",
       "        text-align: right;\n",
       "    }\n",
       "</style>\n",
       "<table border=\"1\" class=\"dataframe\">\n",
       "  <thead>\n",
       "    <tr style=\"text-align: right;\">\n",
       "      <th></th>\n",
       "      <th>Company_name</th>\n",
       "      <th>Rating</th>\n",
       "      <th>Days ago</th>\n",
       "    </tr>\n",
       "  </thead>\n",
       "  <tbody>\n",
       "    <tr>\n",
       "      <th>0</th>\n",
       "      <td>CBRE South Asia Pvt Ltd</td>\n",
       "      <td>4.3</td>\n",
       "      <td>7d ago</td>\n",
       "    </tr>\n",
       "    <tr>\n",
       "      <th>1</th>\n",
       "      <td>CBRE South Asia Pvt Ltd</td>\n",
       "      <td>4.0</td>\n",
       "      <td></td>\n",
       "    </tr>\n",
       "    <tr>\n",
       "      <th>2</th>\n",
       "      <td>GENPACT India Private Limited</td>\n",
       "      <td>4.0</td>\n",
       "      <td>4hr ago</td>\n",
       "    </tr>\n",
       "    <tr>\n",
       "      <th>3</th>\n",
       "      <td>Genpact</td>\n",
       "      <td>4.3</td>\n",
       "      <td></td>\n",
       "    </tr>\n",
       "    <tr>\n",
       "      <th>4</th>\n",
       "      <td>Ericsson India Global Services Pvt. Ltd.</td>\n",
       "      <td>4.0</td>\n",
       "      <td>2d ago</td>\n",
       "    </tr>\n",
       "    <tr>\n",
       "      <th>5</th>\n",
       "      <td>GENPACT India Private Limited</td>\n",
       "      <td>4.1</td>\n",
       "      <td>via iimjobs.com</td>\n",
       "    </tr>\n",
       "    <tr>\n",
       "      <th>6</th>\n",
       "      <td>Optum Global Solutions (India) Private Limited</td>\n",
       "      <td>4.1</td>\n",
       "      <td>17d ago</td>\n",
       "    </tr>\n",
       "    <tr>\n",
       "      <th>7</th>\n",
       "      <td>Optum Global Solutions (India) Private Limited</td>\n",
       "      <td>4.3</td>\n",
       "      <td></td>\n",
       "    </tr>\n",
       "    <tr>\n",
       "      <th>8</th>\n",
       "      <td>Ericsson India Global Services Pvt. Ltd.</td>\n",
       "      <td>4.2</td>\n",
       "      <td>10d ago</td>\n",
       "    </tr>\n",
       "    <tr>\n",
       "      <th>9</th>\n",
       "      <td>SOPRA STERIA INDIA LIMITED</td>\n",
       "      <td>3.9</td>\n",
       "      <td></td>\n",
       "    </tr>\n",
       "  </tbody>\n",
       "</table>\n",
       "</div>"
      ],
      "text/plain": [
       "                                     Company_name Rating         Days ago\n",
       "0                         CBRE South Asia Pvt Ltd    4.3           7d ago\n",
       "1                         CBRE South Asia Pvt Ltd    4.0                 \n",
       "2                   GENPACT India Private Limited    4.0          4hr ago\n",
       "3                                         Genpact    4.3                 \n",
       "4        Ericsson India Global Services Pvt. Ltd.    4.0           2d ago\n",
       "5                   GENPACT India Private Limited    4.1  via iimjobs.com\n",
       "6  Optum Global Solutions (India) Private Limited    4.1          17d ago\n",
       "7  Optum Global Solutions (India) Private Limited    4.3                 \n",
       "8        Ericsson India Global Services Pvt. Ltd.    4.2          10d ago\n",
       "9                      SOPRA STERIA INDIA LIMITED    3.9                 "
      ]
     },
     "execution_count": 64,
     "metadata": {},
     "output_type": "execute_result"
    }
   ],
   "source": [
    "import pandas as pd\n",
    "df = pd.DataFrame({'Company_name':company_name[0:10],'Rating':rating[0:10],'Days ago':days_ago[0:10]})\n",
    "df"
   ]
  },
  {
   "cell_type": "code",
   "execution_count": 65,
   "id": "543ce9de",
   "metadata": {},
   "outputs": [],
   "source": [
    "driver.close()"
   ]
  },
  {
   "cell_type": "code",
   "execution_count": 66,
   "id": "9d314351",
   "metadata": {},
   "outputs": [],
   "source": [
    "from selenium.common.exceptions import NoSuchElementException"
   ]
  },
  {
   "cell_type": "markdown",
   "id": "d5fd8f38",
   "metadata": {},
   "source": [
    "# Q10: Write a python program to scrape the salary data for Data Scientist designation. You have to scrape Company name, Number of salaries, Average salary, Minsalary, Max Salary. \n",
    "The above task will be, done as shown in the below steps:\n",
    "1. First get the webpage https://www.ambitionbox.com/\n",
    "2. Click on the salaries option as shown in the image.\n",
    "3. After reaching to the following webpage, In place of “Search Job Profile” enters “Data Scientist” and \n",
    "then click on “Data Scientist”.\n",
    "You have to scrape the data ticked in the above image.\n",
    "4. Scrape the data for the first 10 companies. Scrape the company name, total salary record, average \n",
    "salary, minimum salary, maximum salary, experience required.\n",
    "5. Store the data in a dataframe."
   ]
  },
  {
   "cell_type": "code",
   "execution_count": 78,
   "id": "0430853c",
   "metadata": {},
   "outputs": [],
   "source": [
    "# let's first connect to the web driver\n",
    "driver = webdriver.Chrome(r\"C:\\Users\\Sunny\\Downloads\\chromedriver_win32\\chromedriver.exe\")"
   ]
  },
  {
   "cell_type": "code",
   "execution_count": 79,
   "id": "116bc1a5",
   "metadata": {},
   "outputs": [],
   "source": [
    "driver.get('https://www.ambitionbox.com/')"
   ]
  },
  {
   "cell_type": "code",
   "execution_count": 80,
   "id": "299949c1",
   "metadata": {},
   "outputs": [],
   "source": [
    "# Clicking on the salary option\n",
    "search_salarypage = driver.find_element(By.XPATH,\"/html/body/div[1]/nav[2]/div/ul/li[3]/i\")\n",
    "search_salarypage.click()"
   ]
  },
  {
   "cell_type": "code",
   "execution_count": 81,
   "id": "5520e53b",
   "metadata": {},
   "outputs": [],
   "source": [
    "# browsing 1st option in salary field:\n",
    "search1 = driver.find_element(By.XPATH,\"/html/body/div[1]/nav[2]/div/ul/li[3]/div/ul/li[1]/div/div[2]/a\")\n",
    "search1.click()"
   ]
  },
  {
   "cell_type": "code",
   "execution_count": 82,
   "id": "e50da962",
   "metadata": {},
   "outputs": [],
   "source": [
    "# searching for data scientist jobs\n",
    "searchjob = driver.find_element(By.XPATH,\"/html/body/div/div/div/main/section[1]/div[2]/div[1]/span/input\")\n",
    "searchjob.send_keys('Data Scientist') "
   ]
  },
  {
   "cell_type": "code",
   "execution_count": 83,
   "id": "ebcaaeab",
   "metadata": {},
   "outputs": [],
   "source": [
    "# clicking on the search button\n",
    "searchbtn = driver.find_element(By.XPATH,\"/html/body/div/div/div/main/section[1]/div[2]/div[1]/span/div/div/div[1]/div/div/p\")\n",
    "searchbtn.click()"
   ]
  },
  {
   "cell_type": "code",
   "execution_count": 84,
   "id": "8556254d",
   "metadata": {},
   "outputs": [
    {
     "data": {
      "text/plain": [
       "['Walmart\\nData Scientist Salary\\n3-4 yrs experience (based on 22 salaries)',\n",
       " 'Ab Inbev\\nData Scientist Salary\\n2-4 yrs experience (based on 53 salaries)',\n",
       " 'Optum\\nData Scientist Salary\\n2-4 yrs experience (based on 48 salaries)',\n",
       " 'ZS\\nData Scientist Salary\\n1-2 yrs experience (based on 33 salaries)',\n",
       " 'Fractal Analytics\\nData Scientist Salary\\n2-4 yrs experience (based on 109 salaries)',\n",
       " 'Tiger Analytics\\nData Scientist Salary\\n2-4 yrs experience (based on 65 salaries)',\n",
       " 'Legato Health Technologies\\nData Scientist Salary\\n4 yrs experience (based on 11 salaries)',\n",
       " 'Tredence\\nData Scientist Salary\\n3 yrs experience (based on 12 salaries)',\n",
       " 'UnitedHealth\\nData Scientist Salary\\n2-4 yrs experience (based on 91 salaries)',\n",
       " 'Ford Motor\\nData Scientist Salary\\n3-4 yrs experience (based on 21 salaries)']"
      ]
     },
     "execution_count": 84,
     "metadata": {},
     "output_type": "execute_result"
    }
   ],
   "source": [
    "#creating an empty list to scrap all company names \n",
    "company_name=[]\n",
    "#scrapting all the tags company names\n",
    "job=driver.find_elements(By.CLASS_NAME,\"company-info\")\n",
    "\n",
    "#displaying 10 tags extracted above into text \n",
    "for i in job:\n",
    "    company_name.append(i.text)\n",
    "company_name[0:10]"
   ]
  },
  {
   "cell_type": "code",
   "execution_count": 85,
   "id": "a2d3c404",
   "metadata": {},
   "outputs": [
    {
     "data": {
      "text/plain": [
       "['(based on 22 salaries)',\n",
       " '(based on 53 salaries)',\n",
       " '(based on 48 salaries)',\n",
       " '(based on 33 salaries)',\n",
       " '(based on 109 salaries)',\n",
       " '(based on 65 salaries)',\n",
       " '(based on 11 salaries)',\n",
       " '(based on 12 salaries)',\n",
       " '(based on 91 salaries)',\n",
       " '(based on 21 salaries)']"
      ]
     },
     "execution_count": 85,
     "metadata": {},
     "output_type": "execute_result"
    }
   ],
   "source": [
    "#creating an empty list to scrap all total salaries\n",
    "total_salary=[]\n",
    "#scrapting all the tags company names\n",
    "total_sal=driver.find_elements(By.CLASS_NAME,\"datapoints\")\n",
    "\n",
    "#displaying 10 tags extracted above into text \n",
    "for i in total_sal:\n",
    "    total_salary.append(i.text)\n",
    "total_salary[0:10]"
   ]
  },
  {
   "cell_type": "code",
   "execution_count": 86,
   "id": "8e0278fb",
   "metadata": {},
   "outputs": [
    {
     "data": {
      "text/plain": [
       "['₹ 31.7L',\n",
       " '₹ 19.7L',\n",
       " '₹ 16.5L',\n",
       " '₹ 15.7L',\n",
       " '₹ 15.2L',\n",
       " '₹ 14.7L',\n",
       " '₹ 14.5L',\n",
       " '₹ 14.1L',\n",
       " '₹ 13.6L',\n",
       " '₹ 13.5L']"
      ]
     },
     "execution_count": 86,
     "metadata": {},
     "output_type": "execute_result"
    }
   ],
   "source": [
    "#creating an empty list to scrap all average salaries\n",
    "average_salary=[]\n",
    "#scrapting all the tags company names\n",
    "average_sal=driver.find_elements(By.CLASS_NAME,\"averageCtc\")\n",
    "\n",
    "#displaying 10 tags extracted above into text \n",
    "for i in average_sal:\n",
    "    average_salary.append(i.text)\n",
    "average_salary[0:10]"
   ]
  },
  {
   "cell_type": "code",
   "execution_count": 87,
   "id": "f600f394",
   "metadata": {},
   "outputs": [
    {
     "data": {
      "text/plain": [
       "['₹ 25.0L',\n",
       " '₹ 45.0L',\n",
       " '₹ 15.0L',\n",
       " '₹ 25.5L',\n",
       " '₹ 11.0L',\n",
       " '₹ 22.6L',\n",
       " '₹ 11.0L',\n",
       " '₹ 22.0L',\n",
       " '₹ 9.0L',\n",
       " '₹ 23.0L']"
      ]
     },
     "execution_count": 87,
     "metadata": {},
     "output_type": "execute_result"
    }
   ],
   "source": [
    "#creating an empty list to scrap all minimum salasries\n",
    "min_salary=[]\n",
    "#scrapting all the tags company names\n",
    "min_sal=driver.find_elements(By.CLASS_NAME,\"value\")\n",
    "\n",
    "#displaying 10 tags extracted above into text \n",
    "for i in min_sal:\n",
    "    min_salary.append(i.text)\n",
    "min_salary[0:10]"
   ]
  },
  {
   "cell_type": "code",
   "execution_count": 88,
   "id": "63b7ffa8",
   "metadata": {},
   "outputs": [
    {
     "data": {
      "text/plain": [
       "['₹ 45.0L',\n",
       " '₹ 25.5L',\n",
       " '₹ 22.6L',\n",
       " '₹ 22.0L',\n",
       " '₹ 23.0L',\n",
       " '₹ 20.0L',\n",
       " '₹ 20.0L',\n",
       " '₹ 17.5L',\n",
       " '₹ 20.5L',\n",
       " '₹ 18.0L']"
      ]
     },
     "execution_count": 88,
     "metadata": {},
     "output_type": "execute_result"
    }
   ],
   "source": [
    "#creating an empty list to scrap all maximum salaries\n",
    "max_salary=[]\n",
    "#scrapting all the tags company names\n",
    "max_sal=driver.find_elements(By.XPATH,\"//div[@class='salary-values']/div[2]\")\n",
    "\n",
    "#displaying 10 tags extracted above into text \n",
    "for i in max_sal:\n",
    "    max_salary.append(i.text)\n",
    "max_salary[0:10]"
   ]
  },
  {
   "cell_type": "code",
   "execution_count": 89,
   "id": "d33e4ef2",
   "metadata": {},
   "outputs": [
    {
     "data": {
      "text/plain": [
       "['3-4 yrs experience (based on 22 salaries)',\n",
       " '2-4 yrs experience (based on 53 salaries)',\n",
       " '2-4 yrs experience (based on 48 salaries)',\n",
       " '1-2 yrs experience (based on 33 salaries)',\n",
       " '2-4 yrs experience (based on 109 salaries)',\n",
       " '2-4 yrs experience (based on 65 salaries)',\n",
       " '4 yrs experience (based on 11 salaries)',\n",
       " '3 yrs experience (based on 12 salaries)',\n",
       " '2-4 yrs experience (based on 91 salaries)',\n",
       " '3-4 yrs experience (based on 21 salaries)']"
      ]
     },
     "execution_count": 89,
     "metadata": {},
     "output_type": "execute_result"
    }
   ],
   "source": [
    "#creating an empty list to scrap all exp req\n",
    "exp_req=[]\n",
    "#scrapting all the tags company names\n",
    "exp=driver.find_elements(By.CLASS_NAME,\"sbold-list-header\")\n",
    "\n",
    "#displaying 10 tags extracted above into text \n",
    "for i in exp:\n",
    "    exp_req.append(i.text)\n",
    "exp_req[0:10]"
   ]
  },
  {
   "cell_type": "code",
   "execution_count": 90,
   "id": "de5f2e8d",
   "metadata": {},
   "outputs": [
    {
     "name": "stdout",
     "output_type": "stream",
     "text": [
      "10 10 10 10 10 10\n"
     ]
    }
   ],
   "source": [
    "print(len(company_name[0:10]),len(total_salary[0:10]),len(average_salary[0:10]),len(min_salary[0:10]),len(max_salary[0:10]),len(exp_req[0:10]))"
   ]
  },
  {
   "cell_type": "code",
   "execution_count": 91,
   "id": "9f54e29e",
   "metadata": {},
   "outputs": [
    {
     "data": {
      "text/html": [
       "<div>\n",
       "<style scoped>\n",
       "    .dataframe tbody tr th:only-of-type {\n",
       "        vertical-align: middle;\n",
       "    }\n",
       "\n",
       "    .dataframe tbody tr th {\n",
       "        vertical-align: top;\n",
       "    }\n",
       "\n",
       "    .dataframe thead th {\n",
       "        text-align: right;\n",
       "    }\n",
       "</style>\n",
       "<table border=\"1\" class=\"dataframe\">\n",
       "  <thead>\n",
       "    <tr style=\"text-align: right;\">\n",
       "      <th></th>\n",
       "      <th>Comapny_name</th>\n",
       "      <th>Total salary</th>\n",
       "      <th>Average salary</th>\n",
       "      <th>Minimum Salary</th>\n",
       "      <th>Maximum Salary</th>\n",
       "      <th>Experience Required</th>\n",
       "    </tr>\n",
       "  </thead>\n",
       "  <tbody>\n",
       "    <tr>\n",
       "      <th>0</th>\n",
       "      <td>Walmart\\nData Scientist Salary\\n3-4 yrs experi...</td>\n",
       "      <td>(based on 22 salaries)</td>\n",
       "      <td>₹ 31.7L</td>\n",
       "      <td>₹ 25.0L</td>\n",
       "      <td>₹ 45.0L</td>\n",
       "      <td>3-4 yrs experience (based on 22 salaries)</td>\n",
       "    </tr>\n",
       "    <tr>\n",
       "      <th>1</th>\n",
       "      <td>Ab Inbev\\nData Scientist Salary\\n2-4 yrs exper...</td>\n",
       "      <td>(based on 53 salaries)</td>\n",
       "      <td>₹ 19.7L</td>\n",
       "      <td>₹ 45.0L</td>\n",
       "      <td>₹ 25.5L</td>\n",
       "      <td>2-4 yrs experience (based on 53 salaries)</td>\n",
       "    </tr>\n",
       "    <tr>\n",
       "      <th>2</th>\n",
       "      <td>Optum\\nData Scientist Salary\\n2-4 yrs experien...</td>\n",
       "      <td>(based on 48 salaries)</td>\n",
       "      <td>₹ 16.5L</td>\n",
       "      <td>₹ 15.0L</td>\n",
       "      <td>₹ 22.6L</td>\n",
       "      <td>2-4 yrs experience (based on 48 salaries)</td>\n",
       "    </tr>\n",
       "    <tr>\n",
       "      <th>3</th>\n",
       "      <td>ZS\\nData Scientist Salary\\n1-2 yrs experience ...</td>\n",
       "      <td>(based on 33 salaries)</td>\n",
       "      <td>₹ 15.7L</td>\n",
       "      <td>₹ 25.5L</td>\n",
       "      <td>₹ 22.0L</td>\n",
       "      <td>1-2 yrs experience (based on 33 salaries)</td>\n",
       "    </tr>\n",
       "    <tr>\n",
       "      <th>4</th>\n",
       "      <td>Fractal Analytics\\nData Scientist Salary\\n2-4 ...</td>\n",
       "      <td>(based on 109 salaries)</td>\n",
       "      <td>₹ 15.2L</td>\n",
       "      <td>₹ 11.0L</td>\n",
       "      <td>₹ 23.0L</td>\n",
       "      <td>2-4 yrs experience (based on 109 salaries)</td>\n",
       "    </tr>\n",
       "    <tr>\n",
       "      <th>5</th>\n",
       "      <td>Tiger Analytics\\nData Scientist Salary\\n2-4 yr...</td>\n",
       "      <td>(based on 65 salaries)</td>\n",
       "      <td>₹ 14.7L</td>\n",
       "      <td>₹ 22.6L</td>\n",
       "      <td>₹ 20.0L</td>\n",
       "      <td>2-4 yrs experience (based on 65 salaries)</td>\n",
       "    </tr>\n",
       "    <tr>\n",
       "      <th>6</th>\n",
       "      <td>Legato Health Technologies\\nData Scientist Sal...</td>\n",
       "      <td>(based on 11 salaries)</td>\n",
       "      <td>₹ 14.5L</td>\n",
       "      <td>₹ 11.0L</td>\n",
       "      <td>₹ 20.0L</td>\n",
       "      <td>4 yrs experience (based on 11 salaries)</td>\n",
       "    </tr>\n",
       "    <tr>\n",
       "      <th>7</th>\n",
       "      <td>Tredence\\nData Scientist Salary\\n3 yrs experie...</td>\n",
       "      <td>(based on 12 salaries)</td>\n",
       "      <td>₹ 14.1L</td>\n",
       "      <td>₹ 22.0L</td>\n",
       "      <td>₹ 17.5L</td>\n",
       "      <td>3 yrs experience (based on 12 salaries)</td>\n",
       "    </tr>\n",
       "    <tr>\n",
       "      <th>8</th>\n",
       "      <td>UnitedHealth\\nData Scientist Salary\\n2-4 yrs e...</td>\n",
       "      <td>(based on 91 salaries)</td>\n",
       "      <td>₹ 13.6L</td>\n",
       "      <td>₹ 9.0L</td>\n",
       "      <td>₹ 20.5L</td>\n",
       "      <td>2-4 yrs experience (based on 91 salaries)</td>\n",
       "    </tr>\n",
       "    <tr>\n",
       "      <th>9</th>\n",
       "      <td>Ford Motor\\nData Scientist Salary\\n3-4 yrs exp...</td>\n",
       "      <td>(based on 21 salaries)</td>\n",
       "      <td>₹ 13.5L</td>\n",
       "      <td>₹ 23.0L</td>\n",
       "      <td>₹ 18.0L</td>\n",
       "      <td>3-4 yrs experience (based on 21 salaries)</td>\n",
       "    </tr>\n",
       "  </tbody>\n",
       "</table>\n",
       "</div>"
      ],
      "text/plain": [
       "                                        Comapny_name             Total salary  \\\n",
       "0  Walmart\\nData Scientist Salary\\n3-4 yrs experi...   (based on 22 salaries)   \n",
       "1  Ab Inbev\\nData Scientist Salary\\n2-4 yrs exper...   (based on 53 salaries)   \n",
       "2  Optum\\nData Scientist Salary\\n2-4 yrs experien...   (based on 48 salaries)   \n",
       "3  ZS\\nData Scientist Salary\\n1-2 yrs experience ...   (based on 33 salaries)   \n",
       "4  Fractal Analytics\\nData Scientist Salary\\n2-4 ...  (based on 109 salaries)   \n",
       "5  Tiger Analytics\\nData Scientist Salary\\n2-4 yr...   (based on 65 salaries)   \n",
       "6  Legato Health Technologies\\nData Scientist Sal...   (based on 11 salaries)   \n",
       "7  Tredence\\nData Scientist Salary\\n3 yrs experie...   (based on 12 salaries)   \n",
       "8  UnitedHealth\\nData Scientist Salary\\n2-4 yrs e...   (based on 91 salaries)   \n",
       "9  Ford Motor\\nData Scientist Salary\\n3-4 yrs exp...   (based on 21 salaries)   \n",
       "\n",
       "  Average salary Minimum Salary Maximum Salary  \\\n",
       "0        ₹ 31.7L        ₹ 25.0L        ₹ 45.0L   \n",
       "1        ₹ 19.7L        ₹ 45.0L        ₹ 25.5L   \n",
       "2        ₹ 16.5L        ₹ 15.0L        ₹ 22.6L   \n",
       "3        ₹ 15.7L        ₹ 25.5L        ₹ 22.0L   \n",
       "4        ₹ 15.2L        ₹ 11.0L        ₹ 23.0L   \n",
       "5        ₹ 14.7L        ₹ 22.6L        ₹ 20.0L   \n",
       "6        ₹ 14.5L        ₹ 11.0L        ₹ 20.0L   \n",
       "7        ₹ 14.1L        ₹ 22.0L        ₹ 17.5L   \n",
       "8        ₹ 13.6L         ₹ 9.0L        ₹ 20.5L   \n",
       "9        ₹ 13.5L        ₹ 23.0L        ₹ 18.0L   \n",
       "\n",
       "                          Experience Required  \n",
       "0   3-4 yrs experience (based on 22 salaries)  \n",
       "1   2-4 yrs experience (based on 53 salaries)  \n",
       "2   2-4 yrs experience (based on 48 salaries)  \n",
       "3   1-2 yrs experience (based on 33 salaries)  \n",
       "4  2-4 yrs experience (based on 109 salaries)  \n",
       "5   2-4 yrs experience (based on 65 salaries)  \n",
       "6     4 yrs experience (based on 11 salaries)  \n",
       "7     3 yrs experience (based on 12 salaries)  \n",
       "8   2-4 yrs experience (based on 91 salaries)  \n",
       "9   3-4 yrs experience (based on 21 salaries)  "
      ]
     },
     "execution_count": 91,
     "metadata": {},
     "output_type": "execute_result"
    }
   ],
   "source": [
    "import pandas as pd\n",
    "df = pd.DataFrame({'Comapny_name':company_name[0:10],'Total salary':total_salary[0:10],'Average salary':average_salary[0:10],'Minimum Salary':min_salary[0:10],'Maximum Salary':max_salary[0:10],'Experience Required':exp_req[0:10]})\n",
    "df"
   ]
  },
  {
   "cell_type": "code",
   "execution_count": 92,
   "id": "ed52cd20",
   "metadata": {},
   "outputs": [],
   "source": [
    "driver.close()"
   ]
  },
  {
   "cell_type": "code",
   "execution_count": 93,
   "id": "61361b17",
   "metadata": {},
   "outputs": [],
   "source": [
    "from selenium.common.exceptions import NoSuchElementException"
   ]
  }
 ],
 "metadata": {
  "kernelspec": {
   "display_name": "Python 3 (ipykernel)",
   "language": "python",
   "name": "python3"
  },
  "language_info": {
   "codemirror_mode": {
    "name": "ipython",
    "version": 3
   },
   "file_extension": ".py",
   "mimetype": "text/x-python",
   "name": "python",
   "nbconvert_exporter": "python",
   "pygments_lexer": "ipython3",
   "version": "3.9.7"
  }
 },
 "nbformat": 4,
 "nbformat_minor": 5
}
